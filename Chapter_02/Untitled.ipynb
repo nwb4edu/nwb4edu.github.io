{
 "cells": [
  {
   "cell_type": "markdown",
   "id": "6fd21847",
   "metadata": {},
   "source": [
    "# Accessing the Dandihub\n",
    "\n",
    "**JupyterHub** is an online coding environment in which you can run code on a remote server. Usefully, the folks at Dandi have set up a JupyterHub so that you can access any of their datasets. We will be using the Dandihub to interact with these data.\n",
    "\n",
    "## Steps\n",
    "\n",
    "1. If you do not have already, set up a [GitHub account](https://github.com/signup). It's free, and it's a great way to start tracking your code!\n",
    "2. Go to the Dandihub at [https://hub.dandiarchive.org/](https://hub.dandiarchive.org/) and log in using your GitHub account.\n",
    "3. Choose \"Base\" as your server option.\n"
   ]
  }
 ],
 "metadata": {
  "kernelspec": {
   "display_name": "Python 3",
   "language": "python",
   "name": "python3"
  },
  "language_info": {
   "codemirror_mode": {
    "name": "ipython",
    "version": 3
   },
   "file_extension": ".py",
   "mimetype": "text/x-python",
   "name": "python",
   "nbconvert_exporter": "python",
   "pygments_lexer": "ipython3",
   "version": "3.7.3"
  }
 },
 "nbformat": 4,
 "nbformat_minor": 5
}
