{
 "cells": [
  {
   "cell_type": "markdown",
   "metadata": {},
   "source": [
    "# Obtaining Datasets with DANDI"
   ]
  },
  {
   "cell_type": "markdown",
   "metadata": {},
   "source": [
    "[DANDI](https://www.dandiarchive.org/) is an open source data archive for neuroscience datasets, called **Dandisets**. DANDI allows scientists to submit and download neural datasets to promote research collaboration and consistent and transparent data standards. DANDI also provides a solution to the difficulties that come from housing data in the many other general domains (i.e. Dropbox, Google Drive, etc.). Usefully for our purposes here, many of the datasets on DANDI are in NWB format. If you'd like to know more about DANDI, check out the [DANDI handbook](https://www.dandiarchive.org/handbook/).\n",
    "\n",
    "There are two primary ways to work with Dandisets:\n",
    "1. You can **download the datasets locally**, either via the [DANDI Web Application](https://gui.dandiarchive.org/#/dandiset) or using the DANDI Python client below. If you download via the website, you'll need to create an account.\n",
    "2. You can **stream datasets directly** from DANDI.\n",
    "\n",
    "Below, we demonstrate how to do both of these. For additional information on either of these methods, please refer to the [DANDI documentation](https://gui.dandiarchive.org/). "
   ]
  },
  {
   "cell_type": "markdown",
   "metadata": {},
   "source": [
    "## Option 1: Downloading Dandisets using Python "
   ]
  },
  {
   "cell_type": "markdown",
   "metadata": {},
   "source": [
    "First, we need to ensure that you have the [`DANDI` client](https://pypi.org/project/dandi/) installed on your computer. The cell below will try to import DANDI. If you have an old version of DANDI, it will prompt you to install a newer version. Type \"Y\" if you would like to install a new version (this is recommended). If you don't have DANDI at all, it will install the most recent version."
   ]
  },
  {
   "cell_type": "code",
   "execution_count": 1,
   "metadata": {},
   "outputs": [
    {
     "name": "stdout",
     "output_type": "stream",
     "text": [
      "DANDI installed & imported.\n"
     ]
    }
   ],
   "source": [
    "try:\n",
    "    import dandi\n",
    "    if dandi.__version__>='0.35.0':\n",
    "        print('DANDI installed & imported.')\n",
    "    else:\n",
    "        response = input('Old version of DANDI installed. Would you like to install a newer version of DANDI? (Y/N)')\n",
    "        if response == 'Y':\n",
    "            !pip install --upgrade dandi\n",
    "except ImportError as e:\n",
    "    !pip install dandi"
   ]
  },
  {
   "cell_type": "markdown",
   "metadata": {},
   "source": [
    "The cell below will download [this dataset](https://gui.dandiarchive.org/#/dandiset/000006) from DANDI. This dataset contains 32-channel extracellular recordings from mouse cortex. If you have previously run this cell, you do not need to run it again.\n",
    "\n",
    "<mark>**Note:** Downloading this dataset may take several minutes, depending on your internet connection.</mark>"
   ]
  },
  {
   "cell_type": "code",
   "execution_count": 2,
   "metadata": {
    "scrolled": true
   },
   "outputs": [
    {
     "name": "stderr",
     "output_type": "stream",
     "text": [
      "A newer version (0.45.1) of dandi/dandi-cli is available. You are using 0.35.0\n"
     ]
    },
    {
     "name": "stdout",
     "output_type": "stream",
     "text": [
      "PATH                                         SIZE      DONE    DONE% CHECKSUM STATUS     MESSAGE          \n",
      "dandiset.yaml                                                                 skipped    already exists   \n",
      "sub-anm369962/sub-anm369962_ses-20170309.nwb                                  skipped    already exists   \n",
      "sub-anm369962/sub-anm369962_ses-20170316.nwb                                  skipped    already exists   \n",
      "sub-anm369962/sub-anm369962_ses-20170310.nwb                                  skipped    already exists   \n",
      "sub-anm369962/sub-anm369962_ses-20170314.nwb                                  skipped    already exists   \n",
      "sub-anm369962/sub-anm369962_ses-20170313.nwb                                  skipped    already exists   \n",
      "sub-anm369962/sub-anm369962_ses-20170317.nwb                                  skipped    already exists   \n",
      "sub-anm369963/sub-anm369963_ses-20170227.nwb                                  skipped    already exists   \n",
      "sub-anm369963/sub-anm369963_ses-20170226.nwb                                  skipped    already exists   \n",
      "sub-anm369963/sub-anm369963_ses-20170228.nwb                                  skipped    already exists   \n",
      "sub-anm369963/sub-anm369963_ses-20170301.nwb                                  skipped    already exists   \n",
      "sub-anm369963/sub-anm369963_ses-20170302.nwb                                  skipped    already exists   \n",
      "sub-anm369963/sub-anm369963_ses-20170306.nwb                                  skipped    already exists   \n",
      "sub-anm369963/sub-anm369963_ses-20170309.nwb                                  skipped    already exists   \n",
      "sub-anm369963/sub-anm369963_ses-20170310.nwb                                  skipped    already exists   \n",
      "sub-anm369964/sub-anm369964_ses-20170321.nwb                                  skipped    already exists   \n",
      "sub-anm369964/sub-anm369964_ses-20170320.nwb                                  skipped    already exists   \n",
      "sub-anm369964/sub-anm369964_ses-20170322.nwb                                  skipped    already exists   \n",
      "sub-anm369964/sub-anm369964_ses-20170323.nwb                                  skipped    already exists   \n",
      "sub-anm372793/sub-anm372793_ses-20170504.nwb                                  skipped    already exists   \n",
      "sub-anm372793/sub-anm372793_ses-20170508.nwb                                  skipped    already exists   \n",
      "sub-anm372793/sub-anm372793_ses-20170512.nwb                                  skipped    already exists   \n",
      "sub-anm372793/sub-anm372793_ses-20170513.nwb                                  skipped    already exists   \n",
      "sub-anm372794/sub-anm372794_ses-20170621.nwb                                  skipped    already exists   \n",
      "sub-anm372794/sub-anm372794_ses-20170622.nwb                                  skipped    already exists   \n",
      "sub-anm372793/sub-anm372793_ses-20170514.nwb                                  skipped    already exists   \n",
      "sub-anm372794/sub-anm372794_ses-20170624.nwb                                  skipped    already exists   \n",
      "sub-anm372794/sub-anm372794_ses-20170625.nwb                                  skipped    already exists   \n",
      "sub-anm372794/sub-anm372794_ses-20170626.nwb                                  skipped    already exists   \n",
      "sub-anm372794/sub-anm372794_ses-20170627.nwb                                  skipped    already exists   \n",
      "sub-anm372795/sub-anm372795_ses-20170715.nwb                                  skipped    already exists   \n",
      "sub-anm372795/sub-anm372795_ses-20170714.nwb                                  skipped    already exists   \n",
      "sub-anm372795/sub-anm372795_ses-20170716.nwb                                  skipped    already exists   \n",
      "sub-anm372795/sub-anm372795_ses-20170718.nwb                                  skipped    already exists   \n",
      "sub-anm372797/sub-anm372797_ses-20170617.nwb                                  skipped    already exists   \n",
      "sub-anm372904/sub-anm372904_ses-20170615.nwb                                  skipped    already exists   \n",
      "sub-anm372797/sub-anm372797_ses-20170615.nwb                                  skipped    already exists   \n",
      "sub-anm372904/sub-anm372904_ses-20170617.nwb                                  skipped    already exists   \n",
      "sub-anm372904/sub-anm372904_ses-20170616.nwb                                  skipped    already exists   \n",
      "sub-anm372904/sub-anm372904_ses-20170618.nwb                                  skipped    already exists   \n",
      "sub-anm372904/sub-anm372904_ses-20170619.nwb                                  skipped    already exists   \n",
      "sub-anm372905/sub-anm372905_ses-20170715.nwb                                  skipped    already exists   \n",
      "sub-anm372905/sub-anm372905_ses-20170716.nwb                                  skipped    already exists   \n",
      "sub-anm372905/sub-anm372905_ses-20170717.nwb                                  skipped    already exists   \n",
      "sub-anm372906/sub-anm372906_ses-20170608.nwb                                  skipped    already exists   \n",
      "sub-anm372906/sub-anm372906_ses-20170610.nwb                                  skipped    already exists   \n",
      "sub-anm372906/sub-anm372906_ses-20170611.nwb                                  skipped    already exists   \n",
      "sub-anm372906/sub-anm372906_ses-20170612.nwb                                  skipped    already exists   \n",
      "sub-anm372907/sub-anm372907_ses-20170608.nwb                                  skipped    already exists   \n",
      "sub-anm372907/sub-anm372907_ses-20170610.nwb                                  skipped    already exists   \n",
      "sub-anm372907/sub-anm372907_ses-20170613.nwb                                  skipped    already exists   \n",
      "sub-anm372907/sub-anm372907_ses-20170612.nwb                                  skipped    already exists   \n",
      "sub-anm372909/sub-anm372909_ses-20170520.nwb                                  skipped    already exists   \n",
      "sub-anm372909/sub-anm372909_ses-20170522.nwb                                  skipped    already exists   \n",
      "Summary:                                     0 Bytes   0 Bytes                54 skipped 54 already exists\n",
      "                                             +139.6 MB 0.00%                                              \n"
     ]
    }
   ],
   "source": [
    "from dandi.download import download as dandi_download\n",
    "import os \n",
    "\n",
    "#url = \"https://gui.dandiarchive.org/#/folder/5e72b6ac3da50caa9adb0498\"\n",
    "url = 'https://dandiarchive.org/dandiset/000006/draft'\n",
    "dandi_download([url], os.getcwd(), existing=\"skip\")\n",
    "\n",
    "# Alternate way below -- this does not enable \"skip\" option\n",
    "#!dandi download https://dandiarchive.org/dandiset/000006/draft"
   ]
  },
  {
   "cell_type": "markdown",
   "metadata": {},
   "source": [
    "Once the cell above completes running, you will see a new folder 📁\"00006\" wherever you're running this notebook. Usefully, the code above will also print a list of individual NWB files that have been downloaded in this folder.\n",
    "\n",
    "**Once the data is done downloading, you're ready for the next step.**"
   ]
  },
  {
   "cell_type": "markdown",
   "metadata": {},
   "source": [
    "## Option 2: Streaming the Dandiset\n",
    "\n",
    "The folks at NWB have also developed a clever way to stream Dandisets so that small bits of them can be viewed without downloading the entire dataset. This is particularly useful for very large datasets! **This step is optional, and maybe a better option if you have limited hard drive space and/or are having issues with Option 1 above.**\n",
    "\n",
    "### Configuring your environment\n",
    "\n",
    "With some configuration, you can use this method on your local computer. First, you need to set up your environment with the right version of a package called `h5py`. [There are instructions here for how to do that.](https://pynwb.readthedocs.io/en/stable/tutorials/advanced_io/streaming.html#sphx-glr-tutorials-advanced-io-streaming-py). Once you're done, you can restart the kernel for this notebook, and run the code below.\n",
    "\n",
    "### Streaming via the DANDI hub\n",
    "Alternatively, you can run the code below on the DANDI Jupyter Hub (https://hub.dandiarchive.org/). **JupyterHub** is an online coding environment in which you can run code on a remote server. Usefully, the folks at DANDI have set up a JupyterHub so that you can easily access the tools and data. To do so, follow these directions:\n",
    "1. If you do not have already, set up a [GitHub account](https://github.com/signup). It's free, and it's a great way to start tracking your code!\n",
    "2. Go to the Dandihub at [https://hub.dandiarchive.org/](https://hub.dandiarchive.org/) and log in using your GitHub account.\n",
    "3. Choose \"Base\" as your server option.\n",
    "4. Create a new Python 3 notebook and copy and paste the three code cells below.\n",
    "\n",
    "\n",
    "### Code for Data Streaming\n",
    "First, we need to figure out the correct URL for the dataset on the Amazon S3 storage system. There is a tool to do so within the dandiapi, which we'll use below to get the URL for one session from the data we downloaded above."
   ]
  },
  {
   "cell_type": "code",
   "execution_count": 3,
   "metadata": {},
   "outputs": [
    {
     "name": "stdout",
     "output_type": "stream",
     "text": [
      "https://dandiarchive.s3.amazonaws.com/blobs/43b/f3a/43bf3a81-4a0b-433f-b471-1f10303f9d35\n"
     ]
    }
   ],
   "source": [
    "from dandi.dandiapi import DandiAPIClient\n",
    "\n",
    "dandiset_id = '000006'  # ephys dataset from the Svoboda Lab\n",
    "filepath = 'sub-anm372795/sub-anm372795_ses-20170718.nwb'  # 450 kB file\n",
    "\n",
    "with DandiAPIClient() as client:\n",
    "    asset = client.get_dandiset(dandiset_id, 'draft').get_asset_by_path(filepath)\n",
    "    s3_path = asset.get_content_url(follow_redirects=1, strip_query=True)\n",
    "    \n",
    "print(s3_path)"
   ]
  },
  {
   "cell_type": "markdown",
   "metadata": {},
   "source": [
    "Now, we can read this path, but we'll stream it, rather than downloading it! The cell below will print some of the data about this experiment."
   ]
  },
  {
   "cell_type": "code",
   "execution_count": 4,
   "metadata": {},
   "outputs": [
    {
     "ename": "TypeError",
     "evalue": "NWBHDF5IO.__init__: unrecognized argument: 'driver'",
     "output_type": "error",
     "traceback": [
      "\u001b[0;31m---------------------------------------------------------------------------\u001b[0m",
      "\u001b[0;31mTypeError\u001b[0m                                 Traceback (most recent call last)",
      "\u001b[0;32m<ipython-input-4-73fc9b98b614>\u001b[0m in \u001b[0;36m<module>\u001b[0;34m\u001b[0m\n\u001b[1;32m      1\u001b[0m \u001b[0;32mfrom\u001b[0m \u001b[0mpynwb\u001b[0m \u001b[0;32mimport\u001b[0m \u001b[0mNWBHDF5IO\u001b[0m\u001b[0;34m\u001b[0m\u001b[0;34m\u001b[0m\u001b[0m\n\u001b[1;32m      2\u001b[0m \u001b[0;34m\u001b[0m\u001b[0m\n\u001b[0;32m----> 3\u001b[0;31m \u001b[0;32mwith\u001b[0m \u001b[0mNWBHDF5IO\u001b[0m\u001b[0;34m(\u001b[0m\u001b[0ms3_path\u001b[0m\u001b[0;34m,\u001b[0m \u001b[0mmode\u001b[0m\u001b[0;34m=\u001b[0m\u001b[0;34m'r'\u001b[0m\u001b[0;34m,\u001b[0m \u001b[0mload_namespaces\u001b[0m\u001b[0;34m=\u001b[0m\u001b[0;32mTrue\u001b[0m\u001b[0;34m,\u001b[0m \u001b[0mdriver\u001b[0m\u001b[0;34m=\u001b[0m\u001b[0;34m'ros3'\u001b[0m\u001b[0;34m)\u001b[0m \u001b[0;32mas\u001b[0m \u001b[0mio\u001b[0m\u001b[0;34m:\u001b[0m\u001b[0;34m\u001b[0m\u001b[0;34m\u001b[0m\u001b[0m\n\u001b[0m\u001b[1;32m      4\u001b[0m     \u001b[0mnwbfile\u001b[0m \u001b[0;34m=\u001b[0m \u001b[0mio\u001b[0m\u001b[0;34m.\u001b[0m\u001b[0mread\u001b[0m\u001b[0;34m(\u001b[0m\u001b[0;34m)\u001b[0m\u001b[0;34m\u001b[0m\u001b[0;34m\u001b[0m\u001b[0m\n\u001b[1;32m      5\u001b[0m     \u001b[0mprint\u001b[0m\u001b[0;34m(\u001b[0m\u001b[0mnwbfile\u001b[0m\u001b[0;34m)\u001b[0m\u001b[0;34m\u001b[0m\u001b[0;34m\u001b[0m\u001b[0m\n",
      "\u001b[0;32m~/anaconda3/lib/python3.7/site-packages/hdmf/utils.py\u001b[0m in \u001b[0;36mfunc_call\u001b[0;34m(*args, **kwargs)\u001b[0m\n\u001b[1;32m    577\u001b[0m         \u001b[0;32mif\u001b[0m \u001b[0mis_method\u001b[0m\u001b[0;34m:\u001b[0m\u001b[0;34m\u001b[0m\u001b[0;34m\u001b[0m\u001b[0m\n\u001b[1;32m    578\u001b[0m             \u001b[0;32mdef\u001b[0m \u001b[0mfunc_call\u001b[0m\u001b[0;34m(\u001b[0m\u001b[0;34m*\u001b[0m\u001b[0margs\u001b[0m\u001b[0;34m,\u001b[0m \u001b[0;34m**\u001b[0m\u001b[0mkwargs\u001b[0m\u001b[0;34m)\u001b[0m\u001b[0;34m:\u001b[0m\u001b[0;34m\u001b[0m\u001b[0;34m\u001b[0m\u001b[0m\n\u001b[0;32m--> 579\u001b[0;31m                 \u001b[0mpargs\u001b[0m \u001b[0;34m=\u001b[0m \u001b[0m_check_args\u001b[0m\u001b[0;34m(\u001b[0m\u001b[0margs\u001b[0m\u001b[0;34m,\u001b[0m \u001b[0mkwargs\u001b[0m\u001b[0;34m)\u001b[0m\u001b[0;34m\u001b[0m\u001b[0;34m\u001b[0m\u001b[0m\n\u001b[0m\u001b[1;32m    580\u001b[0m                 \u001b[0;32mreturn\u001b[0m \u001b[0mfunc\u001b[0m\u001b[0;34m(\u001b[0m\u001b[0margs\u001b[0m\u001b[0;34m[\u001b[0m\u001b[0;36m0\u001b[0m\u001b[0;34m]\u001b[0m\u001b[0;34m,\u001b[0m \u001b[0;34m**\u001b[0m\u001b[0mpargs\u001b[0m\u001b[0;34m)\u001b[0m\u001b[0;34m\u001b[0m\u001b[0;34m\u001b[0m\u001b[0m\n\u001b[1;32m    581\u001b[0m         \u001b[0;32melse\u001b[0m\u001b[0;34m:\u001b[0m\u001b[0;34m\u001b[0m\u001b[0;34m\u001b[0m\u001b[0m\n",
      "\u001b[0;32m~/anaconda3/lib/python3.7/site-packages/hdmf/utils.py\u001b[0m in \u001b[0;36m_check_args\u001b[0;34m(args, kwargs)\u001b[0m\n\u001b[1;32m    570\u001b[0m                 \u001b[0;32mif\u001b[0m \u001b[0mparse_err\u001b[0m\u001b[0;34m:\u001b[0m\u001b[0;34m\u001b[0m\u001b[0;34m\u001b[0m\u001b[0m\n\u001b[1;32m    571\u001b[0m                     \u001b[0mmsg\u001b[0m \u001b[0;34m=\u001b[0m \u001b[0;34m'%s: %s'\u001b[0m \u001b[0;34m%\u001b[0m \u001b[0;34m(\u001b[0m\u001b[0mfunc\u001b[0m\u001b[0;34m.\u001b[0m\u001b[0m__qualname__\u001b[0m\u001b[0;34m,\u001b[0m \u001b[0;34m', '\u001b[0m\u001b[0;34m.\u001b[0m\u001b[0mjoin\u001b[0m\u001b[0;34m(\u001b[0m\u001b[0mparse_err\u001b[0m\u001b[0;34m)\u001b[0m\u001b[0;34m)\u001b[0m\u001b[0;34m\u001b[0m\u001b[0;34m\u001b[0m\u001b[0m\n\u001b[0;32m--> 572\u001b[0;31m                     \u001b[0;32mraise\u001b[0m \u001b[0mExceptionType\u001b[0m\u001b[0;34m(\u001b[0m\u001b[0mmsg\u001b[0m\u001b[0;34m)\u001b[0m\u001b[0;34m\u001b[0m\u001b[0;34m\u001b[0m\u001b[0m\n\u001b[0m\u001b[1;32m    573\u001b[0m \u001b[0;34m\u001b[0m\u001b[0m\n\u001b[1;32m    574\u001b[0m             \u001b[0;32mreturn\u001b[0m \u001b[0mparsed\u001b[0m\u001b[0;34m[\u001b[0m\u001b[0;34m'args'\u001b[0m\u001b[0;34m]\u001b[0m\u001b[0;34m\u001b[0m\u001b[0;34m\u001b[0m\u001b[0m\n",
      "\u001b[0;31mTypeError\u001b[0m: NWBHDF5IO.__init__: unrecognized argument: 'driver'"
     ]
    }
   ],
   "source": [
    "from pynwb import NWBHDF5IO\n",
    "\n",
    "with NWBHDF5IO(s3_path, mode='r', load_namespaces=True, driver='ros3') as io:\n",
    "    nwbfile = io.read()\n",
    "    print(nwbfile)\n",
    "    print(nwbfile.acquisition['lick_times'].time_series['lick_left_times'].data[:])"
   ]
  },
  {
   "cell_type": "markdown",
   "metadata": {},
   "source": [
    "In addition, we can use a fancy widget to create an interactive display of this dataset. More on this later!"
   ]
  },
  {
   "cell_type": "code",
   "execution_count": null,
   "metadata": {},
   "outputs": [],
   "source": [
    "from nwbwidgets import nwb2widget\n",
    "\n",
    "nwb2widget(nwbfile)"
   ]
  },
  {
   "cell_type": "markdown",
   "metadata": {},
   "source": [
    "The following section will go over the the structure of an NWBFile and how to access data from this new file type. "
   ]
  }
 ],
 "metadata": {
  "kernelspec": {
   "display_name": "Python 3",
   "language": "python",
   "name": "python3"
  },
  "language_info": {
   "codemirror_mode": {
    "name": "ipython",
    "version": 3
   },
   "file_extension": ".py",
   "mimetype": "text/x-python",
   "name": "python",
   "nbconvert_exporter": "python",
   "pygments_lexer": "ipython3",
   "version": "3.7.3"
  }
 },
 "nbformat": 4,
 "nbformat_minor": 2
}