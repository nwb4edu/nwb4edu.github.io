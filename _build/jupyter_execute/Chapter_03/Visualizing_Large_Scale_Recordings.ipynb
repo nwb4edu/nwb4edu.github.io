{
 "cells": [
  {
   "cell_type": "markdown",
   "metadata": {},
   "source": [
    "# Visualizing Large Scale Recordings\n",
    "Now that we are familiar with the structure of an NWB file as well as the groups encapsulated within it, we are ready to work with the data. In this chapter you will learn to search the NWB file for its available data and plot visualizations such as raster plots.\n",
    "\n",
    "Below, we'll import some now familiar packages and once again work with the dataset we obtained in Chapter 2.1."
   ]
  },
  {
   "cell_type": "code",
   "execution_count": 1,
   "metadata": {
    "scrolled": true
   },
   "outputs": [
    {
     "name": "stdout",
     "output_type": "stream",
     "text": [
      "<class 'pynwb.file.NWBFile'>\n"
     ]
    }
   ],
   "source": [
    "# Import necessary packages\n",
    "import h5py \n",
    "import numpy as np\n",
    "from matplotlib import pyplot as plt\n",
    "from pynwb import NWBHDF5IO\n",
    "\n",
    "# read the file from the chapter 02 folder\n",
    "io = NWBHDF5IO('../Chapter_02/000006/sub-anm369962/sub-anm369962_ses-20170310.nwb', 'r')\n",
    "nwb_file = io.read()\n",
    "print(type(nwb_file))"
   ]
  },
  {
   "cell_type": "markdown",
   "metadata": {},
   "source": [
    "The first group that we will look at is `units` because it contains information about spikes times in the data. This time, we will subset our dataframe to only contain neurons with `Fair` spike sorting quality. This means that the researchers are more confident that these are indeed isolated neurons.  "
   ]
  },
  {
   "cell_type": "code",
   "execution_count": 2,
   "metadata": {},
   "outputs": [
    {
     "data": {
      "text/html": [
       "<div>\n",
       "<style scoped>\n",
       "    .dataframe tbody tr th:only-of-type {\n",
       "        vertical-align: middle;\n",
       "    }\n",
       "\n",
       "    .dataframe tbody tr th {\n",
       "        vertical-align: top;\n",
       "    }\n",
       "\n",
       "    .dataframe thead th {\n",
       "        text-align: right;\n",
       "    }\n",
       "</style>\n",
       "<table border=\"1\" class=\"dataframe\">\n",
       "  <thead>\n",
       "    <tr style=\"text-align: right;\">\n",
       "      <th></th>\n",
       "      <th>depth</th>\n",
       "      <th>quality</th>\n",
       "      <th>cell_type</th>\n",
       "      <th>spike_times</th>\n",
       "      <th>electrodes</th>\n",
       "    </tr>\n",
       "    <tr>\n",
       "      <th>id</th>\n",
       "      <th></th>\n",
       "      <th></th>\n",
       "      <th></th>\n",
       "      <th></th>\n",
       "      <th></th>\n",
       "    </tr>\n",
       "  </thead>\n",
       "  <tbody>\n",
       "    <tr>\n",
       "      <th>2</th>\n",
       "      <td>665.0</td>\n",
       "      <td>Fair</td>\n",
       "      <td>unidentified</td>\n",
       "      <td>[329.95417899999956, 330.01945899999953, 330.0...</td>\n",
       "      <td>x      y      z     imp  \\\n",
       "id         ...</td>\n",
       "    </tr>\n",
       "    <tr>\n",
       "      <th>5</th>\n",
       "      <td>715.0</td>\n",
       "      <td>Fair</td>\n",
       "      <td>unidentified</td>\n",
       "      <td>[331.09961899999956, 332.14505899999955, 333.3...</td>\n",
       "      <td>x      y      z     imp  \\\n",
       "id         ...</td>\n",
       "    </tr>\n",
       "    <tr>\n",
       "      <th>6</th>\n",
       "      <td>715.0</td>\n",
       "      <td>Fair</td>\n",
       "      <td>unidentified</td>\n",
       "      <td>[329.91129899999953, 329.92869899999954, 330.0...</td>\n",
       "      <td>x      y      z     imp  \\\n",
       "id         ...</td>\n",
       "    </tr>\n",
       "    <tr>\n",
       "      <th>7</th>\n",
       "      <td>765.0</td>\n",
       "      <td>Fair</td>\n",
       "      <td>unidentified</td>\n",
       "      <td>[330.26357899999954, 330.3849389999996, 330.60...</td>\n",
       "      <td>x      y      z     imp  \\\n",
       "id         ...</td>\n",
       "    </tr>\n",
       "    <tr>\n",
       "      <th>10</th>\n",
       "      <td>815.0</td>\n",
       "      <td>Fair</td>\n",
       "      <td>unidentified</td>\n",
       "      <td>[329.8969389999996, 329.94389899999953, 329.95...</td>\n",
       "      <td>x      y      z     imp  \\\n",
       "id         ...</td>\n",
       "    </tr>\n",
       "  </tbody>\n",
       "</table>\n",
       "</div>"
      ],
      "text/plain": [
       "    depth quality     cell_type  \\\n",
       "id                                \n",
       "2   665.0    Fair  unidentified   \n",
       "5   715.0    Fair  unidentified   \n",
       "6   715.0    Fair  unidentified   \n",
       "7   765.0    Fair  unidentified   \n",
       "10  815.0    Fair  unidentified   \n",
       "\n",
       "                                          spike_times  \\\n",
       "id                                                      \n",
       "2   [329.95417899999956, 330.01945899999953, 330.0...   \n",
       "5   [331.09961899999956, 332.14505899999955, 333.3...   \n",
       "6   [329.91129899999953, 329.92869899999954, 330.0...   \n",
       "7   [330.26357899999954, 330.3849389999996, 330.60...   \n",
       "10  [329.8969389999996, 329.94389899999953, 329.95...   \n",
       "\n",
       "                                           electrodes  \n",
       "id                                                     \n",
       "2           x      y      z     imp  \\\n",
       "id         ...  \n",
       "5           x      y      z     imp  \\\n",
       "id         ...  \n",
       "6           x      y      z     imp  \\\n",
       "id         ...  \n",
       "7           x      y      z     imp  \\\n",
       "id         ...  \n",
       "10          x      y      z     imp  \\\n",
       "id         ...  "
      ]
     },
     "execution_count": 2,
     "metadata": {},
     "output_type": "execute_result"
    }
   ],
   "source": [
    "# Get the units data frame\n",
    "units_df = nwb_file.units.to_dataframe()\n",
    " \n",
    "# Select only \"Fair\" units\n",
    "fair_units_df = units_df[units_df['quality']=='Fair']\n",
    "\n",
    "# Print the subsetted dataframe\n",
    "fair_units_df.head()"
   ]
  },
  {
   "cell_type": "markdown",
   "metadata": {},
   "source": [
    "The `spike_times` column contains the times at which the recorded neuron fired an action potential. Each neuron has a list of spike times for their `spike_times` column. Below, we'll return the first 10 spike times for a given neuron. "
   ]
  },
  {
   "cell_type": "code",
   "execution_count": 3,
   "metadata": {},
   "outputs": [
    {
     "name": "stdout",
     "output_type": "stream",
     "text": [
      "[331.099619 332.145059 333.362499 333.395059 334.149659 334.178019\n",
      " 334.183059 334.612499 340.767066 340.916546]\n"
     ]
    }
   ],
   "source": [
    "# Return the first 10 spike times for your neuron of choice\n",
    "unit_id = 5\n",
    "print(units_df['spike_times'][unit_id][:10])"
   ]
  },
  {
   "cell_type": "markdown",
   "metadata": {},
   "source": [
    "A **spike raster plot** can be created using the function `plt.eventplot`. A spike raster plot displays the spiking of neurons over time. In a raster plot, each row corresponds to a different neuron or a different trial, and the x-axis represents the time. Each small vertical line in the plot represents the spiking of a neuron. Spike raster plots are useful as they reveal firing rate correlations between groups of neurons. For more information on `plt.eventplot` please visit the <a href = 'https://matplotlib.org/stable/api/_as_gen/matplotlib.pyplot.eventplot.html'> matplotlib documentation</a>. \n",
    "\n",
    "Below, we'll create a function called `plot_raster()` that creates a raster plot from the `spike_times` column in `units`. `plot_raster()` takes the following arguments:\n",
    "\n",
    "- `unit_df`: dataframe containing spike time data\n",
    "- `neuron_start`: index of first neuron of interest \n",
    "- `neuron_end`: index of last neuron of interest\n",
    "- `start_time`: start time for desired time interval \n",
    "- `end_time`: end time for desired time interval"
   ]
  },
  {
   "cell_type": "code",
   "execution_count": 4,
   "metadata": {},
   "outputs": [
    {
     "data": {
      "image/png": "[encoded data removed]",
      "text/plain": [
       "<Figure size 432x288 with 1 Axes>"
      ]
     },
     "metadata": {
      "filenames": {
       "image/png": "/Users/ashley/Documents/nwb4edu.github.io/_build/jupyter_execute/Chapter_03/Visualizing_Large_Scale_Recordings_7_0.png"
      },
      "needs_background": "light"
     },
     "output_type": "display_data"
    }
   ],
   "source": [
    "# Function for creating raster plots for Units group in NWB file \n",
    "def plot_raster(units_df,neuron_start,neuron_end,start_time,end_time):\n",
    "    \n",
    "    # Select the data \n",
    "    neural_data = units_df['spike_times'][neuron_start:neuron_end]\n",
    "    \n",
    "    # Calculate # of neurons\n",
    "    num_neurons = neuron_end - neuron_start\n",
    "    \n",
    "    #Generate a list of colors (C0, C1...)\n",
    "    my_colors = ['C{}'.format(i) for i in range(num_neurons)] \n",
    "    \n",
    "    # Plot our raster plot \n",
    "    plt.eventplot(neural_data,colors=my_colors)\n",
    "\n",
    "    # Set our axis limits to only include points in our data\n",
    "    plt.xlim([start_time,end_time])\n",
    "    \n",
    "    # Label our figure \n",
    "    plt.title('Spike raster plot')\n",
    "    plt.ylabel('Neuron #')\n",
    "    plt.xlabel('Time (s)')\n",
    "    plt.yticks(np.arange(0,num_neurons))\n",
    "    plt.show()\n",
    "\n",
    "# Use our new function\n",
    "plot_raster(units_df, neuron_start = 2, neuron_end = 11, start_time = 330, end_time = 333)"
   ]
  },
  {
   "cell_type": "markdown",
   "metadata": {},
   "source": [
    "The plot above is only contains neural spikes from a 3 second time interval. While there are many spikes to consider in this one graph, each neuron has much more than 3 seconds worth of spike recordings! To summarize these spikes over time, we can compute a **firing rate**."
   ]
  },
  {
   "cell_type": "markdown",
   "metadata": {},
   "source": [
    "## Binning Firing Rates "
   ]
  },
  {
   "cell_type": "markdown",
   "metadata": {},
   "source": [
    "Raster plots are great for seeing individual neural spikes, but difficult to see the overall firing rates of the units. To get a better sense of the overall firing rates of our units, we can bin our spikes into time bins of 1 second. The function below, `plot_firing_rates()` take the following arguments:\n",
    "\n",
    "- `spike_times`: *list* of spike times, in seconds\n",
    "- `start_time`: start time for spike binning ; sets lower-most bound for x axis \n",
    "- `end_time`: end time for spike binning ; sets upper-most bound for x axis\n",
    "\n",
    "The function plots the overall firing rate for each array of spike times in the list it is given, in 1 second time bins."
   ]
  },
  {
   "cell_type": "code",
   "execution_count": 5,
   "metadata": {},
   "outputs": [],
   "source": [
    "def plot_firing_rates(spike_times, start_time = None, end_time = None):\n",
    "    \n",
    "    # Assign total number of bins \n",
    "    num_bins = int(np.ceil(spike_times[-1]))\n",
    "    binned_spikes = np.empty(num_bins)\n",
    "  \n",
    "    # Assign the frequency of spikes over time\n",
    "    for j in range(num_bins):\n",
    "        binned_spikes[j] = len(spike_times[(spike_times>j)&(spike_times<j+1)])\n",
    "          \n",
    "    plt.plot(binned_spikes)\n",
    "    plt.xlabel('Time (s)')\n",
    "    plt.ylabel('Firing Rate (Hz)')\n",
    "        \n",
    "    if (start_time != None) and (end_time != None):\n",
    "        plt.xlim(start_time, end_time)"
   ]
  },
  {
   "cell_type": "markdown",
   "metadata": {},
   "source": [
    "Let's use the function we just created to plot our data. Below, we will store all of the spike times from the same unit as above as `single_unit` and plot the firing rates over time."
   ]
  },
  {
   "cell_type": "code",
   "execution_count": 6,
   "metadata": {},
   "outputs": [
    {
     "data": {
      "image/png": "[encoded data removed]",
      "text/plain": [
       "<Figure size 432x288 with 1 Axes>"
      ]
     },
     "metadata": {
      "filenames": {
       "image/png": "/Users/ashley/Documents/nwb4edu.github.io/_build/jupyter_execute/Chapter_03/Visualizing_Large_Scale_Recordings_13_0.png"
      },
      "needs_background": "light"
     },
     "output_type": "display_data"
    }
   ],
   "source": [
    "# Plot our data\n",
    "single_unit = units_df['spike_times'][unit_id]\n",
    "plot_firing_rates(single_unit,300,500)\n",
    "plt.show()"
   ]
  },
  {
   "cell_type": "markdown",
   "metadata": {},
   "source": [
    "## Compare firing rates at different depths of cortex\n",
    "\n",
    "The units in our data were recorded from various cortical depths, therefore we can compare the firing units from differing cortical depths to test for differing firing rates. Let's first take a look at the distribution of depth from our units."
   ]
  },
  {
   "cell_type": "code",
   "execution_count": 7,
   "metadata": {},
   "outputs": [
    {
     "data": {
      "image/png": "[encoded data removed]",
      "text/plain": [
       "<Figure size 432x288 with 1 Axes>"
      ]
     },
     "metadata": {
      "filenames": {
       "image/png": "/Users/ashley/Documents/nwb4edu.github.io/_build/jupyter_execute/Chapter_03/Visualizing_Large_Scale_Recordings_15_0.png"
      },
      "needs_background": "light"
     },
     "output_type": "display_data"
    }
   ],
   "source": [
    "# Plot distribution of neuron depth \n",
    "plt.hist(units_df['depth'], bins=30)\n",
    "plt.title('Distribution of depth')\n",
    "plt.xlabel('Depth (um)')\n",
    "plt.ylabel('Frequency')\n",
    "plt.show()"
   ]
  },
  {
   "cell_type": "markdown",
   "metadata": {},
   "source": [
    "We will compare the units that were recorded from 1165 um and 715 um cortical depths."
   ]
  },
  {
   "cell_type": "code",
   "execution_count": 8,
   "metadata": {
    "scrolled": false
   },
   "outputs": [
    {
     "data": {
      "image/png": "[encoded data removed]",
      "text/plain": [
       "<Figure size 432x288 with 1 Axes>"
      ]
     },
     "metadata": {
      "filenames": {
       "image/png": "/Users/ashley/Documents/nwb4edu.github.io/_build/jupyter_execute/Chapter_03/Visualizing_Large_Scale_Recordings_17_0.png"
      },
      "needs_background": "light"
     },
     "output_type": "display_data"
    }
   ],
   "source": [
    "# Assign dataframes for different depths \n",
    "depth_1165 = units_df[units_df['depth']==1165]\n",
    "depth_715 = units_df[units_df['depth']==715]\n",
    "\n",
    "# Create list of containing 1 entry from each depth\n",
    "neural_list_1165 = depth_1165['spike_times'].iloc[0]\n",
    "neural_list_715 = depth_715['spike_times'].iloc[0]\n",
    "\n",
    "# Plot firing rates\n",
    "plot_firing_rates(neural_list_1165, 300, 500)\n",
    "plot_firing_rates(neural_list_715, 300, 500)\n",
    "plt.legend(['1165','715'])\n",
    "plt.show()"
   ]
  },
  {
   "cell_type": "markdown",
   "metadata": {},
   "source": [
    "It looks like the neuron that's more superficial (at a depth of 715 microns) has a higher firing rate! But we'd certainly need more data to make a conclusive argument about that.\n",
    "\n",
    "<hr>\n",
    "\n",
    "## Additional resources\n",
    "\n",
    "For more ideas about how to play with this dataset, see this [Github repository](https://github.com/vathes/DJ-NWB-Economo-2018/blob/master/notebooks/Economo-2018-examples.ipynb)."
   ]
  }
 ],
 "metadata": {
  "kernelspec": {
   "display_name": "Python 3",
   "language": "python",
   "name": "python3"
  },
  "language_info": {
   "codemirror_mode": {
    "name": "ipython",
    "version": 3
   },
   "file_extension": ".py",
   "mimetype": "text/x-python",
   "name": "python",
   "nbconvert_exporter": "python",
   "pygments_lexer": "ipython3",
   "version": "3.7.3"
  }
 },
 "nbformat": 4,
 "nbformat_minor": 4
}