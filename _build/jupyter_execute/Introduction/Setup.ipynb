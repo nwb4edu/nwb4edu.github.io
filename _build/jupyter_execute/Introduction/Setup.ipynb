{
 "cells": [
  {
   "cell_type": "markdown",
   "id": "41c79c09",
   "metadata": {},
   "source": [
    "#  Set up Coding Environment\n",
    "\n",
    "This notebook will ensure that your coding environment is set up for the interactive activities in this textbook. <mark>You **do not** need to worry about these requirements if you are running code on the Dandihub, as recommended in \"How to use this book\".</mark> You can simply ignore this page and get on with the data!"
   ]
  },
  {
   "cell_type": "markdown",
   "id": "a90d68b4",
   "metadata": {},
   "source": [
    "## Package Requirements\n",
    "\n",
    "If you're *not* running the code on the Dandihub, then we have to ensure that your coding environment has all of the proper packages installed. The packages required are:\n",
    "\n",
    "```\n",
    "numpy==1.23.1\n",
    "dandi==0.45.1\n",
    "h5py==2.10.0\n",
    "```\n",
    "\n",
    "The code below will ensure that you have these packages or newer.\n",
    "\n",
    "First, we need to ensure that you have the [`DANDI` client](https://pypi.org/project/dandi/) installed in your coding environment. The cell below will try to import DANDI. If you have an old version of DANDI, it will prompt you to install a newer version. Type \"Y\" if you would like to install a new version (this is recommended). If you don't have DANDI at all, it will install the most recent version."
   ]
  },
  {
   "cell_type": "code",
   "execution_count": 1,
   "id": "8e9463b3",
   "metadata": {
    "scrolled": true
   },
   "outputs": [
    {
     "name": "stdout",
     "output_type": "stream",
     "text": [
      "Updated DANDI installed.\n"
     ]
    }
   ],
   "source": [
    "# This will ensure that the correct version of dandi is installed\n",
    "try:\n",
    "    import dandi\n",
    "    if dandi.__version__>='0.45.1':\n",
    "        print('Updated DANDI installed.')\n",
    "    else:\n",
    "        response = input('Old version of DANDI installed. Would you like to install a newer version of DANDI? (Y/N)')\n",
    "        if response.upper() == 'Y':\n",
    "            !pip install --upgrade dandi\n",
    "except ImportError as e:\n",
    "    !pip install dandi "
   ]
  },
  {
   "cell_type": "markdown",
   "id": "c6ff284a",
   "metadata": {},
   "source": [
    "Next, we'll check for pyNWB, the python package for NWB."
   ]
  },
  {
   "cell_type": "code",
   "execution_count": 2,
   "id": "ea42fc01",
   "metadata": {},
   "outputs": [
    {
     "name": "stdout",
     "output_type": "stream",
     "text": [
      "pyNWB installed.\n"
     ]
    }
   ],
   "source": [
    "# Check for pywnb\n",
    "try:\n",
    "    import pynwb\n",
    "    print('pyNWB installed.')\n",
    "except ImportError as e:\n",
    "    !pip install pwynb  "
   ]
  },
  {
   "cell_type": "markdown",
   "id": "d68a3f5f",
   "metadata": {},
   "source": [
    "Finally, also need to make sure you have the correct version of NumPy."
   ]
  },
  {
   "cell_type": "code",
   "execution_count": 3,
   "id": "51bbca93",
   "metadata": {
    "scrolled": true
   },
   "outputs": [
    {
     "name": "stdout",
     "output_type": "stream",
     "text": [
      "Updated NumPy installed.\n"
     ]
    }
   ],
   "source": [
    "try:\n",
    "    import numpy\n",
    "    if numpy.__version__>='1.23.1':\n",
    "        print('Updated NumPy installed.')\n",
    "    else:\n",
    "        response = input('Old version of NumPy installed. Would you like to install a newer version of NumPy? (Y/N)')\n",
    "        if response.upper() == 'Y':\n",
    "            !pip install --upgrade numpy\n",
    "except ImportError as e:\n",
    "    !pip install numpy"
   ]
  },
  {
   "cell_type": "markdown",
   "id": "67749b22",
   "metadata": {},
   "source": [
    "First things first, let's make sure you have the AllenSDK installed. See the [Allen Institute website](https://alleninstitute.github.io/AllenSDK/install.html) for information on installing it, otherwise, the cell below will do it for you."
   ]
  },
  {
   "cell_type": "code",
   "execution_count": 4,
   "id": "93f46803",
   "metadata": {
    "scrolled": false
   },
   "outputs": [
    {
     "ename": "StdinNotImplementedError",
     "evalue": "raw_input was called, but this frontend does not support input requests.",
     "output_type": "error",
     "traceback": [
      "\u001b[0;31m---------------------------------------------------------------------------\u001b[0m",
      "\u001b[0;31mStdinNotImplementedError\u001b[0m                  Traceback (most recent call last)",
      "Cell \u001b[0;32mIn[4], line 8\u001b[0m\n\u001b[1;32m      6\u001b[0m     \u001b[38;5;28mprint\u001b[39m(\u001b[38;5;124m'\u001b[39m\u001b[38;5;124mallensdk already installed.\u001b[39m\u001b[38;5;124m'\u001b[39m)\n\u001b[1;32m      7\u001b[0m \u001b[38;5;28;01melse\u001b[39;00m:\n\u001b[0;32m----> 8\u001b[0m     response \u001b[38;5;241m=\u001b[39m \u001b[38;5;28;43minput\u001b[39;49m\u001b[43m(\u001b[49m\u001b[38;5;124;43m'\u001b[39;49m\u001b[38;5;124;43mOld version of AllenSDK installed. Would you like to install a newer version? (Y/N)\u001b[39;49m\u001b[38;5;124;43m'\u001b[39;49m\u001b[43m)\u001b[49m\n\u001b[1;32m      9\u001b[0m     \u001b[38;5;28;01mif\u001b[39;00m response\u001b[38;5;241m.\u001b[39mupper() \u001b[38;5;241m==\u001b[39m \u001b[38;5;124m'\u001b[39m\u001b[38;5;124mY\u001b[39m\u001b[38;5;124m'\u001b[39m:\n\u001b[1;32m     10\u001b[0m         get_ipython()\u001b[38;5;241m.\u001b[39msystem(\u001b[38;5;124m'\u001b[39m\u001b[38;5;124mpip install --upgrade allensdk\u001b[39m\u001b[38;5;124m'\u001b[39m)\n",
      "File \u001b[0;32m~/anaconda3/envs/jb/lib/python3.11/site-packages/ipykernel/kernelbase.py:1201\u001b[0m, in \u001b[0;36mKernel.raw_input\u001b[0;34m(self, prompt)\u001b[0m\n\u001b[1;32m   1199\u001b[0m \u001b[38;5;28;01mif\u001b[39;00m \u001b[38;5;129;01mnot\u001b[39;00m \u001b[38;5;28mself\u001b[39m\u001b[38;5;241m.\u001b[39m_allow_stdin:\n\u001b[1;32m   1200\u001b[0m     msg \u001b[38;5;241m=\u001b[39m \u001b[38;5;124m\"\u001b[39m\u001b[38;5;124mraw_input was called, but this frontend does not support input requests.\u001b[39m\u001b[38;5;124m\"\u001b[39m\n\u001b[0;32m-> 1201\u001b[0m     \u001b[38;5;28;01mraise\u001b[39;00m StdinNotImplementedError(msg)\n\u001b[1;32m   1202\u001b[0m \u001b[38;5;28;01mreturn\u001b[39;00m \u001b[38;5;28mself\u001b[39m\u001b[38;5;241m.\u001b[39m_input_request(\n\u001b[1;32m   1203\u001b[0m     \u001b[38;5;28mstr\u001b[39m(prompt),\n\u001b[1;32m   1204\u001b[0m     \u001b[38;5;28mself\u001b[39m\u001b[38;5;241m.\u001b[39m_parent_ident[\u001b[38;5;124m\"\u001b[39m\u001b[38;5;124mshell\u001b[39m\u001b[38;5;124m\"\u001b[39m],\n\u001b[1;32m   1205\u001b[0m     \u001b[38;5;28mself\u001b[39m\u001b[38;5;241m.\u001b[39mget_parent(\u001b[38;5;124m\"\u001b[39m\u001b[38;5;124mshell\u001b[39m\u001b[38;5;124m\"\u001b[39m),\n\u001b[1;32m   1206\u001b[0m     password\u001b[38;5;241m=\u001b[39m\u001b[38;5;28;01mFalse\u001b[39;00m,\n\u001b[1;32m   1207\u001b[0m )\n",
      "\u001b[0;31mStdinNotImplementedError\u001b[0m: raw_input was called, but this frontend does not support input requests."
     ]
    }
   ],
   "source": [
    "# This will ensure that the AllenSDK is installed.\n",
    "# If not, it will install it for you.\n",
    "try:\n",
    "    import allensdk\n",
    "    if allensdk.__version__ == '2.13.6':\n",
    "        print('allensdk already installed.')\n",
    "    else:\n",
    "        response = input('Old version of AllenSDK installed. Would you like to install a newer version? (Y/N)')\n",
    "        if response.upper() == 'Y':\n",
    "            !pip install --upgrade allensdk\n",
    "except ImportError as e:\n",
    "    !pip install allensdk"
   ]
  }
 ],
 "metadata": {
  "kernelspec": {
   "display_name": "Python 3",
   "language": "python",
   "name": "python3"
  },
  "language_info": {
   "codemirror_mode": {
    "name": "ipython",
    "version": 3
   },
   "file_extension": ".py",
   "mimetype": "text/x-python",
   "name": "python",
   "nbconvert_exporter": "python",
   "pygments_lexer": "ipython3",
   "version": "3.11.0"
  }
 },
 "nbformat": 4,
 "nbformat_minor": 5
}