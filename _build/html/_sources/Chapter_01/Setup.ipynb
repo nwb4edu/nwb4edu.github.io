{
 "cells": [
  {
   "cell_type": "markdown",
   "id": "41c79c09",
   "metadata": {},
   "source": [
    "#  Setup\n",
    "\n",
    "This notebook will ensure that your coding environment is set up for the interactive activities in this textbook."
   ]
  },
  {
   "cell_type": "markdown",
   "id": "5a0d18b8",
   "metadata": {},
   "source": [
    "## DANDIhub setup\n",
    "\n",
    "As mentioned in \"how to use this book,\" you can run the code in this book on the DANDI Jupyter Hub (https://hub.dandiarchive.org/). **JupyterHub** is an online coding environment in which you can run code on a remote server. Usefully, the folks at DANDI have set up a JupyterHub so that you can easily access the tools and data. To do so, follow these directions:\n",
    "1. If you do not have already, set up a [GitHub account](https://github.com/signup). It's free, and it's a great way to start tracking your code!\n",
    "2. Go to the Dandihub at [https://hub.dandiarchive.org/](https://hub.dandiarchive.org/) and log in using your GitHub account.\n",
    "3. Choose \"Base\" as your server option.\n",
    "4. Open a Terminal.\n",
    "5. Type `git clone https://github.com/nwb4edu/nwb4edu-dandi` and enter.\n",
    "6. Look for the new `nwb4edu-dandi` folder on the left side list of folders.\n",
    "7. Double click on a notebook to open it!"
   ]
  },
  {
   "cell_type": "markdown",
   "id": "a90d68b4",
   "metadata": {},
   "source": [
    "## Package Requirements\n",
    "\n",
    "If you're *not* running the code on the Dandihub, then we have to ensure that your coding environment has all of the proper packages installed. The packages required are:\n",
    "\n",
    "```\n",
    "numpy==1.23.1\n",
    "dandi==0.45.1\n",
    "h5py==2.10.0\n",
    "```\n",
    "\n",
    "The code below will ensure that you have these packages or newer.\n",
    "\n",
    "First, we need to ensure that you have the [`DANDI` client](https://pypi.org/project/dandi/) installed in your coding environment. The cell below will try to import DANDI. If you have an old version of DANDI, it will prompt you to install a newer version. Type \"Y\" if you would like to install a new version (this is recommended). If you don't have DANDI at all, it will install the most recent version."
   ]
  },
  {
   "cell_type": "code",
   "execution_count": 2,
   "id": "8e9463b3",
   "metadata": {
    "scrolled": true
   },
   "outputs": [
    {
     "name": "stdout",
     "output_type": "stream",
     "text": [
      "Updated DANDI installed.\n",
      "pyNWB installed.\n"
     ]
    }
   ],
   "source": [
    "# This will ensure that the correct version of dandi is installed\n",
    "try:\n",
    "    import dandi\n",
    "    if dandi.__version__>='0.45.1':\n",
    "        print('Updated DANDI installed.')\n",
    "    else:\n",
    "        response = input('Old version of DANDI installed. Would you like to install a newer version of DANDI? (Y/N)')\n",
    "        if response.upper() == 'Y':\n",
    "            !pip install --upgrade dandi\n",
    "except ImportError as e:\n",
    "    !pip install dandi "
   ]
  },
  {
   "cell_type": "markdown",
   "id": "c6ff284a",
   "metadata": {},
   "source": [
    "Next, we'll check for pyNWB, the python package for NWB."
   ]
  },
  {
   "cell_type": "code",
   "execution_count": null,
   "id": "ea42fc01",
   "metadata": {},
   "outputs": [],
   "source": [
    "# Check for pywnb\n",
    "try:\n",
    "    import pynwb\n",
    "    print('pyNWB installed.')\n",
    "except ImportError as e:\n",
    "    !pip install pwynb  "
   ]
  },
  {
   "cell_type": "markdown",
   "id": "d68a3f5f",
   "metadata": {},
   "source": [
    "Finally, also need to make sure you have the correct version of NumPy."
   ]
  },
  {
   "cell_type": "code",
   "execution_count": 7,
   "id": "51bbca93",
   "metadata": {
    "scrolled": true
   },
   "outputs": [
    {
     "name": "stdout",
     "output_type": "stream",
     "text": [
      "Old version of NumPy installed. Would you like to install a newer version of NumPy? (Y/N)Y\n",
      "Requirement already satisfied: numpy in /Users/ashley/anaconda3/lib/python3.7/site-packages (1.18.5)\n",
      "Collecting numpy\n",
      "  Downloading numpy-1.21.6-cp37-cp37m-macosx_10_9_x86_64.whl (16.9 MB)\n",
      "\u001b[2K     \u001b[90m━━━━━━━━━━━━━━━━━━━━━━━━━━━━━━━━━━━━━━━\u001b[0m \u001b[32m16.9/16.9 MB\u001b[0m \u001b[31m873.3 kB/s\u001b[0m eta \u001b[36m0:00:00\u001b[0m00:01\u001b[0m00:01\u001b[0m\n",
      "\u001b[?25hInstalling collected packages: numpy\n",
      "  Attempting uninstall: numpy\n",
      "    Found existing installation: numpy 1.18.5\n",
      "    Uninstalling numpy-1.18.5:\n",
      "      Successfully uninstalled numpy-1.18.5\n",
      "\u001b[31mERROR: pip's dependency resolver does not currently take into account all the packages that are installed. This behaviour is the source of the following dependency conflicts.\n",
      "hdmf 2.4.0 requires numpy<1.19.4,>=1.16, but you have numpy 1.21.6 which is incompatible.\n",
      "allensdk 2.11.2 requires numpy<1.19.0,>=1.15.4, but you have numpy 1.21.6 which is incompatible.\n",
      "allensdk 2.11.2 requires statsmodels<=0.13.0, but you have statsmodels 0.13.2 which is incompatible.\u001b[0m\u001b[31m\n",
      "\u001b[0mSuccessfully installed numpy-1.21.6\n",
      "\u001b[33mWARNING: There was an error checking the latest version of pip.\u001b[0m\u001b[33m\n",
      "\u001b[0m"
     ]
    }
   ],
   "source": [
    "try:\n",
    "    import numpy\n",
    "    if numpy.__version__>='1.23.1':\n",
    "        print('Updated NumPy installed.')\n",
    "    else:\n",
    "        response = input('Old version of NumPy installed. Would you like to install a newer version of NumPy? (Y/N)')\n",
    "        if response.upper() == 'Y':\n",
    "            !pip install --upgrade numpy\n",
    "except ImportError as e:\n",
    "    !pip install numpy"
   ]
  }
 ],
 "metadata": {
  "kernelspec": {
   "display_name": "Python 3",
   "language": "python",
   "name": "python3"
  },
  "language_info": {
   "codemirror_mode": {
    "name": "ipython",
    "version": 3
   },
   "file_extension": ".py",
   "mimetype": "text/x-python",
   "name": "python",
   "nbconvert_exporter": "python",
   "pygments_lexer": "ipython3",
   "version": "3.7.3"
  }
 },
 "nbformat": 4,
 "nbformat_minor": 5
}
