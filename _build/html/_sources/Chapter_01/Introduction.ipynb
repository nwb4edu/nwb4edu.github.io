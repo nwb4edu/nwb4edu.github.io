{
 "cells": [
  {
   "cell_type": "markdown",
   "id": "8c806081",
   "metadata": {},
   "source": [
    "# Introduction\n",
    "\n",
    "This first chapter will give you the tools you need to get started, including options for using the materials in this book, instructions for setting up your environment, and instructions for educators.\n",
    "\n",
    "<font color='red'>Note: Considering condensing this with Chapter 02 (and streamlining Chapter 2 to really JUST be about background needed for this book.</font>"
   ]
  }
 ],
 "metadata": {
  "kernelspec": {
   "display_name": "Python 3",
   "language": "python",
   "name": "python3"
  },
  "language_info": {
   "codemirror_mode": {
    "name": "ipython",
    "version": 3
   },
   "file_extension": ".py",
   "mimetype": "text/x-python",
   "name": "python",
   "nbconvert_exporter": "python",
   "pygments_lexer": "ipython3",
   "version": "3.7.3"
  }
 },
 "nbformat": 4,
 "nbformat_minor": 5
}
