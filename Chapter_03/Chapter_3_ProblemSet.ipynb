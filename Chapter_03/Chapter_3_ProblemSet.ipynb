{
 "cells": [
  {
   "cell_type": "markdown",
   "id": "148081b9",
   "metadata": {},
   "source": [
    "## Chapter 3 Problem Set\n",
    "\n",
    "1. In [Chapter 3.1](https://nwb4edu.github.io/Chapter_03/Obtaining_Datasets_with_DANDI.html), we demonstrated how to download a particular DANDIset. Modify this code to download [this dataset](https://gui.dandiarchive.org/#/dandiset/000130/draft), and use the additional code you encountered in 3.2 to answer the following questions:\n",
    "    - What publication is this dataset affiliated with? Include the title, journal, and authors.\n",
    "    - In 2-3 sentences, summarize the main approaches and goals of this paper.\n",
    "    - Describe two columns of data in `intervals`. What information do these columns provide?\n",
    "    - How many units (putative neurons) are in this dataset?\n",
    "    \n",
    "    \n",
    "2. In [Chapter 3.2](https://nwb4edu.github.io/Chapter_03/Working_with_NWB_format_in_Python.html) we demonstrated how to create a dataframe with all of the units (possible neurons) that were recorded. How would you filter this dataframe for only \"Fair\" units? Provide a code snippet for your answer.\n",
    "\n",
    "<hr>"
   ]
  },
  {
   "cell_type": "markdown",
   "id": "cd26201f",
   "metadata": {},
   "source": [
    "### For instructors\n",
    "\n",
    "Need a solutions notebook? Email ajuavine@ucsd.edu"
   ]
  }
 ],
 "metadata": {
  "kernelspec": {
   "display_name": "Python 3",
   "language": "python",
   "name": "python3"
  },
  "language_info": {
   "codemirror_mode": {
    "name": "ipython",
    "version": 3
   },
   "file_extension": ".py",
   "mimetype": "text/x-python",
   "name": "python",
   "nbconvert_exporter": "python",
   "pygments_lexer": "ipython3",
   "version": "3.7.3"
  }
 },
 "nbformat": 4,
 "nbformat_minor": 5
}
