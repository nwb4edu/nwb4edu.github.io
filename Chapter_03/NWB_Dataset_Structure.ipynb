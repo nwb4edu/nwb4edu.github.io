{
 "cells": [
  {
   "cell_type": "markdown",
   "metadata": {},
   "source": [
    "# The Structure of NWB Datasets\n",
    "\n",
    "NWB datasets can be found in a few different places. Throughout this online textbook, we'll introduce two primary ways to obtain NWB datasets: through DANDI and through the Allen Institute SDK (Chapter X). In this chapter, we'll show you how to download a sample dataset via DANDI.\n",
    "\n",
    "\n",
    "**Learning objectives**\n",
    "\n",
    "By the end of this chapter, you will be able to:\n",
    "* Explain the three common features of datasets: metadata, raw data, and processed data\n",
    "* Identify and implement multiple ways to [obtain a NWB dataset via DANDI](https://nwb4edu.github.io/Chapter_03/Obtaining_Datasets_with_DANDI.html)\n",
    "* [Explore the metadata contained in a typical Dandiset](https://nwb4edu.github.io/Chapter_03/Working_with_NWB_format_in_Python.html)\n",
    "* [Use an interactive widget for a big picture view of a Dandiset](https://nwb4edu.github.io/Chapter_03/Interactive_NWB_Data_Exploration.html)\n",
    "\n",
    "In this chapter, we'll dig into one of the datasets that uses a technology known as Neuropixels to simultaneously record from many neurons. First, let's get the dataset."
   ]
  }
 ],
 "metadata": {
  "kernelspec": {
   "display_name": "Python 3",
   "language": "python",
   "name": "python3"
  },
  "language_info": {
   "codemirror_mode": {
    "name": "ipython",
    "version": 3
   },
   "file_extension": ".py",
   "mimetype": "text/x-python",
   "name": "python",
   "nbconvert_exporter": "python",
   "pygments_lexer": "ipython3",
   "version": "3.7.3"
  }
 },
 "nbformat": 4,
 "nbformat_minor": 4
}
