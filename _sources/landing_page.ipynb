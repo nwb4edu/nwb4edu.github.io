{
 "cells": [
  {
   "cell_type": "markdown",
   "metadata": {},
   "source": [
    "# Teaching and Learning with NWB Datasets"
   ]
  },
  {
   "cell_type": "markdown",
   "metadata": {},
   "source": [
    "For many, many years in neuroscience, the landscape of file formats has been the wild west. Everyone either uses a format either dictated by their lab or by the equipment they’re using. This poses a huge challenge to data sharing: if you want to collaborate with the lab next door and share data with them, one of the first questions is, \"what format is your data in?\" While static images taken from a microscope and standard biology lab procedures like western blots are fairly straightforward to share, physiology and behavior data types are much more diverse.\n",
    "\n",
    "That's where [Neurodata Without Borders](https://www.nwb.org/) (NWB) comes in. NWB is a consortium of researchers who are aiming to *standardize neuroscience data on an international scale.* The use of this standard dataset format will make sharing and contributing to open source projects easier, ultimately accelerating discovery.\n",
    "\n",
    "NWB has pioneered a data format called [Neurodata Without Borders: Neurophysiology (NWB:N)](https://www.nwb.org/nwb-neurophysiology/). NWB:N is a standard to share, store, and build analysis tools for neuroscience data. It is built on [HDF5 (hierarchical data format)](http://davis.lbl.gov/Manuals/HDF5-1.8.7/UG/10_Datasets.html), which was designed for large data storage and multi-language accessibility. In other words, it’s good at doing exactly what we need it to do.\n",
    "\n",
    "\n",
    "## Standardized data for education\n",
    "\n",
    "A standardized and accessible data format like NWB also opens possibilities for more easily integrating these cutting-edge datasets into the classroom. **This online textbook aims to provide interactive and self-guided resources for educators, students, and self-guided learners who would like to use open neuroscience datasets for research and/or teaching.** Within, you'll find tutorials in the form of interactive Python notebooks that will enable you to wrangle and analyze NWB datasets. At the end of each chapter, there are problem sets so that you can test and extend your skills.\n",
    "\n",
    "Along the way, we'll point you towards the prolific and tremendous documentation that the NWB team has already put together for you, for whenever you're ready to learn more.\n",
    "\n",
    "\n",
    "## Using this textbook\n",
    "\n",
    "This textbook is designed for educators, students, and self-guided learners who would like to work with NWB datasets. It expects that you have some knowledge of Python, though [Data Science in Python](https://nwb4edu.github.io/Chapter_02/Data_Science_In_Python.html) will give you a refresher on the most pertinent information, if you need it. Throughout the book, you'll also find many recommendations for places to learn more.\n",
    "\n",
    "We recommend interacting with the content provided here via the Dandihub. Alternatively, by using the rocket icon in the top right corner, you can launch any of these notebooks in either Google Colab or Binder. There's much more information in [Using this Book](https://nwb4edu.github.io/Chapter_01/Using_This_Book.html) about how to set up your coding environment and interact with this textbook.\n",
    "\n",
    "\n",
    "## Content outline\n",
    "\n",
    "The [introduction](https://nwb4edu.github.io/Chapter_01/Introduction.html) will set you up for success with options for interacting with these materials and some technical environment setup.\n",
    "\n",
    "[Data Science in Python](https://nwb4edu.github.io/Chapter_02/Data_Science_In_Python.html) reviews some of the packages, data structures, and coding skills that we'll use throughout the rest of the book. You are welcome to skip this chapter if you're very comfortable in Python.\n",
    "\n",
    "The lessons themselves are organized into two groups: one that interacts with \"native NWB\" format using the `pyNWB` package, and a second that interacts with the Allen Institute for Brain Science data via the `allenSDK`. Each of these lessons are self-contained and can be completed out of order, depending on which type of data you're most interested in working with."
   ]
  },
  {
   "cell_type": "markdown",
   "metadata": {},
   "source": [
    "## Support\n",
    "<img src=\"https://github.com/nwb4edu/nwb4edu.github.io/blob/master/The_Kavli_Foundation_Logo_Blue_Red.png?raw=true\"\n",
    "     alt=\"Kavli Logo\"\n",
    "     style=\"float: left; margin-right: 10px;\"\n",
    "     width=\"500\"/>\n",
    "<br clear=\"left\"/>\n",
    "\n",
    "This work is supported by a [Kavli Foundation Seed Grant](https://www.nwb.org/projects/) meant to increase the access to Neurodata Without Borders datasets.\n",
    "\n",
    "<br clear=\"left\"/>\n",
    "<img src=\"https://www.braininitiative.org/wp-content/uploads/2017/02/nwb.png\"\n",
    "     alt=\"Kavli Logo\"\n",
    "     style=\"float: left; margin-right: 10px;\" />\n",
    "<br clear=\"left\"/>\n",
    "\n",
    "Many thanks to the NWB team, especially Ben Dichter, for their feedback and input."
   ]
  },
  {
   "cell_type": "markdown",
   "metadata": {},
   "source": [
    "<hr>\n",
    "\n",
    "## Additional resources \n",
    "There are several great online resources for neural data processing & data science beyond NWB formats:\n",
    "\n",
    "- [Data Science in Practice](https://datascienceinpractice.github.io/)\n",
    "- [Case Studies in Neural Data Analysis](https://mark-kramer.github.io/Case-Studies-Python/intro.html)\n",
    "- [Neural Data Science by Nylen & Wallisch](https://www.sciencedirect.com/book/9780128040430/neural-data-science)\n",
    "- [Foundations of Data Science](https://www.inferentialthinking.com/chapters/intro.html)\n",
    "- [Computational Neuroscience](https://mrgreene09.github.io/computational-neuroscience-textbook/index.html), open textbook written by students\n",
    "- [Neuromatch Academy](http://www.neuromatchacademy.org/syllabus), online computational neuroscience course\n",
    "\n",
    "Read more about the need for data standardization in neuroscience and the NWB format:\n",
    "* Rübel, O. et al. (2023). [The Neurodata Without Borders ecosystem for neurophysiological data science](https://elifesciences.org/articles/78362). eLife.\n",
    "* Teeters, J. L. et al. (2015). [Neurodata Without Borders: Creating a Common Data Format for Neurophysiology](https://doi.org/10.1016/j.neuron.2015.10.025). Neuron.\n",
    "* Teeters, J. L. et al. (2015). [Development of the Neurodata Without Borders: Neurophysiology file format](https://doi.org/10.3389/conf.fnins.2015.91.00033). Front. Neurosci. Conference Abstract: Neuroinformatics. \n",
    "* Rübel, O. et al. (2019). [NWB:N 2.0: An Accessible Data Standard for Neurophysiology](https://doi.org/10.1101/523035v1). Preprint.\n",
    "\n",
    "<hr>"
   ]
  },
  {
   "cell_type": "markdown",
   "metadata": {},
   "source": [
    "## License\n",
    "\n",
    "This work is distributed under a [CC-BY-SA-4.0 license](https://creativecommons.org/licenses/by-sa/4.0/). You are free to use and adapt these resources, but if you generate a derivative of these resources, they should be distributed with a similar license."
   ]
  }
 ],
 "metadata": {
  "kernelspec": {
   "display_name": "Python 3",
   "language": "python",
   "name": "python3"
  },
  "language_info": {
   "codemirror_mode": {
    "name": "ipython",
    "version": 3
   },
   "file_extension": ".py",
   "mimetype": "text/x-python",
   "name": "python",
   "nbconvert_exporter": "python",
   "pygments_lexer": "ipython3",
   "version": "3.7.3"
  }
 },
 "nbformat": 4,
 "nbformat_minor": 4
}
