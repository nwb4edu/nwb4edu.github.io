{
 "cells": [
  {
   "cell_type": "markdown",
   "metadata": {},
   "source": [
    "# Data Science in Python\n",
    "\n",
    "**Python** is one of the main tools used by data scientists and neuroscientists alike. Python is a coding language that allows us to efficiently and flexibly work with data, run various statistical analyses, and visualize our results.\n",
    "\n",
    "The pages in this section will introduce you to four primary **packages** that are useful for doing data science in Python: [NumPy](https://nwb4edu.github.io/Data_Science_In_Python/NumPy.html), [Pandas](https://nwb4edu.github.io/Data_Science_In_Python/Pandas.html), [Matplotlib](https://nwb4edu.github.io/Data_Science_In_Python/Matplotlib.html), and [SciPy](https://nwb4edu.github.io/Data_Science_In_Python/SciPy.html).\n",
    "\n",
    "**Chapter Learning Objectives**\n",
    "- Review key Python skills you'll need to use this textbook\n",
    "- Identify the main packages used for data science in Python\n",
    "- Learn and implement commonly used functions in NumPy, Pandas, and SciPy\n",
    "\n",
    "**Resources for Learning Python**\n",
    "\n",
    "These notebooks assume that you already have some foundational knowledge about how to use Python. If you are in the early stages of using Python, we recommend the following resources before digging in here:\n",
    "- Online free courses like [Codeacademy](https://www.codecademy.com/catalog/language/python) and [DataQuest](http://dataquest.io) are great to get started.\n",
    "- [The official beginner's guide](https://wiki.python.org/moin/BeginnersGuide), by the folks at Python.\n",
    "- Ellis, Donaghue, and Voytek, [COGS 18: Introduction to Python](http://cogs18.github.io)\n",
    "- VanderPlas, [Whirlwind Tour of Python](https://github.com/jakevdp/WhirlwindTourOfPython/)\n",
    "- VanderPlas, [Python Data Science Handbook](https://jakevdp.github.io/PythonDataScienceHandbook/)\n",
    "- Software Carpentry, [Plotting and Programming in Python](https://swcarpentry.github.io/python-novice-gapminder/)\n",
    "\n",
    "**Additional resources for neural data processing & data science beyond NWB formats**\n",
    "\n",
    "- [Data Science in Practice](https://datascienceinpractice.github.io/)\n",
    "- [Case Studies in Neural Data Analysis](https://mark-kramer.github.io/Case-Studies-Python/intro.html)\n",
    "- [Neural Data Science by Nylen & Wallisch](https://www.sciencedirect.com/book/9780128040430/neural-data-science)\n",
    "- [Foundations of Data Science](https://www.inferentialthinking.com/chapters/intro.html)\n",
    "- [Computational Neuroscience](https://mrgreene09.github.io/computational-neuroscience-textbook/index.html), open textbook written by students\n",
    "- [Neuromatch Academy](http://www.neuromatchacademy.org/syllabus), online computational neuroscience course"
   ]
  }
 ],
 "metadata": {
  "kernelspec": {
   "display_name": "Python 3",
   "language": "python",
   "name": "python3"
  },
  "language_info": {
   "codemirror_mode": {
    "name": "ipython",
    "version": 3
   },
   "file_extension": ".py",
   "mimetype": "text/x-python",
   "name": "python",
   "nbconvert_exporter": "python",
   "pygments_lexer": "ipython3",
   "version": "3.7.3"
  }
 },
 "nbformat": 4,
 "nbformat_minor": 4
}
