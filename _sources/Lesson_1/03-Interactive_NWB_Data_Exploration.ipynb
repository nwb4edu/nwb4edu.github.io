{
 "cells": [
  {
   "cell_type": "markdown",
   "id": "375f6efa",
   "metadata": {},
   "source": [
    "# Interactive NWB Data Exploration\n",
    "\n",
    "As we saw in the last section, the NWB file contains a ton of information about the experiment, as well as the actual data. We can look through each of the groups in the NWB file to pull out this information, or we can use a handy widget created by the NWB team.\n",
    "\n",
    "This widget will also let us take a sneak peek at the behavioral and neural data as well. As a first pass, it can be very useful to explore the dataset in this high level way. This allows you to inspect the data for quality, and look for any interesting trends. \n",
    "\n",
    "First, let's set up our notebook and read the NWB file that we previously downloaded."
   ]
  },
  {
   "cell_type": "code",
   "execution_count": null,
   "id": "c6009154",
   "metadata": {},
   "outputs": [],
   "source": "import os\nfrom pynwb import NWBHDF5IO\n\n# Try to import nwbwidgets (may fail due to package incompatibilities)\ntry:\n    from nwbwidgets import nwb2widget\n    nwbwidgets_available = True\n    print('nwbwidgets successfully imported.')\nexcept (ImportError, AttributeError) as e:\n    nwbwidgets_available = False\n    print('nwbwidgets could not be imported (package compatibility issue).')\n    print('This is expected when building the book. The widget works on Dandihub.')\n\n# Set the filename\nfilename = '000006/sub-anm369962/sub-anm369962_ses-20170310.nwb'\n\n# Check for alternative file locations\nif not os.path.exists(filename):\n    alt_filename = '../' + filename\n    if os.path.exists(alt_filename):\n        filename = alt_filename\n    else:\n        alt_filename2 = os.path.join('Lesson_1', filename)\n        if os.path.exists(alt_filename2):\n            filename = alt_filename2\n\n# Read the NWB file\nif os.path.exists(filename):\n    io = NWBHDF5IO(filename, 'r')\n    nwb_file = io.read()\n    print('NWB file found and read.')\n    print(type(nwb_file))\nelse:\n    print(f\"NWB file not found at {filename}\")\n    print(\"Download the dataset using the previous notebooks to use this feature.\")"
  },
  {
   "cell_type": "markdown",
   "id": "bacba144",
   "metadata": {},
   "source": [
    "Below, we'll take advantage of the [`nwbwidgets` package](https://github.com/NeurodataWithoutBorders/nwb-jupyter-widgets) to explore the data. This package usefully automatically renders information and visualizations of the data, depending on what it is. We'll use the nwb2widget function to explore the dataset we read above.\n",
    "\n",
    "To take a peek at the neural data here, you can look under the \"Units\" header below. \n",
    "\n",
    "<mark>**Note**: You won't be able to see the output from the `nwb4edu.github.io` website. To see the output below, launch this in an interactive environment!"
   ]
  },
  {
   "cell_type": "code",
   "execution_count": null,
   "id": "00ce1294",
   "metadata": {
    "scrolled": false
   },
   "outputs": [],
   "source": "if nwbwidgets_available:\n    nwb2widget(nwb_file)\nelse:\n    print(\"nwbwidgets is not available in this environment.\")\n    print(\"To use the interactive widget, run this notebook on Dandihub.\")\n    print(\"\\nYou can still explore the NWB file programmatically.\")\n    print(\"For example, try: nwb_file.units.to_dataframe()\")"
  },
  {
   "cell_type": "markdown",
   "id": "81725d45",
   "metadata": {},
   "source": [
    "<div class=\"alert alert-success\">\n",
    "    \n",
    "<b>Questions for consideration</b>\n",
    "    \n",
    "1. What is the raw data being used to plot the visualizations in \"units\"? What is this data showing us?\n",
    "2. What kinds of visualizations do you see under \"units\"? Which of these are summary visualizations, versus more raw visualizations?\n",
    "3. Do you see any interesting trends in the data?\n",
    "    \n",
    "    </div>"
   ]
  },
  {
   "cell_type": "markdown",
   "id": "86a05377",
   "metadata": {},
   "source": [
    "<hr>\n",
    "\n",
    "## Lesson 1 Wrap Up\n",
    "\n",
    "In this first lesson, we showed you how to explore an NWB file. We discussed common elements in the structure, and how you can use `nwbwidgets` to explore the data at a high level. \n",
    "\n",
    "Hopefully now you can:\n",
    "\n",
    "    ✔️ Explain the three common features of datasets: metadata, raw data, and processed data\n",
    "\n",
    "    ✔️ Identify and implement multiple ways to obtain a NWB dataset via DANDI\n",
    "\n",
    "    ✔️ Explore the metadata contained in a typical Dandiset\n",
    "\n",
    "    ✔️ Use an interactive widget for a big picture view of a Dandiset\n",
    "\n",
    "In the following lesson, we'll demonstrate different kinds of visualizations and analyses that you might do with the data.\n",
    "\n",
    "Before moving on, try the Lesson #1 problem set to test your understanding and to put some of these new skills to work. 💪"
   ]
  },
  {
   "cell_type": "markdown",
   "id": "b8c19a01",
   "metadata": {},
   "source": [
    "### Additional Resources\n",
    "* [Ben Dichter provides an overview of NWBWidgets](https://training.incf.org/lesson/nwbwidgets-inteactively-exploring-nwb-files)"
   ]
  }
 ],
 "metadata": {
  "kernelspec": {
   "display_name": "Python 3",
   "language": "python",
   "name": "python3"
  },
  "language_info": {
   "codemirror_mode": {
    "name": "ipython",
    "version": 3
   },
   "file_extension": ".py",
   "mimetype": "text/x-python",
   "name": "python",
   "nbconvert_exporter": "python",
   "pygments_lexer": "ipython3",
   "version": "3.7.3"
  }
 },
 "nbformat": 4,
 "nbformat_minor": 5
}