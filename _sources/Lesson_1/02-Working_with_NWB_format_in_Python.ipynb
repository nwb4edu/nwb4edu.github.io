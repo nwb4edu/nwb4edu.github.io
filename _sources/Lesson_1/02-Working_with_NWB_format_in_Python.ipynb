{
 "cells": [
  {
   "cell_type": "markdown",
   "metadata": {},
   "source": [
    "# Working with NWB in Python\n",
    "\n",
    "On the previous page, we demonstrated how to obtain a dataset with DANDI. Now that you have a dataset downloaded, let's take a closer look at what it contains.\n",
    "\n",
    "Working with our NWB file in Python requires **[PyNWB](https://pynwb.readthedocs.io/en/stable/index.html)**, a package specifically designed to work with NWB files.\n",
    "\n",
    "Below, we'll use the `NWBHDF5IO` class from this package, which will allow us to easily read NWB files.\n",
    "\n",
    "<mark>**Note**: Before running this notebook, please ensure that you have 1) set up your coding environment ([How to Use this Book](https://nwb4edu.github.io/Introduction/Using_This_Book.html)) and 2) completed the previous section to obtain the dataset we'll be interacting with below.\n",
    "\n",
    "## Step 1. Setup"
   ]
  },
  {
   "cell_type": "code",
   "execution_count": null,
   "metadata": {},
   "outputs": [],
   "source": [
    "# Import modules from the PyNWB package\n",
    "from pynwb import NWBHDF5IO"
   ]
  },
  {
   "cell_type": "markdown",
   "metadata": {},
   "source": [
    "## Step 2. Read the NWB file\n",
    "\n",
    "We can access the data in our NWB file in two steps:\n",
    "\n",
    "1. **Assign our file as an NWBHDF5IO object**: We will use the [`NWBHDF5IO` class](https://pynwb.readthedocs.io/en/stable/pynwb.html#pynwb.NWBHDF5IO) to create our `NWBHDF5IO` object and map our file to HDF5 format.\n",
    "2. **Read our file** using the `read()` method.\n",
    "\n",
    "> For more information on how to read NWB files, please visit the <a href = 'https://pynwb.readthedocs.io/en/latest/tutorials/general/plot_file.html#reading-an-nwb-file'> Reading an NWB file</a> section from the NWB Basics Tutorial.\n",
    "\n",
    "<mark>**Note**: Each dataset may contain multiple NWB files for different subjects and sessions for a given experiment. Make sure you specify the exact file path to the single NWB file you wish to read. Below, we'll give the filename for one .nwb file within the folder that you downloaded in the last chapter.</mark>"
   ]
  },
  {
   "cell_type": "code",
   "execution_count": null,
   "metadata": {},
   "outputs": [],
   "source": [
    "# set the filename\n",
    "filename = '000006/sub-anm369962/sub-anm369962_ses-20170310.nwb'\n",
    "\n",
    "# assign file as an NWBHDF5IO object\n",
    "io = NWBHDF5IO(filename, 'r')\n",
    "\n",
    "# read the file\n",
    "nwb_file = io.read()\n",
    "\n",
    "nwb_file"
   ]
  },
  {
   "cell_type": "markdown",
   "metadata": {},
   "source": [
    "<div class=\"alert alert-success\"><b>Task</b>: Look through the file above by clicking on the sideways black triangles to drop down different levels of the file structure. What's there that might be interesting to analyze?</div>"
   ]
  },
  {
   "cell_type": "markdown",
   "metadata": {},
   "source": [
    "## Step 3. Access Information within the NWB File Hierarchy\n",
    "\n",
    "One of the first steps when working with a new dataset is to figure out what is in the dataset, and where. Each NWB file is composed of various groups, which either contain attributes of our file (**metadata**) or the data itself.\n",
    "\n",
    "<div class=\"alert alert-info\"><b>Metadata</b> is a common term to describe all of the information about an experiment. This could include everything from when the experiment was conducted, the ID of the subject (animal, human, goblin, etc.), the equipment details, etc. In essence, the metadata provides the context of the experiment. This is one of the first things you should review when you’re encountering a new dataset.</div>\n",
    "\n",
    "Here is the structure of a typical NWB file:\n",
    "\n",
    "![NWB_file_structure.png](NWB_file_structure.png)\n",
    "\n",
    "In order to see which groups are in our file, we can use the `fields` attribute to return a dictionary containing the Groups of our NWB file. The dictionary **keys** are the various groups within the file which we will use to access the data we're ultimately interested in.\n",
    "\n",
    "> Need a refresher on dictionaries? Consider working through the free [Codecademy Python 3 lesson](https://www.codecademy.com/enrolled/courses/learn-python-3), or check the other resources on the [Data Science in Python](https://nwb4edu.github.io/Data_Science_In_Python/Introduction.html) page."
   ]
  },
  {
   "cell_type": "code",
   "execution_count": null,
   "metadata": {},
   "outputs": [],
   "source": [
    "# Get the Groups for the nwb file \n",
    "nwb_fields = nwb_file.fields\n",
    "print(nwb_fields.keys())"
   ]
  },
  {
   "cell_type": "markdown",
   "metadata": {},
   "source": [
    "### Experiment Metadata\n",
    "\n",
    "Let's first pull out some metadata for the experiment we downloaded.\n",
    "\n",
    "If you wish to access the related publications of the experimental data that you just downloaded, you can do so by accessing the `related_publications` attribute of your NWB file object. Plug in the \"doi:\" address that prints below into a browser window to check out the original publication describing this data."
   ]
  },
  {
   "cell_type": "code",
   "execution_count": null,
   "metadata": {},
   "outputs": [],
   "source": [
    "# Print the related publication\n",
    "nwb_file.related_publications"
   ]
  },
  {
   "cell_type": "markdown",
   "metadata": {},
   "source": [
    "Each NWB file will also have information on where the experiment was conducted, which lab conducted the experiment, as well as a description of the experiment. This information can be accessed using `institution`, `lab`, and `experiment_description`, attributes on our nwb_file, respectively."
   ]
  },
  {
   "cell_type": "code",
   "execution_count": null,
   "metadata": {
    "scrolled": true
   },
   "outputs": [],
   "source": [
    "# Get metadata from NWB file \n",
    "print('The experiment within this NWB file was conducted at',nwb_file.institution,'.'\\\n",
    "      ,nwb_file.experiment_description)"
   ]
  },
  {
   "cell_type": "markdown",
   "metadata": {},
   "source": [
    "As you might have noticed at this point, we can access datasets from each group in our nwb_file with the following syntax: `nwb_file.GROUPNAME`, just as we would typically access an attribute of object in Python. Below we will demonstrate some of the most useful groups within an NWB object. "
   ]
  },
  {
   "cell_type": "markdown",
   "metadata": {},
   "source": [
    "### Acquisition \n",
    "\n",
    "The `acquisition` group contains datasets of acquisition data, mainly `TimeSeries` objects belonging to this NWBFile. "
   ]
  },
  {
   "cell_type": "code",
   "execution_count": null,
   "metadata": {},
   "outputs": [],
   "source": [
    "nwb_file.acquisition"
   ]
  },
  {
   "cell_type": "markdown",
   "metadata": {},
   "source": [
    "In this file, the acquisition group contains one dataset, `lick_times`. This dataset has one field, `time_series`, which contains two time series objects, `lick_left_times` and `lick_right_times`. To access the actual data arrays of these objects we must first subset our dataset of interest from the group. We can then use `timestamps[:]` to return a list of timestamps for when the animal licked."
   ]
  },
  {
   "cell_type": "code",
   "execution_count": null,
   "metadata": {},
   "outputs": [],
   "source": [
    "# select our dataset of interest \n",
    "dataset = 'lick_times'\n",
    "field = 'lick_right_times'\n",
    "\n",
    "lick_r_dataset = nwb_file.acquisition[dataset][field]\n",
    "\n",
    "# return the first 10 values in data array \n",
    "lick_r_data_array = lick_r_dataset.timestamps[:10][:10]\n",
    "\n",
    "print(lick_r_data_array)"
   ]
  },
  {
   "cell_type": "markdown",
   "metadata": {},
   "source": [
    "### Intervals \n",
    "\n",
    "The `intervals` group contains all time interval tables from the experiment -- things like, did the animal respond on the behavioral trial? Usefully, we can take `intervals` and convert it to a tidy dataframe using `to_dataframe()`."
   ]
  },
  {
   "cell_type": "code",
   "execution_count": null,
   "metadata": {},
   "outputs": [],
   "source": [
    "# Select the group of interest from the nwb file \n",
    "intervals = nwb_file.intervals\n",
    "\n",
    "# Pull out trials and assign it as a dataframe\n",
    "interval_trials_df = intervals['trials'].to_dataframe()\n",
    "interval_trials_df.head()"
   ]
  },
  {
   "cell_type": "markdown",
   "metadata": {},
   "source": [
    "In case you're wondering what these columns are, the `description` attribute provides a short description on each column of the dataframe."
   ]
  },
  {
   "cell_type": "code",
   "execution_count": null,
   "metadata": {},
   "outputs": [],
   "source": [
    "# return the description of each col in our dataframe\n",
    "for col in interval_trials_df:\n",
    "    print(col,':',intervals['trials'][col].description)"
   ]
  },
  {
   "cell_type": "markdown",
   "metadata": {},
   "source": [
    "### Units\n",
    "\n",
    "But wait, where's all of the neural data? The `units` group in our NWB file contains the processed signals from our individual neurons (**units**), including information about the spike sorting quality as well as the spike times -- when each of these cells fired an action potential. Much like the `intervals` group, `units` can also be assigned to a dataframe.\n",
    "\n",
    "\n",
    "<div class=\"alert alert-info\"><b>Why \"units\"?</b> In extracellular electrophysiology, we aren't recording *directly* from neurons. Instead, we're recording from the space around many neurons. As a result, researchers need to take the recorded voltage streams and determine which spikes in voltage originated in different neurons. This process is called <b>spike sorting</b> (discussed in detail in a future lesson!). Although we can do spike sorting fairly automatically and be fairly confident that we've correctly identified different neurons, we can't know *with complete confidence*. So, researchers tend to call \"neurons\" in extracellular recordings \"units,\" reflecting that we *think* it's a separate neuron, but don't know for sure. You'll also see \"multi-unit activity\" (MUA) in some papers, in which case the researchers were unable to separate single neurons.</div>"
   ]
  },
  {
   "cell_type": "code",
   "execution_count": null,
   "metadata": {
    "scrolled": true
   },
   "outputs": [],
   "source": [
    "units = nwb_file.units\n",
    "units_df = units.to_dataframe()\n",
    "units_df.head()"
   ]
  },
  {
   "cell_type": "markdown",
   "metadata": {},
   "source": [
    "If we'd like to know where these spikes are coming from, we can look at the `electrodes` attribute. The `electrodes` group contains metadata about the electrodes used in the experiment, including the location of the electrodes, the type of filtering done on that channel, and which electrode group the electrode belongs to. "
   ]
  },
  {
   "cell_type": "code",
   "execution_count": null,
   "metadata": {
    "scrolled": true
   },
   "outputs": [],
   "source": [
    "# electrode positions \n",
    "electrodes = nwb_file.electrodes\n",
    "electrodes_df = electrodes.to_dataframe()\n",
    "electrodes_df.head()"
   ]
  },
  {
   "cell_type": "markdown",
   "metadata": {},
   "source": [
    "Wondering what something in this table is? We can once again dig out the descriptions:\n",
    "\n",
    "> Not sure what's happening below? Consider working through the [Codecademy Python 3 course](https://www.codecademy.com/enrolled/courses/learn-python-3) for a refresher on for loops."
   ]
  },
  {
   "cell_type": "code",
   "execution_count": null,
   "metadata": {},
   "outputs": [],
   "source": [
    "# return the description of each col in our dataframe\n",
    "for col in electrodes_df:\n",
    "    print(col,':',nwb_file.electrodes[col].description)"
   ]
  },
  {
   "cell_type": "markdown",
   "metadata": {},
   "source": [
    "Now that we have an idea of what this file contains, we can finally take a look at some of the data! We'll do that in the next section. 💃\n",
    "\n",
    "<hr>\n",
    "\n",
    "## Additional Resources \n",
    "* For a detailed explanation of all groups contained within an NWB File object please visit the <a href = 'https://pynwb.readthedocs.io/en/stable/pynwb.file.html'>pynwb.file.NWBFile</a> section of the PyNWB documentation. \n",
    "* The [OpenScope DataBook](https://alleninstitute.github.io/openscope_databook/basics/read_nwb.html) also contains explanations of what is contained within NWB files.\n",
    "* Accessing metadata for different kinds of NWB files can be tricky. [Here are some useful helper scripts](https://alleninstitute.github.io/openscope_databook/basics/get_dandiset_metadata.html) from the OpenScope DataBook."
   ]
  }
 ],
 "metadata": {
  "kernelspec": {
   "display_name": "Python 3",
   "language": "python",
   "name": "python3"
  },
  "language_info": {
   "codemirror_mode": {
    "name": "ipython",
    "version": 3
   },
   "file_extension": ".py",
   "mimetype": "text/x-python",
   "name": "python",
   "nbconvert_exporter": "python",
   "pygments_lexer": "ipython3",
   "version": "3.7.3"
  }
 },
 "nbformat": 4,
 "nbformat_minor": 4
}
