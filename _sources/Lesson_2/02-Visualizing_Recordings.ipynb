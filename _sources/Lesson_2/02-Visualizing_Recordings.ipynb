{
 "cells": [
  {
   "cell_type": "markdown",
   "metadata": {},
   "source": [
    "# Visualizing Large Scale Recordings\n",
    "Now that we are familiar with the structure of an NWB file as well as the groups encapsulated within it, we are ready to work with the data. In this lesson you will learn to search the NWB file for its available data and plot visualizations such as raster plots.\n",
    "\n",
    "Below, we'll import some now familiar packages and once again work with the dataset we obtained in Lesson 1. This should look very familiar to you by now!\n",
    "\n",
    "<mark>**Note #1**: The code below will only work if you downloaded this NWB dataset on the last page.</mark>\n",
    "\n",
    "<mark>**Note #2**: Some of the cells below contain <code>try</code> and <code>except</code> to catch instances where these notebooks are not run in a properly configured coding environment. You can focus on the code *after* <code>try</code> -- that's the code we want to run."
   ]
  },
  {
   "cell_type": "code",
   "execution_count": null,
   "metadata": {
    "scrolled": true
   },
   "outputs": [],
   "source": "import warnings\nwarnings.filterwarnings('ignore')\n\n# import necessary packages\nfrom pynwb import NWBHDF5IO\nimport matplotlib.pyplot as plt\nimport numpy as np\nimport os\n\n# set the filename\nfilename = '../Lesson_1/000006/sub-anm369962/sub-anm369962_ses-20170310.nwb'\n\n# Check for alternative file locations if the default path doesn't exist\nif not os.path.exists(filename):\n    # Try without the ../ prefix (in case we're running from root)\n    alt_filename = 'Lesson_1/000006/sub-anm369962/sub-anm369962_ses-20170310.nwb'\n    if os.path.exists(alt_filename):\n        filename = alt_filename\n    else:\n        # Try from parent directory\n        alt_filename2 = '000006/sub-anm369962/sub-anm369962_ses-20170310.nwb'\n        if os.path.exists(alt_filename2):\n            filename = alt_filename2\n\n# assign file as an NWBHDF5IO object\ntry:\n    io = NWBHDF5IO(filename, 'r')   \n    nwb_file = io.read() # read the file\n    print('NWB file found and read.')\n    print(type(nwb_file)) \nexcept:\n    print('You have not downloaded this file yet. Please complete the previous page.')"
  },
  {
   "cell_type": "markdown",
   "metadata": {},
   "source": [
    "The first group that we will look at is `units` because it contains information about spikes times in the data. This time, we will subset our dataframe to only contain neurons with `Fair` spike sorting quality. This means that the researchers are more confident that these are indeed isolated neurons.  \n",
    "\n",
    "> Need a refresher on how we subset a dataframe? Review the [Pandas page](https://nwb4edu.github.io/Data_Science_In_Python/Pandas.html#subsetting)."
   ]
  },
  {
   "cell_type": "code",
   "execution_count": 3,
   "metadata": {},
   "outputs": [
    {
     "data": {
      "text/html": [
       "<div>\n",
       "<style scoped>\n",
       "    .dataframe tbody tr th:only-of-type {\n",
       "        vertical-align: middle;\n",
       "    }\n",
       "\n",
       "    .dataframe tbody tr th {\n",
       "        vertical-align: top;\n",
       "    }\n",
       "\n",
       "    .dataframe thead th {\n",
       "        text-align: right;\n",
       "    }\n",
       "</style>\n",
       "<table border=\"1\" class=\"dataframe\">\n",
       "  <thead>\n",
       "    <tr style=\"text-align: right;\">\n",
       "      <th></th>\n",
       "      <th>depth</th>\n",
       "      <th>quality</th>\n",
       "      <th>cell_type</th>\n",
       "      <th>spike_times</th>\n",
       "      <th>electrodes</th>\n",
       "    </tr>\n",
       "    <tr>\n",
       "      <th>id</th>\n",
       "      <th></th>\n",
       "      <th></th>\n",
       "      <th></th>\n",
       "      <th></th>\n",
       "      <th></th>\n",
       "    </tr>\n",
       "  </thead>\n",
       "  <tbody>\n",
       "    <tr>\n",
       "      <th>2</th>\n",
       "      <td>665.0</td>\n",
       "      <td>Fair</td>\n",
       "      <td>unidentified</td>\n",
       "      <td>[329.95417899999956, 330.01945899999953, 330.0...</td>\n",
       "      <td>x      y      z     imp  \\\n",
       "id         ...</td>\n",
       "    </tr>\n",
       "    <tr>\n",
       "      <th>5</th>\n",
       "      <td>715.0</td>\n",
       "      <td>Fair</td>\n",
       "      <td>unidentified</td>\n",
       "      <td>[331.09961899999956, 332.14505899999955, 333.3...</td>\n",
       "      <td>x      y      z     imp  \\\n",
       "id         ...</td>\n",
       "    </tr>\n",
       "    <tr>\n",
       "      <th>6</th>\n",
       "      <td>715.0</td>\n",
       "      <td>Fair</td>\n",
       "      <td>unidentified</td>\n",
       "      <td>[329.91129899999953, 329.92869899999954, 330.0...</td>\n",
       "      <td>x      y      z     imp  \\\n",
       "id         ...</td>\n",
       "    </tr>\n",
       "    <tr>\n",
       "      <th>7</th>\n",
       "      <td>765.0</td>\n",
       "      <td>Fair</td>\n",
       "      <td>unidentified</td>\n",
       "      <td>[330.26357899999954, 330.3849389999996, 330.60...</td>\n",
       "      <td>x      y      z     imp  \\\n",
       "id         ...</td>\n",
       "    </tr>\n",
       "    <tr>\n",
       "      <th>10</th>\n",
       "      <td>815.0</td>\n",
       "      <td>Fair</td>\n",
       "      <td>unidentified</td>\n",
       "      <td>[329.8969389999996, 329.94389899999953, 329.95...</td>\n",
       "      <td>x      y      z     imp  \\\n",
       "id         ...</td>\n",
       "    </tr>\n",
       "  </tbody>\n",
       "</table>\n",
       "</div>"
      ],
      "text/plain": [
       "    depth quality     cell_type  \\\n",
       "id                                \n",
       "2   665.0    Fair  unidentified   \n",
       "5   715.0    Fair  unidentified   \n",
       "6   715.0    Fair  unidentified   \n",
       "7   765.0    Fair  unidentified   \n",
       "10  815.0    Fair  unidentified   \n",
       "\n",
       "                                          spike_times  \\\n",
       "id                                                      \n",
       "2   [329.95417899999956, 330.01945899999953, 330.0...   \n",
       "5   [331.09961899999956, 332.14505899999955, 333.3...   \n",
       "6   [329.91129899999953, 329.92869899999954, 330.0...   \n",
       "7   [330.26357899999954, 330.3849389999996, 330.60...   \n",
       "10  [329.8969389999996, 329.94389899999953, 329.95...   \n",
       "\n",
       "                                           electrodes  \n",
       "id                                                     \n",
       "2           x      y      z     imp  \\\n",
       "id         ...  \n",
       "5           x      y      z     imp  \\\n",
       "id         ...  \n",
       "6           x      y      z     imp  \\\n",
       "id         ...  \n",
       "7           x      y      z     imp  \\\n",
       "id         ...  \n",
       "10          x      y      z     imp  \\\n",
       "id         ...  "
      ]
     },
     "execution_count": 3,
     "metadata": {},
     "output_type": "execute_result"
    }
   ],
   "source": [
    "# Get the units data frame\n",
    "units_df = nwb_file.units.to_dataframe()\n",
    " \n",
    "# Select only \"Fair\" units\n",
    "fair_units_df = units_df[units_df['quality']=='Fair']\n",
    "\n",
    "# Print the subsetted dataframe\n",
    "fair_units_df.head()"
   ]
  },
  {
   "cell_type": "markdown",
   "metadata": {},
   "source": [
    "The `spike_times` column contains the times at which the recorded neuron fired an action potential. Each neuron has a list of spike times for their `spike_times` column. Below, we'll return the first 10 spike times for a given neuron. "
   ]
  },
  {
   "cell_type": "code",
   "execution_count": 4,
   "metadata": {},
   "outputs": [
    {
     "name": "stdout",
     "output_type": "stream",
     "text": [
      "[331.099619 332.145059 333.362499 333.395059 334.149659 334.178019\n",
      " 334.183059 334.612499 340.767066 340.916546]\n"
     ]
    }
   ],
   "source": [
    "# Return the first 10 spike times for your neuron of choice\n",
    "unit_id = 5\n",
    "print(units_df['spike_times'][unit_id][:10])"
   ]
  },
  {
   "cell_type": "markdown",
   "metadata": {},
   "source": [
    "<div class=\"alert alert-info\">A <b>spike raster plot</b> displays the spiking of neurons over time. In a raster plot, each row corresponds to a different neuron or a different trial, and the x-axis represents the time. Each small vertical line in the plot represents the spiking of a neuron. Raster plots are useful to concisely reveal firing rate correlations between groups of neurons or trends in activity over time.</div>\n",
    "\n",
    "Below, we'll create a function called `plot_raster()` that creates a raster plot from the `spike_times` column in `units`. `plot_raster()` takes the following arguments:\n",
    "\n",
    "- `unit_df`: dataframe containing spike time data\n",
    "- `neuron_start`: index of first neuron of interest \n",
    "- `neuron_end`: index of last neuron of interest\n",
    "- `start_time`: start time for desired time interval (in seconds)\n",
    "- `end_time`: end time for desired time interval (in seconds)\n",
    "\n",
    "The plot is ultimately created using the function [`plt.eventplot`](https://matplotlib.org/stable/api/_as_gen/matplotlib.pyplot.eventplot.html)."
   ]
  },
  {
   "cell_type": "code",
   "execution_count": null,
   "metadata": {},
   "outputs": [],
   "source": "def plot_raster(units_df, neuron_start, neuron_end, start_time, end_time):\n    \"\"\"\n    Create a raster plot from spike times in a units dataframe.\n    \n    Parameters\n    ----------\n    units_df : pandas.DataFrame\n        Dataframe containing the units group of an NWB file\n    neuron_start : int\n        Index of first neuron of interest\n    neuron_end : int\n        Index of last neuron of interest\n    start_time : float\n        Start time for desired time interval in seconds\n    end_time : float\n        End time for desired time interval in seconds\n    \"\"\"\n    neural_data = units_df['spike_times'][neuron_start:neuron_end]\n    num_neurons = neuron_end - neuron_start\n    my_colors = ['C{}'.format(i) for i in range(num_neurons)]\n    \n    plt.eventplot(neural_data, colors=my_colors)\n    plt.xlim([start_time, end_time])\n    \n    plt.title('Spike raster plot')\n    plt.ylabel('Neuron #')\n    plt.xlabel('Time (s)')\n    plt.yticks(np.arange(0, num_neurons))\n    plt.show()\n\n# Use our new function\nplot_raster(units_df, neuron_start=2, neuron_end=11, start_time=330, end_time=335)"
  },
  {
   "cell_type": "markdown",
   "metadata": {},
   "source": [
    "The plot above is only contains neural spikes from nine neurons in a five second time interval. While there are many spikes to consider in this one graph, each neuron has much more than five seconds worth of spike recordings! To summarize these spikes over time, we can compute a **firing rate**."
   ]
  },
  {
   "cell_type": "markdown",
   "metadata": {},
   "source": [
    "## Binning Firing Rates "
   ]
  },
  {
   "cell_type": "markdown",
   "metadata": {},
   "source": [
    "Raster plots are great for seeing individual neural spikes, but difficult to see the overall firing rates of the units. To get a better sense of the overall firing rates of our units, we can bin our spikes into time bins of 1 second using the function below, `plot_firing_rates()`."
   ]
  },
  {
   "cell_type": "code",
   "execution_count": null,
   "metadata": {},
   "outputs": [],
   "source": "def plot_firing_rates(spike_times, start_time=None, end_time=None):\n    \"\"\"\n    Plot binned firing rate for spike times in 1 second time bins.\n    \n    Parameters\n    ----------\n    spike_times : numpy.ndarray\n        Spike times in seconds\n    start_time : int, optional\n        Start time for spike binning in seconds; sets lower bound for x axis\n    end_time : int, optional\n        End time for spike binning in seconds; sets upper bound for x axis\n    \"\"\"\n    num_bins = int(np.ceil(spike_times[-1]))\n    binned_spikes = np.empty(num_bins)\n    \n    for j in range(num_bins):\n        binned_spikes[j] = len(spike_times[(spike_times > j) & (spike_times < j + 1)])\n    \n    plt.plot(binned_spikes)\n    plt.xlabel('Time (s)')\n    plt.ylabel('Firing Rate (Hz)')\n    \n    if (start_time is not None) and (end_time is not None):\n        plt.xlim(start_time, end_time)"
  },
  {
   "cell_type": "markdown",
   "metadata": {},
   "source": [
    "Let's use the function we just created to plot our data. Below, we will store all of the spike times from the same unit as above as `single_unit` and plot the firing rates over time."
   ]
  },
  {
   "cell_type": "code",
   "execution_count": null,
   "metadata": {
    "scrolled": true
   },
   "outputs": [],
   "source": "# Plot our data\nsingle_unit = units_df['spike_times'][unit_id]\nplot_firing_rates(single_unit, 300, 500)"
  },
  {
   "cell_type": "markdown",
   "metadata": {},
   "source": [
    "<div class=\"alert alert-success\"><b>Task</b>: Modify the <code>plot_firing_rates</code> function above so that it returns <code>binned_spikes</code>. You'll need this for the Lesson 2 problem set!</div>"
   ]
  },
  {
   "cell_type": "markdown",
   "metadata": {},
   "source": [
    "## Compare firing rates at different depths of cortex\n",
    "\n",
    "The units in our data were recorded from various cortical depths, therefore we can compare the firing units from differing cortical depths to test for differing firing rates. Let's first take a look at the distribution of depth from our units."
   ]
  },
  {
   "cell_type": "code",
   "execution_count": 9,
   "metadata": {},
   "outputs": [
    {
     "data": {
      "image/png": "[encoded data removed]",
      "text/plain": [
       "<Figure size 432x288 with 1 Axes>"
      ]
     },
     "metadata": {
      "needs_background": "light"
     },
     "output_type": "display_data"
    }
   ],
   "source": [
    "# Plot distribution of neuron depth \n",
    "plt.hist(units_df['depth'], bins=30)\n",
    "plt.title('Distribution of depth')\n",
    "plt.xlabel('Depth (\\u03bcm)') # The random letters in here are to create a mu symbol using unicode\n",
    "plt.ylabel('Frequency')\n",
    "plt.show()"
   ]
  },
  {
   "cell_type": "markdown",
   "metadata": {},
   "source": [
    "We will compare one unit recorded from 1165 microns to one unit recorded from 715 microns."
   ]
  },
  {
   "cell_type": "code",
   "execution_count": 33,
   "metadata": {
    "scrolled": false
   },
   "outputs": [
    {
     "data": {
      "image/png": "[encoded data removed]",
      "text/plain": [
       "<Figure size 432x288 with 1 Axes>"
      ]
     },
     "metadata": {
      "needs_background": "light"
     },
     "output_type": "display_data"
    }
   ],
   "source": [
    "# Assign dataframes for different depths \n",
    "depth_1165 = units_df[units_df['depth']==1165]\n",
    "depth_715 = units_df[units_df['depth']==715]\n",
    "\n",
    "# Create list of containing 1 entry from each depth\n",
    "neural_list_1165 = depth_1165['spike_times'].iloc[0]\n",
    "neural_list_715 = depth_715['spike_times'].iloc[0]\n",
    "\n",
    "# Plot firing rates\n",
    "plot_firing_rates(neural_list_1165, 300, 500)\n",
    "plot_firing_rates(neural_list_715, 300, 500)\n",
    "plt.legend(['1165','715'])\n",
    "plt.show()"
   ]
  },
  {
   "cell_type": "markdown",
   "metadata": {},
   "source": [
    "It looks like the neuron that's more superficial (at a depth of 715 microns) has a higher firing rate! But we'd certainly need more data to make a conclusive argument about that.\n",
    "\n",
    "<hr>\n",
    "\n",
    "## Lesson 2 Wrap Up\n",
    "\n",
    "In this lesson, we showed you how to import raw extracellular electrophysiology data from an NWB file to perform a simple version of spike sorting. We then worked with previously sorted \"units\" from an NWB file to illustrate common ways of visualizing extracellular recordings.\n",
    "\n",
    "Hopefully now you can:\n",
    "\n",
    "    ✔️ Identify the processing steps in extracellular experiments\n",
    "    ✔️ Implement spike sorting on extracellular recording data\n",
    "    ✔️ Generate and interpret common visualizations of extracellular recording data\n",
    "\n",
    "Before moving on, try the Lesson #2 problem set to test your understanding and to put some of these new skills to work. 💪\n",
    "<hr>\n",
    "\n",
    "## Additional resources\n",
    "\n",
    "* For more ideas about how to play with this dataset, see this [Github repository](https://github.com/vathes/DJ-NWB-Economo-2018/blob/master/notebooks/Economo-2018-examples.ipynb).\n",
    "* For information about how to explore spike sorting quality metrics in particular NWB files, see [this OpenScope page](https://alleninstitute.github.io/openscope_databook/visualization/visualize_unit_metrics.html\n",
    "* For ideas on how to analyze this data based on other elements of the experiment (e.g., the stimuli) see [this OpenScope page](https://alleninstitute.github.io/openscope_databook/visualization/visualize_unit_responses.html)."
   ]
  }
 ],
 "metadata": {
  "kernelspec": {
   "display_name": "Python 3",
   "language": "python",
   "name": "python3"
  },
  "language_info": {
   "codemirror_mode": {
    "name": "ipython",
    "version": 3
   },
   "file_extension": ".py",
   "mimetype": "text/x-python",
   "name": "python",
   "nbconvert_exporter": "python",
   "pygments_lexer": "ipython3",
   "version": "3.7.3"
  }
 },
 "nbformat": 4,
 "nbformat_minor": 4
}