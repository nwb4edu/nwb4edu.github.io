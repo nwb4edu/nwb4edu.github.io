{
 "cells": [
  {
   "cell_type": "markdown",
   "id": "375f6efa",
   "metadata": {},
   "source": [
    "# Interactive NWB Data Exploration\n",
    "\n",
    "As we saw in the last section, the NWB file contains a ton of information about the experiment, as well as the actual data. We can look through each of the groups in the NWB file to pull out this information, or we can use a handy widget created by the NWB team.\n",
    "\n",
    "This widget will also let us take a sneak peak at the behavioral and neural data as well. As a first pass, it can be very useful to explore the dataset in this high level way. This allows you to inspect the data for quality, and look for any interesting trends. To take a peek at the neural data here, you can look under the \"Units\" header below. \n",
    "\n",
    "Below, we'll take advantage of the [`nwbwidgets` package](https://github.com/NeurodataWithoutBorders/nwb-jupyter-widgets) to explore the data. This package usefully automatically renders information and visualizations of the data, depending on what it is. We'll use the nwb2widget function to explore one of the datasets we downloaded earlier."
   ]
  },
  {
   "cell_type": "code",
   "execution_count": 2,
   "id": "c6009154",
   "metadata": {},
   "outputs": [
    {
     "name": "stderr",
     "output_type": "stream",
     "text": [
      "/Users/ashley/anaconda3/lib/python3.7/site-packages/dask/config.py:168: YAMLLoadWarning: calling yaml.load() without Loader=... is deprecated, as the default Loader is unsafe. Please read https://msg.pyyaml.org/load for full details.\n",
      "  data = yaml.load(f.read()) or {}\n",
      "/Users/ashley/anaconda3/lib/python3.7/site-packages/distributed/config.py:20: YAMLLoadWarning: calling yaml.load() without Loader=... is deprecated, as the default Loader is unsafe. Please read https://msg.pyyaml.org/load for full details.\n",
      "  defaults = yaml.load(f)\n"
     ]
    }
   ],
   "source": [
    "from pynwb import NWBHDF5IO\n",
    "from nwbwidgets import nwb2widget\n",
    "\n",
    "# read the NWB file\n",
    "fpath = '000006/sub-anm369962/sub-anm369962_ses-20170310.nwb'\n",
    "nwb_file = NWBHDF5IO(fpath, 'r').read()"
   ]
  },
  {
   "cell_type": "code",
   "execution_count": 3,
   "id": "00ce1294",
   "metadata": {
    "scrolled": false
   },
   "outputs": [
    {
     "data": {
      "application/vnd.jupyter.widget-view+json": {
       "model_id": "f38dd2e59de449abb07b5ba8958fd93b",
       "version_major": 2,
       "version_minor": 0
      },
      "text/plain": [
       "VBox(children=(HBox(children=(Label(value='session_description:', layout=Layout(max_height='40px', max_width='…"
      ]
     },
     "metadata": {},
     "output_type": "display_data"
    }
   ],
   "source": [
    "nwb2widget(nwb_file)"
   ]
  },
  {
   "cell_type": "markdown",
   "id": "b8c19a01",
   "metadata": {},
   "source": [
    "### Additional Resources\n",
    "* [Ben Dichter provides an overview of NWBWidgets](https://training.incf.org/lesson/nwbwidgets-inteactively-exploring-nwb-files)"
   ]
  }
 ],
 "metadata": {
  "kernelspec": {
   "display_name": "Python 3",
   "language": "python",
   "name": "python3"
  },
  "language_info": {
   "codemirror_mode": {
    "name": "ipython",
    "version": 3
   },
   "file_extension": ".py",
   "mimetype": "text/x-python",
   "name": "python",
   "nbconvert_exporter": "python",
   "pygments_lexer": "ipython3",
   "version": "3.7.3"
  }
 },
 "nbformat": 4,
 "nbformat_minor": 5
}
