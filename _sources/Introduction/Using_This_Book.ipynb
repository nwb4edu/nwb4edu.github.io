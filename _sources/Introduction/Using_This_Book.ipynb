{
 "cells": [
  {
   "cell_type": "markdown",
   "id": "ce74abd6",
   "metadata": {},
   "source": "# How to Use this Book\n\nThis online resource contains many notebook files with executable code cells as well as descriptive Markdown cells. It is designed to be an active exploration of NWB data, but can be used in a few different ways.\n\n## Option 1: As a casual observer\nThere's a lot of descriptive text in this book, as well as the code. If you're interested in seeing the overall flow of ideas without digging into the data yourself, feel free to peruse via the primary website: [nwb4edu.github.io](http://nwb4edu.github.io).\n\n## Option 2: Using cloud computing\nThis, dear reader, is our preferred mode of interaction so that you really engage with the materials! And even here, you have two options:\n\n### DANDI Jupyter Hub\n[DANDI](https://www.dandiarchive.org/), a platform for publishing, sharing, and processing neurophysiology data funded by the BRAIN Initiative, has a [JupyterHub](https://jupyterhub.readthedocs.io/en/stable/) which is pre-configured for working with their dataset. This JupyterHub (nicknamed the [Dandihub](http://hub.dandiarchive.org/)) allows you to run code on servers that they are supporting. \n\nTo launch the code here on the Dandihub, follow these directions:\n\n1. If you do not have already, set up a [GitHub account](https://github.com/signup). It's free, and it's a great way to start tracking your code!\n2. **Register for a DANDI account** at [https://dandiarchive.org/](https://dandiarchive.org/) by clicking \"LOG IN\" and then \"LOG IN WITH GITHUB\". Membership is usually granted automatically to GitHub accounts with a .edu or similar academic email address. For new GitHub accounts or non-.edu email addresses, approval may take up to 24 hours or longer.\n3. Once your account is approved, navigate to the page you'd like to interact with in this book and click the rocket icon at the top of the screen. In the dropdown menu, choose **JupyterHub**. This will bring you to the Dandihub at [https://hub.dandiarchive.org/](https://hub.dandiarchive.org/).\n4. Log in using your GitHub account (you should already be logged in if you just registered).\n5. Choose the **Standard** server option with the **DANDI Image**.\n6. Click the Start button and dive into the notebook that opens!\n\n**Note**: Regardless of whether or not you're running the code on the Dandihub, we'll primarily be using the `dandi` package to interact with NWB datasets.\n\n\n### Colab\nIf you have a strong preference for Colab, there is also an option in the rocket launch menu to open the notebooks here in Colab. Note that when you try to run your first cell in Colab, it will tell you that your notebook was not authored by Google -- that's okay! Click \"Run Anyway.\" Saving notebooks in Colab is possible if you log into a Google account.\n\n## Option 3: Using your local Python environment\nAs you would with other code bases, you can [clone our source code from Github](https://github.com/nwb4edu/nwb4edu.github.io) and go wild with your local Python install.\n\nIf you'd rather not clone the whole repository, you can use the good ol' copy and paste technique. Take caution, though: some, but not all, of the code snippets in this book will work on their own. Copy and paste into your own coding environment at your own risk.\n\n<hr>\n\n## Additional tips\n\n* If you're running the notebooks one after the other, keep in mind that **each notebook functions separately**. Any packages that are imported, variables that are created, etc. will need to be regenerated in each notebook.\n* Occasionally, a cell might produce a red warning message saying something is \"**deprecated**.\" Don't fret! This is just a warning that something deep in the code *may not work soon*.  It usually does not mean it won't work for you now."
  }
 ],
 "metadata": {
  "kernelspec": {
   "display_name": "Python 3",
   "language": "python",
   "name": "python3"
  },
  "language_info": {
   "codemirror_mode": {
    "name": "ipython",
    "version": 3
   },
   "file_extension": ".py",
   "mimetype": "text/x-python",
   "name": "python",
   "nbconvert_exporter": "python",
   "pygments_lexer": "ipython3",
   "version": "3.7.3"
  }
 },
 "nbformat": 4,
 "nbformat_minor": 5
}