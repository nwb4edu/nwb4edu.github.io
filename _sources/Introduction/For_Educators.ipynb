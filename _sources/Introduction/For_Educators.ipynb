{
 "cells": [
  {
   "cell_type": "markdown",
   "id": "0de0cd0e",
   "metadata": {},
   "source": [
    "# For Educators\n",
    "\n",
    "If you're using this book to support a lesson plan, we recommend using one of the cloud computing tools mentioned in [How to use this book](https://nwb4edu.github.io/Introduction/Using_This_Book.html), so that it will work for any learner with an internet connection. These cloud options even run on a tablet!\n",
    "\n",
    "<mark>To use the Dandi JupyterHub (the recommended option), students will need to create a GitHub account *and* receive permission from the Dandi team to access their resources. I recommend having students do this at least one week in advance.</mark>\n",
    "\n",
    "\n",
    "## Learning Objectives\n",
    "There may be more content in this book than you're keen on using -- that's okay! Each lesson has specific learning objectives to help you decide what content is most applicable to your needs. Learning objectives are outlined at the start of each lesson. The overarching objectives of this entire book are:\n",
    "\n",
    "* Interact with real, cutting-edge data from top notch research institutions and universities across the globe \n",
    "* Identify common ways to analyze extracellular and intracellular electrophysiology data and possible implementations of these analyses in Python\n",
    "* Gain confidence in writing workflows to analyze complex neuroscience data\n",
    "\n",
    "## Lesson Tasks & Terms\n",
    "\n",
    "Each lesson is embedded with tasks, terms, and reminders, to support and encourage student learning:\n",
    "\n",
    "<div class=\"alert alert-success\"><b>Green Task Boxes</b> could be used as formative assessments for students, asking them to turn in their responses to the answers within.</div>\n",
    "\n",
    "<div class=\"alert alert-info\"><b>Blue Definition Boxes</b> contain terms and descriptive elements for content knowledge that you may encourage your students to learn.</div>\n",
    "\n",
    "> **Reminders** point learners back to previous or outside content that is necessary for completing the current lesson.\n",
    "\n",
    "## Lesson Problem Sets\n",
    "Each lesson has an associated summative problem set. For solutions, please email ajuavine(at)ucsd(dot)edu.\n"
   ]
  }
 ],
 "metadata": {
  "kernelspec": {
   "display_name": "Python 3",
   "language": "python",
   "name": "python3"
  },
  "language_info": {
   "codemirror_mode": {
    "name": "ipython",
    "version": 3
   },
   "file_extension": ".py",
   "mimetype": "text/x-python",
   "name": "python",
   "nbconvert_exporter": "python",
   "pygments_lexer": "ipython3",
   "version": "3.7.3"
  }
 },
 "nbformat": 4,
 "nbformat_minor": 5
}
