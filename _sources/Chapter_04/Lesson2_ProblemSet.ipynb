{
 "cells": [
  {
   "cell_type": "markdown",
   "id": "e7a70cc4",
   "metadata": {},
   "source": [
    "# Lesson #2 Problem Set\n",
    "\n",
    "1. In the first notebook, we performed simple spike sorting using threshold detection and then feature extraction on one channel (index 99) in the Giocomo dataset. Use the same code to look at a different channel, index 89, and do the following:\n",
    "\n",
    "    * Zoom in on this data to show about one second of the recording by changing the `xlim` on the plot. How does this change your interpretation of this signal?\n",
    "    * Run the spike detection & feature extraction code as is. How many units does this suggest there are?\n",
    "    * Take a closer look at the recommended threshold and lower it (make it closer to zero). How does this change your conclusions? Does the amplitude feature extraction capture the two different waveforms well?\n",
    "\n",
    "\n",
    "2. In the second notebook, we created two functions. One of these functions plots binned firing rates over time. Modify this function to accept a NumPy array that is neurons x spike times, and to plot an average firing rate of all neurons over time. Bonus: add a shaded standard deviation around your average firing rate.\n",
    "\n",
    "3. In the second notebook, we looked at the Economo & Svoboda (2018) extracellular data and produced a table of trial times. We also showed how to plot a PSTH for single neurons. Use the `interval_trial` table we created to find trials where the mouse either had a \"correct\" or \"incorrect\" response. Take an average of firing rates across all neurons in the incorrect and correct trials, and plot. Is there a difference?\n",
    "\n",
    "4. Create a plot that compares the average firing rate for each brain area."
   ]
  },
  {
   "cell_type": "markdown",
   "id": "4442a091",
   "metadata": {},
   "source": []
  }
 ],
 "metadata": {
  "kernelspec": {
   "display_name": "Python 3",
   "language": "python",
   "name": "python3"
  },
  "language_info": {
   "codemirror_mode": {
    "name": "ipython",
    "version": 3
   },
   "file_extension": ".py",
   "mimetype": "text/x-python",
   "name": "python",
   "nbconvert_exporter": "python",
   "pygments_lexer": "ipython3",
   "version": "3.7.3"
  }
 },
 "nbformat": 4,
 "nbformat_minor": 5
}
