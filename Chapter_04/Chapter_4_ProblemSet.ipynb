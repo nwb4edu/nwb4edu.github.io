{
 "cells": [
  {
   "cell_type": "markdown",
   "id": "e7a70cc4",
   "metadata": {},
   "source": [
    "# Chapter 4 Problem Set\n",
    "\n",
    "1. In 4.1, we created two functions. One of these functions plots binned firing rates over time. Modify this function to accept a NumPy array that is neurons x spike times, and to plot an average firing rate of all neurons over time. Bonus: add a shaded standard deviation around your average firing rate.\n",
    "\n",
    "2. In 4.1, we looked at the Economo & Svoboda (2018) extracellular data and produced a table of trial times. In 4.2, we showed how to plot a PSTH for single neurons. Use the `interval_trial` table we created in 3.2 to find trials where the mouse either had a \"correct\" or \"incorrect\" response. Take an average of firing rates across all neurons in the incorrect and correct trials, and plot. Is there a difference?\n",
    "\n",
    "3. Create a plot that compares the average firing rate for each brain area.\n",
    "\n",
    "4. Using the `spykes` package, create a plot that is a peristimulus histogram for all gabor stimuli at 90 degrees.\n",
    "\n",
    "5. Use the code provided in 4.3 to compare the waveforms of Sst+ cells with non-Sst+ cells and PV+ cells. Are they the same?"
   ]
  }
 ],
 "metadata": {
  "kernelspec": {
   "display_name": "Python 3",
   "language": "python",
   "name": "python3"
  },
  "language_info": {
   "codemirror_mode": {
    "name": "ipython",
    "version": 3
   },
   "file_extension": ".py",
   "mimetype": "text/x-python",
   "name": "python",
   "nbconvert_exporter": "python",
   "pygments_lexer": "ipython3",
   "version": "3.7.3"
  }
 },
 "nbformat": 4,
 "nbformat_minor": 5
}
