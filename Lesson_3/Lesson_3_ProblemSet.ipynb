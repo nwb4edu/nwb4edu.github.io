{
 "cells": [
  {
   "cell_type": "markdown",
   "id": "52314b2e",
   "metadata": {},
   "source": [
    "# Lesson 3 Problem Set\n",
    "\n",
    "In this lesson, we compared spiny cells to aspiny cells. However, the Allen Institute data has many more comparisons we could make!\n",
    "\n",
    "For this problem set, it's up to you to choose which cell types to compare.\n",
    "\n",
    "* If you'd like to compare cells from different species, the column name is `species`.\n",
    "* If you'd like to compare two transgenic lines (mouse cells only), the column name is `transgenic_line`.\n",
    "* For different layers of cortex, use `structure_layer_name`.\n",
    "\n",
    "You'll also decide which pre-computed feature to compare between these cell types.\n",
    "\n",
    "Choose your comparison and pre-computed feature, and generate a visualization to show whether or not those two cell types are similar or different for your feature. You may also want to generate a plot of the recording trace, for example, to demonstrate a difference in spike waveform."
   ]
  },
  {
   "cell_type": "markdown",
   "id": "b661e5f0",
   "metadata": {},
   "source": []
  }
 ],
 "metadata": {
  "kernelspec": {
   "display_name": "Python 3",
   "language": "python",
   "name": "python3"
  },
  "language_info": {
   "codemirror_mode": {
    "name": "ipython",
    "version": 3
   },
   "file_extension": ".py",
   "mimetype": "text/x-python",
   "name": "python",
   "nbconvert_exporter": "python",
   "pygments_lexer": "ipython3",
   "version": "3.7.3"
  }
 },
 "nbformat": 4,
 "nbformat_minor": 5
}
