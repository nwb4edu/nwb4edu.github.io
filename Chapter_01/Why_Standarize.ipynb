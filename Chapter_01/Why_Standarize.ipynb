{
 "cells": [
  {
   "cell_type": "markdown",
   "id": "7a880bb5",
   "metadata": {},
   "source": [
    "# Why does neuroscience need standardization?\n",
    "\n",
    "For many, many years in neuroscience, the landscape of file formats has been the wild west. Everyone either uses a format either dictated by their lab or by the equipment they’re using. This poses a huge challenge to data sharing, though. If you want to collaborate with the lab next door and share data with them, one of the first questions is: what format is your data in? While static images taken from a microscope and standard biology lab procedures like western blots are fairly straightforward to share, physiology and behavior data types are much more diverse.\n",
    "\n",
    "There are many considerations when developing a data format standard. It should be able to store large, complex data and its meta data, it should work with a variety of software platforms and programming languages, and it should be customizable and easily usable by neuroscientists (Teeter & Ruebel). Many folks working on open data resources also consider the FAIR principles: datasets should be findable, accessible, interoperable (can be integrated with data/tools from non-cooperating resources with minimal effort), and reusable (Wilkinson et al., 2016). Data formats that meet these requirements can greatly advance open science (see below).\n",
    "\n",
    "In response to this complexity and with these requirements in mind, many leaders in the field have proposed data format standards to promote collaboration, data sharing, and meta-analyses across datasets.\n",
    "\n",
    "\n",
    "### About the Neurodata Without Borders: Neurophysiology File Format\n",
    "All of the datasets that we'll work with here are in the [Neurodata Without Borders: Neurophysiology (NWB:N)](https://www.nwb.org/nwb-neurophysiology/) format. NWB:N is a standard to share, store, and build analysis tools for neuroscience data. NWB:N contains software to standardize data as well as APIs to read and write data. NWB:N is built on [HDF5 (hierarchical data format)](http://davis.lbl.gov/Manuals/HDF5-1.8.7/UG/10_Datasets.html), which was designed for large data storage and multi-language accessibility. In other words, it’s good at doing exactly what we need it to do.\n",
    "\n",
    "Several of the available NWB:N datasets are highlighted on the [NWB website](https://www.nwb.org/example-datasets/).\n",
    "\n",
    "### Additional reading\n",
    "Read more about the need for data standardization in neuroscience and beyond:\n",
    "* Teeters, J. L. et al. Neurodata Without Borders: Creating a Common Data Format for Neurophysiology. Neuron 88, 629–634 (2015).\n",
    "\n",
    "* Teeters, J. L. et al. Development of the Neurodata Without Borders: Neurophysiology file format. Front. Neurosci. Conference Abstract: Neuroinformatics, https://doi.org/10.3389/conf.fnins.2015.91.00033 (2015).\n",
    "\n",
    "* Rubel, O. et al. NWB:N 2.0: An Accessible Data Standard for Neurophysiology. Preprint at, https://doi.org/10.1101/523035v1 (2019). 4.\n",
    "\n",
    "* Gorgolewski KJ, Auer T, Calhoun VD, Craddock RC, Das S, Duff EP, Flandin G, Ghosh SS, Glatard T, Halchenko YO, Handwerker DA, Hanke M, Keator D, Li X, Michael Z, Maumet C, Nichols BN, Nichols TE, Pellman J, Poline JB, et al. 2016. The brain imaging data structure, a format for organizing and describing outputs of neuroimaging experiments. Scientific Data 3: 160044. DOI: https://doi.org/10.1038/sdata.2016.44, PMID: 27326542 \n",
    "\n",
    "* Gorgolewski KJ, Alfaro- Almagro F, Auer T, Bellec P, Capotă M, Chakravarty MM, Churchill NW, Cohen AL, Craddock RC, Devenyi GA, Eklund A, Esteban O, Flandin G, Ghosh SS, Guntupalli JS, Jenkinson M, Keshavan A, Kiar G, Liem F, Raamana PR, et al. 2017. BIDS apps: Improving ease of use, accessibility, and reproducibility of neuroimaging data analysis methods. PLOS Computational Biology 13: e1005209. DOI: https://doi.org/10.1371/journal.pcbi.1005209, PMID: 28278228\n",
    "\n",
    "* Jwa A, Poldrack R. 2021. The Spectrum of Data sharing Policies in Neuroimaging Data Repositories. PsyArXiv. DOI: https://doi.org/10.31234/osf.io/cnuy7\n",
    "\n",
    "* Markiewicz, C.J., Gorgolewski, K.J., Feingold, F., Blair, R., Halchenko, Y.O., Miller, E., Hardcastle, N., Wexler, J., Esteban, O., Goncavles, M., et al. (2021). The OpenNeuro resource for sharing of neuroscience data. Elife 10, 1–17."
   ]
  }
 ],
 "metadata": {
  "kernelspec": {
   "display_name": "Python 3",
   "language": "python",
   "name": "python3"
  },
  "language_info": {
   "codemirror_mode": {
    "name": "ipython",
    "version": 3
   },
   "file_extension": ".py",
   "mimetype": "text/x-python",
   "name": "python",
   "nbconvert_exporter": "python",
   "pygments_lexer": "ipython3",
   "version": "3.7.3"
  }
 },
 "nbformat": 4,
 "nbformat_minor": 5
}
