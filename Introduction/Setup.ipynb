{
 "cells": [
  {
   "cell_type": "markdown",
   "id": "41c79c09",
   "metadata": {},
   "source": [
    "#  Set up Coding Environment\n",
    "\n",
    "This notebook will ensure that your coding environment is set up for the interactive activities in this textbook. You **do not** need to worry about these requirements if you are running code on the Dandihub. You can simply ignore this page and get on with the data!"
   ]
  },
  {
   "cell_type": "markdown",
   "id": "a90d68b4",
   "metadata": {},
   "source": [
    "## Package Requirements\n",
    "\n",
    "If you're *not* running the code on the Dandihub, then we have to ensure that your coding environment has all of the proper packages installed. The packages required are:\n",
    "\n",
    "```\n",
    "numpy==1.23.1\n",
    "dandi==0.45.1\n",
    "h5py==2.10.0\n",
    "```\n",
    "\n",
    "The code below will ensure that you have these packages or newer.\n",
    "\n",
    "First, we need to ensure that you have the [`DANDI` client](https://pypi.org/project/dandi/) installed in your coding environment. The cell below will try to import DANDI. If you have an old version of DANDI, it will prompt you to install a newer version. Type \"Y\" if you would like to install a new version (this is recommended). If you don't have DANDI at all, it will install the most recent version."
   ]
  },
  {
   "cell_type": "code",
   "execution_count": null,
   "id": "8e9463b3",
   "metadata": {
    "scrolled": true
   },
   "outputs": [
    {
     "name": "stdout",
     "output_type": "stream",
     "text": [
      "Updated DANDI installed.\n",
      "pyNWB installed.\n"
     ]
    }
   ],
   "source": [
    "# This will ensure that the correct version of dandi is installed\n",
    "try:\n",
    "    import dandi\n",
    "    if dandi.__version__>='0.45.1':\n",
    "        print('Updated DANDI installed.')\n",
    "    else:\n",
    "        response = input('Old version of DANDI installed. Would you like to install a newer version of DANDI? (Y/N)')\n",
    "        if response.upper() == 'Y':\n",
    "            !pip install --upgrade dandi\n",
    "except ImportError as e:\n",
    "    !pip install dandi "
   ]
  },
  {
   "cell_type": "markdown",
   "id": "c6ff284a",
   "metadata": {},
   "source": [
    "Next, we'll check for pyNWB, the python package for NWB."
   ]
  },
  {
   "cell_type": "code",
   "execution_count": null,
   "id": "ea42fc01",
   "metadata": {},
   "outputs": [],
   "source": [
    "# Check for pywnb\n",
    "try:\n",
    "    import pynwb\n",
    "    print('pyNWB installed.')\n",
    "except ImportError as e:\n",
    "    !pip install pwynb  "
   ]
  },
  {
   "cell_type": "markdown",
   "id": "d68a3f5f",
   "metadata": {},
   "source": [
    "Finally, also need to make sure you have the correct version of NumPy."
   ]
  },
  {
   "cell_type": "code",
   "execution_count": 7,
   "id": "51bbca93",
   "metadata": {
    "scrolled": true
   },
   "outputs": [
    {
     "name": "stdout",
     "output_type": "stream",
     "text": [
      "Old version of NumPy installed. Would you like to install a newer version of NumPy? (Y/N)Y\n",
      "Requirement already satisfied: numpy in /Users/ashley/anaconda3/lib/python3.7/site-packages (1.18.5)\n",
      "Collecting numpy\n",
      "  Downloading numpy-1.21.6-cp37-cp37m-macosx_10_9_x86_64.whl (16.9 MB)\n",
      "\u001b[2K     \u001b[90m━━━━━━━━━━━━━━━━━━━━━━━━━━━━━━━━━━━━━━━\u001b[0m \u001b[32m16.9/16.9 MB\u001b[0m \u001b[31m873.3 kB/s\u001b[0m eta \u001b[36m0:00:00\u001b[0m00:01\u001b[0m00:01\u001b[0m\n",
      "\u001b[?25hInstalling collected packages: numpy\n",
      "  Attempting uninstall: numpy\n",
      "    Found existing installation: numpy 1.18.5\n",
      "    Uninstalling numpy-1.18.5:\n",
      "      Successfully uninstalled numpy-1.18.5\n",
      "\u001b[31mERROR: pip's dependency resolver does not currently take into account all the packages that are installed. This behaviour is the source of the following dependency conflicts.\n",
      "hdmf 2.4.0 requires numpy<1.19.4,>=1.16, but you have numpy 1.21.6 which is incompatible.\n",
      "allensdk 2.11.2 requires numpy<1.19.0,>=1.15.4, but you have numpy 1.21.6 which is incompatible.\n",
      "allensdk 2.11.2 requires statsmodels<=0.13.0, but you have statsmodels 0.13.2 which is incompatible.\u001b[0m\u001b[31m\n",
      "\u001b[0mSuccessfully installed numpy-1.21.6\n",
      "\u001b[33mWARNING: There was an error checking the latest version of pip.\u001b[0m\u001b[33m\n",
      "\u001b[0m"
     ]
    }
   ],
   "source": [
    "try:\n",
    "    import numpy\n",
    "    if numpy.__version__>='1.23.1':\n",
    "        print('Updated NumPy installed.')\n",
    "    else:\n",
    "        response = input('Old version of NumPy installed. Would you like to install a newer version of NumPy? (Y/N)')\n",
    "        if response.upper() == 'Y':\n",
    "            !pip install --upgrade numpy\n",
    "except ImportError as e:\n",
    "    !pip install numpy"
   ]
  },
  {
   "cell_type": "markdown",
   "id": "67749b22",
   "metadata": {},
   "source": [
    "First things first, let's make sure you have the AllenSDK installed. See the [Allen Institute website](https://alleninstitute.github.io/AllenSDK/install.html) for information on installing it, otherwise, the cell below will do it for you."
   ]
  },
  {
   "cell_type": "code",
   "execution_count": 1,
   "id": "93f46803",
   "metadata": {
    "scrolled": false
   },
   "outputs": [
    {
     "name": "stdout",
     "output_type": "stream",
     "text": [
      "Old version of AllenSDK installed. Would you like to install a newer version? (Y/N)y\n",
      "Requirement already satisfied: allensdk in /Users/ashley/anaconda3/lib/python3.7/site-packages (2.11.2)\n",
      "Collecting allensdk\n",
      "  Using cached allensdk-2.13.6-py3-none-any.whl (1.9 MB)\n",
      "Requirement already satisfied: seaborn<1.0.0 in /Users/ashley/anaconda3/lib/python3.7/site-packages (from allensdk) (0.11.2)\n",
      "Requirement already satisfied: future<1.0.0,>=0.14.3 in /Users/ashley/anaconda3/lib/python3.7/site-packages (from allensdk) (0.17.1)\n",
      "Requirement already satisfied: requests-toolbelt<1.0.0 in /Users/ashley/anaconda3/lib/python3.7/site-packages (from allensdk) (0.9.1)\n",
      "Collecting argschema<4.0.0,>=3.0.1\n",
      "  Using cached argschema-3.0.4-py2.py3-none-any.whl\n",
      "Requirement already satisfied: scipy<2.0.0,>=1.4.0 in /Users/ashley/anaconda3/lib/python3.7/site-packages (from allensdk) (1.6.3)\n",
      "Requirement already satisfied: sqlalchemy in /Users/ashley/anaconda3/lib/python3.7/site-packages (from allensdk) (1.3.24)\n",
      "Collecting jinja2>=3.0.0\n",
      "  Using cached Jinja2-3.1.2-py3-none-any.whl (133 kB)\n",
      "Requirement already satisfied: boto3==1.17.21 in /Users/ashley/anaconda3/lib/python3.7/site-packages (from allensdk) (1.17.21)\n",
      "Requirement already satisfied: simplejson<4.0.0,>=3.10.0 in /Users/ashley/anaconda3/lib/python3.7/site-packages (from allensdk) (3.17.0)\n",
      "Requirement already satisfied: scikit-build<1.0.0 in /Users/ashley/anaconda3/lib/python3.7/site-packages (from allensdk) (0.10.0)\n",
      "Requirement already satisfied: nest-asyncio in /Users/ashley/anaconda3/lib/python3.7/site-packages (from allensdk) (1.2.0)\n",
      "Requirement already satisfied: aiohttp==3.7.4 in /Users/ashley/anaconda3/lib/python3.7/site-packages (from allensdk) (3.7.4)\n",
      "Requirement already satisfied: cachetools<5.0.0,>=4.2.1 in /Users/ashley/anaconda3/lib/python3.7/site-packages (from allensdk) (4.2.4)\n",
      "Requirement already satisfied: ndx-events<=0.2.0 in /Users/ashley/anaconda3/lib/python3.7/site-packages (from allensdk) (0.2.0)\n",
      "Requirement already satisfied: xarray<0.16.0 in /Users/ashley/anaconda3/lib/python3.7/site-packages (from allensdk) (0.15.0)\n",
      "Collecting pandas>=1.1.5\n",
      "  Using cached pandas-1.3.5-cp37-cp37m-macosx_10_9_x86_64.whl (11.0 MB)\n",
      "Requirement already satisfied: tqdm>=4.27 in /Users/ashley/anaconda3/lib/python3.7/site-packages (from allensdk) (4.62.0)\n",
      "Requirement already satisfied: scikit-image<0.17.0,>=0.14.0 in /Users/ashley/anaconda3/lib/python3.7/site-packages (from allensdk) (0.14.2)\n",
      "Requirement already satisfied: pynwb in /Users/ashley/anaconda3/lib/python3.7/site-packages (from allensdk) (1.4.0)\n",
      "Requirement already satisfied: semver in /Users/ashley/anaconda3/lib/python3.7/site-packages (from allensdk) (2.13.0)\n",
      "Requirement already satisfied: simpleitk<3.0.0,>=2.0.2 in /Users/ashley/anaconda3/lib/python3.7/site-packages (from allensdk) (2.0.2)\n",
      "Requirement already satisfied: numpy in /Users/ashley/anaconda3/lib/python3.7/site-packages (from allensdk) (1.21.6)\n",
      "Requirement already satisfied: six<2.0.0,>=1.9.0 in /Users/ashley/anaconda3/lib/python3.7/site-packages (from allensdk) (1.16.0)\n",
      "Requirement already satisfied: matplotlib<3.4.3,>=1.4.3 in /Users/ashley/anaconda3/lib/python3.7/site-packages (from allensdk) (3.4.2)\n",
      "Collecting hdmf>=2.5.8\n",
      "  Using cached hdmf-3.4.0-py3-none-any.whl (186 kB)\n",
      "Requirement already satisfied: statsmodels<=0.13.0 in /Users/ashley/anaconda3/lib/python3.7/site-packages (from allensdk) (0.13.0)\n",
      "Requirement already satisfied: glymur==0.8.19 in /Users/ashley/anaconda3/lib/python3.7/site-packages (from allensdk) (0.8.19)\n",
      "Requirement already satisfied: psycopg2-binary<3.0.0,>=2.7 in /Users/ashley/anaconda3/lib/python3.7/site-packages (from allensdk) (2.8.4)\n",
      "Requirement already satisfied: tables<3.7.0,>=3.6.0 in /Users/ashley/anaconda3/lib/python3.7/site-packages (from allensdk) (3.6.1)\n",
      "Requirement already satisfied: h5py in /Users/ashley/anaconda3/lib/python3.7/site-packages (from allensdk) (2.10.0)\n",
      "Requirement already satisfied: requests<3.0.0 in /Users/ashley/anaconda3/lib/python3.7/site-packages (from allensdk) (2.25.1)\n",
      "Requirement already satisfied: pynrrd<1.0.0,>=0.2.1 in /Users/ashley/anaconda3/lib/python3.7/site-packages (from allensdk) (0.4.2)\n",
      "Requirement already satisfied: yarl<2.0,>=1.0 in /Users/ashley/anaconda3/lib/python3.7/site-packages (from aiohttp==3.7.4->allensdk) (1.4.2)\n",
      "Requirement already satisfied: multidict<7.0,>=4.5 in /Users/ashley/anaconda3/lib/python3.7/site-packages (from aiohttp==3.7.4->allensdk) (4.7.4)\n",
      "Requirement already satisfied: async-timeout<4.0,>=3.0 in /Users/ashley/anaconda3/lib/python3.7/site-packages (from aiohttp==3.7.4->allensdk) (3.0.1)\n",
      "Requirement already satisfied: attrs>=17.3.0 in /Users/ashley/anaconda3/lib/python3.7/site-packages (from aiohttp==3.7.4->allensdk) (20.3.0)\n",
      "Requirement already satisfied: typing-extensions>=3.6.5 in /Users/ashley/anaconda3/lib/python3.7/site-packages (from aiohttp==3.7.4->allensdk) (3.10.0.0)\n",
      "Requirement already satisfied: chardet<4.0,>=2.0 in /Users/ashley/anaconda3/lib/python3.7/site-packages (from aiohttp==3.7.4->allensdk) (3.0.4)\n",
      "Requirement already satisfied: jmespath<1.0.0,>=0.7.1 in /Users/ashley/anaconda3/lib/python3.7/site-packages (from boto3==1.17.21->allensdk) (0.10.0)\n",
      "Requirement already satisfied: botocore<1.21.0,>=1.20.21 in /Users/ashley/anaconda3/lib/python3.7/site-packages (from boto3==1.17.21->allensdk) (1.20.86)\n",
      "Requirement already satisfied: s3transfer<0.4.0,>=0.3.0 in /Users/ashley/anaconda3/lib/python3.7/site-packages (from boto3==1.17.21->allensdk) (0.3.7)\n",
      "Requirement already satisfied: setuptools in /Users/ashley/anaconda3/lib/python3.7/site-packages (from glymur==0.8.19->allensdk) (57.0.0)\n",
      "Requirement already satisfied: pyyaml in /Users/ashley/anaconda3/lib/python3.7/site-packages (from argschema<4.0.0,>=3.0.1->allensdk) (5.4.1)\n",
      "Collecting marshmallow<4.0,>=3.0.0\n",
      "  Using cached marshmallow-3.17.0-py3-none-any.whl (48 kB)\n",
      "Collecting ruamel.yaml<1,>=0.16\n",
      "  Using cached ruamel.yaml-0.17.21-py3-none-any.whl (109 kB)\n",
      "Requirement already satisfied: jsonschema<5,>=2.6.0 in /Users/ashley/anaconda3/lib/python3.7/site-packages (from hdmf>=2.5.8->allensdk) (3.2.0)\n",
      "Requirement already satisfied: MarkupSafe>=2.0 in /Users/ashley/anaconda3/lib/python3.7/site-packages (from jinja2>=3.0.0->allensdk) (2.0.1)\n",
      "Requirement already satisfied: python-dateutil>=2.7 in /Users/ashley/anaconda3/lib/python3.7/site-packages (from matplotlib<3.4.3,>=1.4.3->allensdk) (2.8.1)\n",
      "Requirement already satisfied: pillow>=6.2.0 in /Users/ashley/anaconda3/lib/python3.7/site-packages (from matplotlib<3.4.3,>=1.4.3->allensdk) (9.1.0)\n",
      "Requirement already satisfied: cycler>=0.10 in /Users/ashley/anaconda3/lib/python3.7/site-packages (from matplotlib<3.4.3,>=1.4.3->allensdk) (0.10.0)\n",
      "Requirement already satisfied: kiwisolver>=1.0.1 in /Users/ashley/anaconda3/lib/python3.7/site-packages (from matplotlib<3.4.3,>=1.4.3->allensdk) (1.0.1)\n",
      "Requirement already satisfied: pyparsing>=2.2.1 in /Users/ashley/anaconda3/lib/python3.7/site-packages (from matplotlib<3.4.3,>=1.4.3->allensdk) (2.4.7)\n",
      "Requirement already satisfied: pytz>=2017.3 in /Users/ashley/anaconda3/lib/python3.7/site-packages (from pandas>=1.1.5->allensdk) (2021.1)\n",
      "Collecting hdmf>=2.5.8\n",
      "  Using cached hdmf-2.5.8-py2.py3-none-any.whl (164 kB)\n",
      "Collecting numpy\n",
      "  Using cached numpy-1.20.3-cp37-cp37m-macosx_10_9_x86_64.whl (16.0 MB)\n",
      "Requirement already satisfied: certifi>=2017.4.17 in /Users/ashley/anaconda3/lib/python3.7/site-packages (from requests<3.0.0->allensdk) (2021.5.30)\n",
      "Requirement already satisfied: urllib3<1.27,>=1.21.1 in /Users/ashley/anaconda3/lib/python3.7/site-packages (from requests<3.0.0->allensdk) (1.26.5)\n",
      "Requirement already satisfied: idna<3,>=2.5 in /Users/ashley/anaconda3/lib/python3.7/site-packages (from requests<3.0.0->allensdk) (2.10)\n",
      "Requirement already satisfied: packaging in /Users/ashley/anaconda3/lib/python3.7/site-packages (from scikit-build<1.0.0->allensdk) (21.3)\n",
      "Requirement already satisfied: wheel>=0.29.0 in /Users/ashley/anaconda3/lib/python3.7/site-packages (from scikit-build<1.0.0->allensdk) (0.36.2)\n",
      "Requirement already satisfied: cloudpickle>=0.2.1 in /Users/ashley/anaconda3/lib/python3.7/site-packages (from scikit-image<0.17.0,>=0.14.0->allensdk) (0.8.0)\n",
      "Requirement already satisfied: PyWavelets>=0.4.0 in /Users/ashley/anaconda3/lib/python3.7/site-packages (from scikit-image<0.17.0,>=0.14.0->allensdk) (1.0.2)\n",
      "Requirement already satisfied: dask[array]>=1.0.0 in /Users/ashley/anaconda3/lib/python3.7/site-packages (from scikit-image<0.17.0,>=0.14.0->allensdk) (1.1.4)\n",
      "Requirement already satisfied: networkx>=1.8 in /Users/ashley/anaconda3/lib/python3.7/site-packages (from scikit-image<0.17.0,>=0.14.0->allensdk) (2.2)\n"
     ]
    },
    {
     "name": "stdout",
     "output_type": "stream",
     "text": [
      "Requirement already satisfied: patsy>=0.5.2 in /Users/ashley/anaconda3/lib/python3.7/site-packages (from statsmodels<=0.13.0->allensdk) (0.5.2)\n",
      "Requirement already satisfied: numexpr>=2.6.2 in /Users/ashley/anaconda3/lib/python3.7/site-packages (from tables<3.7.0,>=3.6.0->allensdk) (2.7.0)\n",
      "Requirement already satisfied: toolz>=0.7.3 in /Users/ashley/anaconda3/lib/python3.7/site-packages (from dask[array]>=1.0.0->scikit-image<0.17.0,>=0.14.0->allensdk) (0.9.0)\n",
      "Requirement already satisfied: importlib-metadata in /Users/ashley/anaconda3/lib/python3.7/site-packages (from jsonschema<5,>=2.6.0->hdmf>=2.5.8->allensdk) (4.5.0)\n",
      "Requirement already satisfied: pyrsistent>=0.14.0 in /Users/ashley/anaconda3/lib/python3.7/site-packages (from jsonschema<5,>=2.6.0->hdmf>=2.5.8->allensdk) (0.17.3)\n",
      "Requirement already satisfied: decorator>=4.3.0 in /Users/ashley/anaconda3/lib/python3.7/site-packages (from networkx>=1.8->scikit-image<0.17.0,>=0.14.0->allensdk) (5.0.9)\n",
      "Requirement already satisfied: ruamel.yaml.clib>=0.2.6 in /Users/ashley/anaconda3/lib/python3.7/site-packages (from ruamel.yaml<1,>=0.16->hdmf>=2.5.8->allensdk) (0.2.6)\n",
      "Requirement already satisfied: zipp>=0.5 in /Users/ashley/anaconda3/lib/python3.7/site-packages (from importlib-metadata->jsonschema<5,>=2.6.0->hdmf>=2.5.8->allensdk) (3.4.1)\n",
      "Installing collected packages: ruamel.yaml, numpy, jinja2, pandas, marshmallow, hdmf, argschema, allensdk\n",
      "  Attempting uninstall: ruamel.yaml\n",
      "    Found existing installation: ruamel.yaml 0.17.21\n",
      "    Uninstalling ruamel.yaml-0.17.21:\n",
      "      Successfully uninstalled ruamel.yaml-0.17.21\n",
      "  Attempting uninstall: numpy\n",
      "    Found existing installation: numpy 1.21.6\n",
      "    Uninstalling numpy-1.21.6:\n",
      "      Successfully uninstalled numpy-1.21.6\n",
      "  Attempting uninstall: jinja2\n",
      "    Found existing installation: Jinja2 2.11.3\n",
      "    Uninstalling Jinja2-2.11.3:\n",
      "      Successfully uninstalled Jinja2-2.11.3\n",
      "  Attempting uninstall: pandas\n",
      "    Found existing installation: pandas 0.25.3\n",
      "    Uninstalling pandas-0.25.3:\n",
      "      Successfully uninstalled pandas-0.25.3\n",
      "  Attempting uninstall: marshmallow\n",
      "    Found existing installation: marshmallow 3.0.0rc6\n",
      "    Uninstalling marshmallow-3.0.0rc6:\n",
      "      Successfully uninstalled marshmallow-3.0.0rc6\n",
      "  Attempting uninstall: hdmf\n",
      "    Found existing installation: hdmf 2.4.0\n",
      "    Uninstalling hdmf-2.4.0:\n",
      "      Successfully uninstalled hdmf-2.4.0\n",
      "  Attempting uninstall: argschema\n",
      "    Found existing installation: argschema 2.0.2\n",
      "    Uninstalling argschema-2.0.2:\n",
      "      Successfully uninstalled argschema-2.0.2\n",
      "  Attempting uninstall: allensdk\n",
      "    Found existing installation: allensdk 2.11.2\n",
      "    Uninstalling allensdk-2.11.2:\n",
      "      Successfully uninstalled allensdk-2.11.2\n",
      "\u001b[31mERROR: pip's dependency resolver does not currently take into account all the packages that are installed. This behaviour is the source of the following dependency conflicts.\n",
      "myst-nb 0.12.3 requires nbconvert~=5.6, but you have nbconvert 6.5.3 which is incompatible.\n",
      "jupyter-book 0.11.1 requires nbconvert<6, but you have nbconvert 6.5.3 which is incompatible.\u001b[0m\u001b[31m\n",
      "\u001b[0mSuccessfully installed allensdk-2.13.6 argschema-3.0.4 hdmf-2.5.8 jinja2-3.1.2 marshmallow-3.17.0 numpy-1.20.3 pandas-1.3.5 ruamel.yaml-0.17.21\n"
     ]
    }
   ],
   "source": [
    "# This will ensure that the AllenSDK is installed.\n",
    "# If not, it will install it for you.\n",
    "try:\n",
    "    import allensdk\n",
    "    if allensdk.__version__ == '2.13.6':\n",
    "        print('allensdk already installed.')\n",
    "    else:\n",
    "        response = input('Old version of AllenSDK installed. Would you like to install a newer version? (Y/N)')\n",
    "        if response.upper() == 'Y':\n",
    "            !pip install --upgrade allensdk\n",
    "except ImportError as e:\n",
    "    !pip install allensdk"
   ]
  },
  {
   "cell_type": "markdown",
   "id": "0ff19b07",
   "metadata": {},
   "source": [
    "<font color=\"red\">Is there a more efficient way to run these checks? Just a requirements.txt file?</font>"
   ]
  }
 ],
 "metadata": {
  "kernelspec": {
   "display_name": "Python 3",
   "language": "python",
   "name": "python3"
  },
  "language_info": {
   "codemirror_mode": {
    "name": "ipython",
    "version": 3
   },
   "file_extension": ".py",
   "mimetype": "text/x-python",
   "name": "python",
   "nbconvert_exporter": "python",
   "pygments_lexer": "ipython3",
   "version": "3.7.3"
  }
 },
 "nbformat": 4,
 "nbformat_minor": 5
}
