{
 "cells": [
  {
   "cell_type": "markdown",
   "id": "41c79c09",
   "metadata": {},
   "source": [
    "#  Set up Coding Environment\n",
    "\n",
    "This notebook will ensure that your coding environment is set up for the interactive activities in this textbook. <mark>You **do not** need to worry about these requirements if you are running code on the Dandihub, as recommended in \"How to use this book\".</mark> You can simply ignore this page and get on with the data!"
   ]
  },
  {
   "cell_type": "markdown",
   "id": "a90d68b4",
   "metadata": {},
   "source": "## Package Requirements\n\nIf you're *not* running the code on the Dandihub, then we have to ensure that your coding environment has all of the proper packages installed.\n\n### Core packages required for Lessons 1-4:\n\n```\ndandi>=0.45.1          # Includes: pynwb, h5py, hdmf\nallensdk>=2.11.2       # Includes: numpy, pandas, scipy, matplotlib\nnwbwidgets>=0.8.0      # Includes: ipywidgets\nseaborn>=0.11.0        # Visualization package\n```\n\n### Additional packages for Lesson 5 (Greatest Hits):\n```\npynapple                # Neural data analysis\nplotly                  # Interactive plotting\nfsspec                  # File system interface\n```\n\nThe code cells below will check for and install these packages as needed."
  },
  {
   "cell_type": "markdown",
   "id": "c6ff284a",
   "metadata": {},
   "source": "### Core Packages\n\nWe'll check for the essential packages that include all necessary dependencies."
  },
  {
   "cell_type": "code",
   "id": "vqet810bdoo",
   "source": "# This will ensure that the correct version of dandi is installed\ntry:\n    import dandi\n    if dandi.__version__>='0.45.1':\n        print('Updated DANDI installed.')\n    else:\n        response = input('Old version of DANDI installed. Would you like to install a newer version of DANDI? (Y/N)')\n        if response.upper() == 'Y':\n            !pip install --upgrade dandi\nexcept ImportError as e:\n    !pip install dandi",
   "metadata": {},
   "execution_count": null,
   "outputs": []
  },
  {
   "cell_type": "code",
   "execution_count": null,
   "id": "ea42fc01",
   "metadata": {},
   "outputs": [],
   "source": "# Check for nwbwidgets (includes pynwb, ipywidgets)\ntry:\n    import nwbwidgets\n    print('nwbwidgets installed.')\nexcept ImportError as e:\n    !pip install nwbwidgets"
  },
  {
   "cell_type": "code",
   "id": "d68a3f5f",
   "metadata": {},
   "source": "# Check for seaborn (visualization package)\ntry:\n    import seaborn\n    print('seaborn installed.')\nexcept ImportError as e:\n    !pip install seaborn"
  },
  {
   "cell_type": "markdown",
   "execution_count": null,
   "id": "51bbca93",
   "metadata": {
    "scrolled": true
   },
   "outputs": [],
   "source": "### Lesson 5 Packages\n\nFor the Greatest Hits lessons, you'll also need these additional packages:"
  },
  {
   "cell_type": "code",
   "id": "67749b22",
   "metadata": {},
   "source": "# Check for pynapple\ntry:\n    import pynapple\n    print('pynapple installed.')\nexcept ImportError as e:\n    !pip install pynapple"
  },
  {
   "cell_type": "code",
   "execution_count": null,
   "id": "93f46803",
   "metadata": {
    "scrolled": false
   },
   "outputs": [],
   "source": "# Check for plotly\ntry:\n    import plotly\n    print('plotly installed.')\nexcept ImportError as e:\n    !pip install plotly"
  },
  {
   "cell_type": "code",
   "id": "r8oamiw9ih",
   "source": "# Check for fsspec\ntry:\n    import fsspec\n    print('fsspec installed.')\nexcept ImportError as e:\n    !pip install fsspec",
   "metadata": {},
   "execution_count": null,
   "outputs": []
  },
  {
   "cell_type": "markdown",
   "id": "4q0z21w1hoh",
   "source": "## Configuring for Data Streaming\n\nSome lessons in this book stream data directly from DANDI rather than downloading it. \n\n**On Dandihub**: This is already configured for you!\n\n**On your local machine**: For the most recent guidance on configuring your environment for streaming, please see the [PyNWB streaming tutorial](https://pynwb.readthedocs.io/en/stable/tutorials/advanced_io/streaming.html).",
   "metadata": {}
  },
  {
   "cell_type": "code",
   "id": "x0cqs4fgq7",
   "source": "# Check for remfile (required for streaming)\ntry:\n    import remfile\n    print('remfile installed.')\nexcept ImportError as e:\n    !pip install remfile",
   "metadata": {},
   "execution_count": null,
   "outputs": []
  }
 ],
 "metadata": {
  "kernelspec": {
   "display_name": "Python 3",
   "language": "python",
   "name": "python3"
  },
  "language_info": {
   "codemirror_mode": {
    "name": "ipython",
    "version": 3
   },
   "file_extension": ".py",
   "mimetype": "text/x-python",
   "name": "python",
   "nbconvert_exporter": "python",
   "pygments_lexer": "ipython3",
   "version": "3.7.3"
  }
 },
 "nbformat": 4,
 "nbformat_minor": 5
}