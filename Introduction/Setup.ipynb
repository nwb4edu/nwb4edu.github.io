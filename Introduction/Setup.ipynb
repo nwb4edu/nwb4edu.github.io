{
 "cells": [
  {
   "cell_type": "markdown",
   "id": "41c79c09",
   "metadata": {},
   "source": [
    "#  Set up Coding Environment\n",
    "\n",
    "This notebook will ensure that your coding environment is set up for the interactive activities in this textbook. <mark>You **do not** need to worry about these requirements if you are running code on the Dandihub, as recommended in \"How to use this book\".</mark> You can simply ignore this page and get on with the data!\n",
    "\n",
    "**Exception:** If you plan to complete Lessons 3 & 4 (Allen Cell Types Database) on DandiHub, see the special setup instructions at the bottom of this page."
   ]
  },
  {
   "cell_type": "markdown",
   "id": "a90d68b4",
   "metadata": {},
   "source": [
    "## Package Requirements\n",
    "\n",
    "If you're *not* running the code on the Dandihub, then we have to ensure that your coding environment has all of the proper packages installed.\n",
    "\n",
    "We provide separate requirements files for different lessons:\n",
    "- **Lessons 1-2**: [`requirements_lessons_1-2.txt`](https://github.com/nwb4edu/nwb4edu.github.io/blob/master/requirements_lessons_1-2.txt) (Python 3.9+)\n",
    "- **Lessons 3-4**: [`requirements_lessons_3-4.txt`](https://github.com/nwb4edu/nwb4edu.github.io/blob/master/requirements_lessons_3-4.txt) (Python 3.11 required)\n",
    "- **Greatest Hits**: [`requirements_greatest_hits.txt`](https://github.com/nwb4edu/nwb4edu.github.io/blob/master/requirements_greatest_hits.txt) (Python 3.9+)\n",
    "\n",
    "You can install requirements using:\n",
    "```bash\n",
    "pip install -r requirements_lessons_1-2.txt\n",
    "```\n",
    "\n",
    "### Core packages required for Lessons 1-2:\n",
    "\n",
    "```\n",
    "dandi>=0.45.1          # Includes: pynwb, h5py, hdmf\n",
    "nwbwidgets>=0.8.0      # Includes: ipywidgets\n",
    "seaborn>=0.11.0        # Visualization package\n",
    "remfile                # Data streaming\n",
    "```\n",
    "\n",
    "### Packages for Lessons 3-4 (Allen Cell Types):\n",
    "\n",
    "```\n",
    "allensdk>=2.11.2       # Includes: numpy<1.24, pandas, scipy, matplotlib\n",
    "                       # Requires Python 3.11!\n",
    "```\n",
    "\n",
    "### Additional packages for Greatest Hits:\n",
    "```\n",
    "pynapple                # Neural data analysis\n",
    "plotly                  # Interactive plotting\n",
    "fsspec                  # File system interface\n",
    "```\n",
    "\n",
    "The code cells below will check for and install these packages as needed."
   ]
  },
  {
   "cell_type": "markdown",
   "id": "c6ff284a",
   "metadata": {},
   "source": [
    "### Core Packages\n",
    "\n",
    "We'll check for the essential packages that include all necessary dependencies."
   ]
  },
  {
   "cell_type": "code",
   "execution_count": null,
   "id": "vqet810bdoo",
   "metadata": {},
   "outputs": [],
   "source": [
    "# This will ensure that the correct version of dandi is installed\n",
    "try:\n",
    "    import dandi\n",
    "    if dandi.__version__>='0.45.1':\n",
    "        print('Updated DANDI installed.')\n",
    "    else:\n",
    "        response = input('Old version of DANDI installed. Would you like to install a newer version of DANDI? (Y/N)')\n",
    "        if response.upper() == 'Y':\n",
    "            !pip install --upgrade dandi\n",
    "except ImportError as e:\n",
    "    !pip install dandi"
   ]
  },
  {
   "cell_type": "code",
   "execution_count": null,
   "id": "ea42fc01",
   "metadata": {},
   "outputs": [],
   "source": [
    "# Check for nwbwidgets (includes pynwb, ipywidgets)\n",
    "try:\n",
    "    import nwbwidgets\n",
    "    print('nwbwidgets installed.')\n",
    "except ImportError as e:\n",
    "    !pip install nwbwidgets"
   ]
  },
  {
   "cell_type": "code",
   "id": "d68a3f5f",
   "metadata": {},
   "outputs": [],
   "source": [
    "# Check for seaborn (visualization package)\n",
    "try:\n",
    "    import seaborn\n",
    "    print('seaborn installed.')\n",
    "except ImportError as e:\n",
    "    !pip install seaborn"
   ]
  },
  {
   "cell_type": "markdown",
   "id": "6s8a32k3gyr",
   "metadata": {},
   "source": [
    "### AllenSDK (Lessons 3 & 4 only)\n",
    "\n",
    "**Important:** The AllenSDK requires numpy<1.24, which is incompatible with Python 3.12+. If you're using Python 3.12 or later, you'll need to create a Python 3.11 environment.\n",
    "\n",
    "**On DandiHub:** See special setup instructions below.\n",
    "\n",
    "**On your local machine:** Use conda to create a Python 3.11 environment:\n",
    "```bash\n",
    "conda create --name nwb4edu python=3.11\n",
    "conda activate nwb4edu\n",
    "pip install allensdk\n",
    "```"
   ]
  },
  {
   "cell_type": "code",
   "execution_count": null,
   "id": "vfn5wmbachh",
   "metadata": {},
   "outputs": [],
   "source": [
    "# Check for allensdk (Lessons 3 & 4 only)\n",
    "try:\n",
    "    import allensdk\n",
    "    print('allensdk installed.')\n",
    "    print(f'Version: {allensdk.__version__}')\n",
    "except ImportError as e:\n",
    "    print('allensdk is not installed.')\n",
    "    print('Note: allensdk requires Python 3.11 or earlier.')\n",
    "    print('See instructions above for creating a compatible environment.')"
   ]
  },
  {
   "cell_type": "markdown",
   "execution_count": null,
   "id": "51bbca93",
   "metadata": {
    "scrolled": true
   },
   "outputs": [],
   "source": [
    "### Greatest Hits Packages\n",
    "\n",
    "For the Greatest Hits lessons, you'll also need these additional packages:"
   ]
  },
  {
   "cell_type": "code",
   "id": "67749b22",
   "metadata": {},
   "outputs": [],
   "source": [
    "# Check for pynapple\n",
    "try:\n",
    "    import pynapple\n",
    "    print('pynapple installed.')\n",
    "except ImportError as e:\n",
    "    !pip install pynapple"
   ]
  },
  {
   "cell_type": "code",
   "execution_count": null,
   "id": "93f46803",
   "metadata": {
    "scrolled": false
   },
   "outputs": [],
   "source": [
    "# Check for plotly\n",
    "try:\n",
    "    import plotly\n",
    "    print('plotly installed.')\n",
    "except ImportError as e:\n",
    "    !pip install plotly"
   ]
  },
  {
   "cell_type": "code",
   "execution_count": null,
   "id": "r8oamiw9ih",
   "metadata": {},
   "outputs": [],
   "source": [
    "# Check for fsspec\n",
    "try:\n",
    "    import fsspec\n",
    "    print('fsspec installed.')\n",
    "except ImportError as e:\n",
    "    !pip install fsspec"
   ]
  },
  {
   "cell_type": "markdown",
   "id": "4q0z21w1hoh",
   "metadata": {},
   "source": [
    "## Configuring for Data Streaming\n",
    "\n",
    "Some lessons in this book stream data directly from DANDI rather than downloading it. \n",
    "\n",
    "**On Dandihub**: This is already configured for you!\n",
    "\n",
    "**On your local machine**: For the most recent guidance on configuring your environment for streaming, please see the [PyNWB streaming tutorial](https://pynwb.readthedocs.io/en/stable/tutorials/advanced_io/streaming.html)."
   ]
  },
  {
   "cell_type": "code",
   "execution_count": null,
   "id": "x0cqs4fgq7",
   "metadata": {},
   "outputs": [],
   "source": [
    "# Check for remfile (required for streaming)\n",
    "try:\n",
    "    import remfile\n",
    "    print('remfile installed.')\n",
    "except ImportError as e:\n",
    "    !pip install remfile"
   ]
  },
  {
   "cell_type": "markdown",
   "id": "o0uf84av93p",
   "metadata": {},
   "source": "---\n\n## DandiHub Setup for Lessons 3 & 4\n\n**Note:** This environment is only required for Lessons 3 and 4, which use the Allen SDK. The Allen SDK requires Python 3.11 due to numpy version compatibility. All other lessons work with the default DandiHub environment.\n\n### Step 1: Open a Terminal\n- In JupyterHub, click \"File\" → \"New\" → \"Terminal\"\n\n### Step 2: Create the conda environment with pip\n```bash\nconda create --name nwb4edu python=3.11 pip -y\n```\n\n### Step 3: Activate the environment\n```bash\nconda activate nwb4edu\n```\n\n### Step 4: Install required packages\n```bash\nPIP_REQUIRE_VIRTUALENV=false pip install allensdk ipykernel\n```\n**Note:** This installation may take 5-10 minutes to complete. Please be patient while the packages are downloaded and installed.\n\n### Step 5: Create a Jupyter kernel for this environment\n```bash\npython -m ipykernel install --user --name nwb4edu --display-name \"Python 3.11 (nwb4edu)\"\n```\n\n### Step 6: Refresh your browser\n- Refresh the JupyterHub page to see the new kernel\n\n### Step 7: Select the kernel in Lesson 3 & 4 notebooks\n- Open a notebook from Lesson 3 or 4\n- Click \"Kernel\" → \"Change Kernel\" → \"Python 3.11 (nwb4edu)\"\n\n### Step 8: Verify the installation\nRun this in a notebook cell to verify everything installed correctly:\n```python\nimport sys\nprint(f\"Python version: {sys.version}\")\nimport allensdk\nprint(f\"allensdk version: {allensdk.__version__}\")\n```"
  }
 ],
 "metadata": {
  "kernelspec": {
   "display_name": "Python 3",
   "language": "python",
   "name": "python3"
  },
  "language_info": {
   "codemirror_mode": {
    "name": "ipython",
    "version": 3
   },
   "file_extension": ".py",
   "mimetype": "text/x-python",
   "name": "python",
   "nbconvert_exporter": "python",
   "pygments_lexer": "ipython3",
   "version": "3.7.3"
  }
 },
 "nbformat": 4,
 "nbformat_minor": 5
}