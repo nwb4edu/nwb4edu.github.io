{
 "cells": [
  {
   "cell_type": "markdown",
   "id": "0de0cd0e",
   "metadata": {},
   "source": [
    "# For Educators\n",
    "\n",
    "If you're using this book to support a lesson plan, we recommend using one of the cloud computing tools mentioned in \"how to use this book\", so that it will work for any learner with an internet connection. These cloud options even run on a tablet!\n",
    "\n",
    "## Learning Objectives\n",
    "There may be more content in this book than you're keen on using -- that's okay! Each lesson has specific learning objectives to help you decide what content is most applicable to your needs. Learning objectives are outlined at the start of each lesson. The overarching objectives of this entire book are:\n",
    "\n",
    "* Interact with real, cutting-edge data from top notch research institutions and universities across the globe \n",
    "* Identify common ways to analyze extracellular and intracellular electrophysiology data and possible implementations of these analyses in Python\n",
    "* Gain confidence in writing algorithms to analyze complex neuroscience data\n",
    "\n",
    "## Lesson problem sets\n",
    "Each lesson has an associated problem set. For solutions files, please email ajuavine[at]ucsd.edu.\n"
   ]
  }
 ],
 "metadata": {
  "kernelspec": {
   "display_name": "Python 3",
   "language": "python",
   "name": "python3"
  },
  "language_info": {
   "codemirror_mode": {
    "name": "ipython",
    "version": 3
   },
   "file_extension": ".py",
   "mimetype": "text/x-python",
   "name": "python",
   "nbconvert_exporter": "python",
   "pygments_lexer": "ipython3",
   "version": "3.7.3"
  }
 },
 "nbformat": 4,
 "nbformat_minor": 5
}
