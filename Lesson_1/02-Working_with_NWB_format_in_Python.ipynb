{
 "cells": [
  {
   "cell_type": "markdown",
   "metadata": {},
   "source": [
    "# Working with NWB in Python\n",
    "\n",
    "On the previous page, we demonstrated how to obtain a dataset with DANDI. Now that you have a dataset downloaded, let's take a closer look at what it contains.\n",
    "\n",
    "Working with our NWB file in Python requires **[PyNWB**](https://pynwb.readthedocs.io/en/stable/index.html), a package specifically designed to work with NWB files.\n",
    "\n",
    "Below, we'll use the `NWBHDF5IO` class from this package, which will allow us to easily read NWB files.\n",
    "\n",
    "<mark>**Note**: Please ensure that you have set up your coding environment and completed the previous section to obtain our dataset before running this notebook.\n",
    "\n",
    "## Step 1. Setup"
   ]
  },
  {
   "cell_type": "code",
   "execution_count": 2,
   "metadata": {},
   "outputs": [],
   "source": [
    "# Import modules from the PyNWB package\n",
    "from pynwb import NWBHDF5IO"
   ]
  },
  {
   "cell_type": "markdown",
   "metadata": {},
   "source": [
    "## Step 2. Read the NWB file\n",
    "\n",
    "We can access the data in our NWB file in two steps:\n",
    "\n",
    "1. Assign our file as an NWBHDF5IO object\n",
    "2. Read our file\n",
    "\n",
    "The first step is done using the [`NWBHDF5IO` class](https://pynwb.readthedocs.io/en/stable/pynwb.html#pynwb.NWBHDF5IO) to create our `NWBHDF5IO` object and map our file to HDF5 format. Once we have done this, we can use the `read()` method to return our nwb file.\n",
    "\n",
    "> For more information on how to read NWB files, please visit the <a href = 'https://pynwb.readthedocs.io/en/stable/tutorials/general/file.html'> Reading an NWB file</a> section from the NWB Basics Tutorial.\n",
    "\n",
    "<mark>**Note**: Each dataset may contain multiple NWB files for different subjects and sessions for a given experiment. Make sure you specify the exact file path to the single NWB file you wish to read. Below, we'll give the filename for one .nwb file within the folder that you downloaded in the last chapter.</mark>"
   ]
  },
  {
   "cell_type": "code",
   "execution_count": 3,
   "metadata": {},
   "outputs": [
    {
     "name": "stdout",
     "output_type": "stream",
     "text": [
      "NWB file found and read.\n",
      "<class 'pynwb.file.NWBFile'>\n"
     ]
    }
   ],
   "source": [
    "# set the filename\n",
    "filename = '000006/sub-anm369962/sub-anm369962_ses-20170310.nwb'\n",
    "\n",
    "# assign file as an NWBHDF5IO object\n",
    "io = NWBHDF5IO(filename, 'r')\n",
    "\n",
    "# read the file\n",
    "nwb_file = io.read()\n",
    "\n",
    "print('NWB file found and read.')\n",
    "print(type(nwb_file))"
   ]
  },
  {
   "cell_type": "markdown",
   "metadata": {},
   "source": [
    "## Step 3. Access Information within the NWB File Hierarchy\n",
    "\n",
    "One of the first steps when working with a new dataset is to figure out what is in the dataset, and where. Each NWB file is composed of various groups, which either contain attributes of our file (**metadata**) or the data itself.\n",
    "\n",
    "> **Metadata** is a common term to describe all of the information about an experiment. This could include everything from when the experiment was conducted, the ID of the subject (animal, human, goblin, etc.), the equipment details, etc. In essence, the metadata provides the context of the experiment. This is one of the first things you should review when you’re encountering a new dataset.\n",
    "\n",
    "Here is the structure of a typical NWB file:\n",
    "\n",
    "![NWB_file_structure.png](NWB_file_structure.png)\n",
    "\n",
    "In order to see which groups are in our file, we can use the `fields` attribute to return a dictionary containing the the Groups of our NWB file. The dictionary **keys** are the various groups within the file which we will use to access the data we're ultimately interested in.\n",
    "\n",
    "> Need a refresher on dictionaries? Check out the Python Review page."
   ]
  },
  {
   "cell_type": "code",
   "execution_count": 4,
   "metadata": {},
   "outputs": [
    {
     "name": "stdout",
     "output_type": "stream",
     "text": [
      "dict_keys(['acquisition', 'analysis', 'scratch', 'stimulus', 'stimulus_template', 'processing', 'devices', 'electrode_groups', 'imaging_planes', 'icephys_electrodes', 'ogen_sites', 'intervals', 'lab_meta_data', 'session_description', 'identifier', 'session_start_time', 'timestamps_reference_time', 'file_create_date', 'keywords', 'epoch_tags', 'electrodes', 'subject', 'trials', 'units', 'experiment_description', 'institution', 'experimenter', 'related_publications'])\n"
     ]
    }
   ],
   "source": [
    "# Get the Groups for the nwb file \n",
    "nwb_fields = nwb_file.fields\n",
    "print(nwb_fields.keys())"
   ]
  },
  {
   "cell_type": "markdown",
   "metadata": {},
   "source": [
    "### Experiment Metadata\n",
    "\n",
    "Let's first pull out some metadata for the experiment we downloaded.\n",
    "\n",
    "If you wish to access the related publications of the experimental data that you just downloaded, you can do so by accessing the `related_publications` attribute of your NWB file object. Plug in the \"doi:\" address that prints below into a browser window to check out the original publication describing this data."
   ]
  },
  {
   "cell_type": "code",
   "execution_count": 12,
   "metadata": {},
   "outputs": [
    {
     "data": {
      "text/plain": [
       "('doi:10.1038/s41586-018-0642-9',)"
      ]
     },
     "execution_count": 12,
     "metadata": {},
     "output_type": "execute_result"
    }
   ],
   "source": [
    "# Print the related publication\n",
    "nwb_file.related_publications"
   ]
  },
  {
   "cell_type": "markdown",
   "metadata": {},
   "source": [
    "Each NWB file will also have information on where the experiment was conducted, which lab conducted the experiment, as well as a description of the experiment. This information can be accessed using `institution`, `lab`, and `experiment_description`, attributes on our nwb_file, respectively."
   ]
  },
  {
   "cell_type": "code",
   "execution_count": 4,
   "metadata": {
    "scrolled": true
   },
   "outputs": [
    {
     "name": "stdout",
     "output_type": "stream",
     "text": [
      "The experiment within this NWB file was conducted at Janelia Research Campus . Extracellular electrophysiology recordings performed on mouse anterior lateral motor cortex (ALM) in delay response task. Neural activity from two neuron populations, pyramidal track upper and lower, were characterized, in relation to movement execution.\n"
     ]
    }
   ],
   "source": [
    "# Get metadata from NWB file \n",
    "print('The experiment within this NWB file was conducted at',nwb_file.institution,'.'\\\n",
    "      ,nwb_file.experiment_description)"
   ]
  },
  {
   "cell_type": "markdown",
   "metadata": {},
   "source": [
    "As you might have noticed at this point, we can access datasets from each group in our nwb_file with the following syntax: `nwb_file.GROUPNAME`, just as we would typically access an attribute of object in Python. Below we will demonstrate some of the most useful groups within an NWB object. "
   ]
  },
  {
   "cell_type": "markdown",
   "metadata": {},
   "source": [
    "### Acquisition \n",
    "\n",
    "The `acquisition` group contains datasets of acquisition data, mainly `TimeSeries` objects belonging to this NWBFile. "
   ]
  },
  {
   "cell_type": "code",
   "execution_count": 4,
   "metadata": {},
   "outputs": [
    {
     "data": {
      "text/plain": [
       "{'lick_times': lick_times pynwb.behavior.BehavioralEvents at 0x140730902219800\n",
       " Fields:\n",
       "   time_series: {\n",
       "     lick_left_times <class 'pynwb.base.TimeSeries'>,\n",
       "     lick_right_times <class 'pynwb.base.TimeSeries'>\n",
       "   }}"
      ]
     },
     "execution_count": 4,
     "metadata": {},
     "output_type": "execute_result"
    }
   ],
   "source": [
    "nwb_file.acquisition"
   ]
  },
  {
   "cell_type": "markdown",
   "metadata": {},
   "source": [
    "In this file, the acquisition group contains one dataset, `lick_times`. This dataset has one field, `time_series`, which contains two time series objects, `lick_left_times` and `lick_right_times`. To access the actual data arrays of these objects we must first subset our dataset of interest from the group. We can then use `timestamps[:]` to return a list of timestamps for when the animal licked."
   ]
  },
  {
   "cell_type": "code",
   "execution_count": 5,
   "metadata": {},
   "outputs": [
    {
     "name": "stdout",
     "output_type": "stream",
     "text": [
      "[336.727461 336.898631 337.144963 337.223463 338.218792 338.579457\n",
      " 338.927119 338.959289 339.451954 339.587953]\n"
     ]
    }
   ],
   "source": [
    "# select our dataset of interest \n",
    "dataset = 'lick_times'\n",
    "field = 'lick_right_times'\n",
    "\n",
    "lick_r_dataset = nwb_file.acquisition[dataset][field]\n",
    "\n",
    "# return the first 10 values in data array \n",
    "lick_r_data_array = lick_r_dataset.timestamps[:10][:10]\n",
    "\n",
    "print(lick_r_data_array)"
   ]
  },
  {
   "cell_type": "markdown",
   "metadata": {},
   "source": [
    "### Intervals \n",
    "\n",
    "The `intervals` group contains all time interval tables from the experiment -- things like, did the animal respond on the behavioral trial? Usefully, we can take `intervals` and convert it to a tidy dataframe using `to_dataframe()`."
   ]
  },
  {
   "cell_type": "code",
   "execution_count": 8,
   "metadata": {},
   "outputs": [
    {
     "data": {
      "text/html": [
       "<div>\n",
       "<style scoped>\n",
       "    .dataframe tbody tr th:only-of-type {\n",
       "        vertical-align: middle;\n",
       "    }\n",
       "\n",
       "    .dataframe tbody tr th {\n",
       "        vertical-align: top;\n",
       "    }\n",
       "\n",
       "    .dataframe thead th {\n",
       "        text-align: right;\n",
       "    }\n",
       "</style>\n",
       "<table border=\"1\" class=\"dataframe\">\n",
       "  <thead>\n",
       "    <tr style=\"text-align: right;\">\n",
       "      <th></th>\n",
       "      <th>start_time</th>\n",
       "      <th>stop_time</th>\n",
       "      <th>type</th>\n",
       "      <th>response</th>\n",
       "      <th>stim_present</th>\n",
       "      <th>is_good</th>\n",
       "      <th>cue_start_time</th>\n",
       "      <th>pole_in_time</th>\n",
       "      <th>pole_out_time</th>\n",
       "    </tr>\n",
       "    <tr>\n",
       "      <th>id</th>\n",
       "      <th></th>\n",
       "      <th></th>\n",
       "      <th></th>\n",
       "      <th></th>\n",
       "      <th></th>\n",
       "      <th></th>\n",
       "      <th></th>\n",
       "      <th></th>\n",
       "      <th></th>\n",
       "    </tr>\n",
       "  </thead>\n",
       "  <tbody>\n",
       "    <tr>\n",
       "      <th>1</th>\n",
       "      <td>323.171</td>\n",
       "      <td>NaN</td>\n",
       "      <td>lick right</td>\n",
       "      <td>early lick</td>\n",
       "      <td>0</td>\n",
       "      <td>1</td>\n",
       "      <td>7.49698</td>\n",
       "      <td>3.93949</td>\n",
       "      <td>5.12748</td>\n",
       "    </tr>\n",
       "    <tr>\n",
       "      <th>2</th>\n",
       "      <td>329.570</td>\n",
       "      <td>NaN</td>\n",
       "      <td>lick right</td>\n",
       "      <td>early lick</td>\n",
       "      <td>0</td>\n",
       "      <td>1</td>\n",
       "      <td>11.81280</td>\n",
       "      <td>4.94181</td>\n",
       "      <td>5.94198</td>\n",
       "    </tr>\n",
       "    <tr>\n",
       "      <th>3</th>\n",
       "      <td>335.971</td>\n",
       "      <td>NaN</td>\n",
       "      <td>lick right</td>\n",
       "      <td>incorrect</td>\n",
       "      <td>0</td>\n",
       "      <td>1</td>\n",
       "      <td>6.62964</td>\n",
       "      <td>4.12915</td>\n",
       "      <td>5.12931</td>\n",
       "    </tr>\n",
       "    <tr>\n",
       "      <th>4</th>\n",
       "      <td>342.371</td>\n",
       "      <td>NaN</td>\n",
       "      <td>lick right</td>\n",
       "      <td>incorrect</td>\n",
       "      <td>0</td>\n",
       "      <td>1</td>\n",
       "      <td>6.41964</td>\n",
       "      <td>3.91915</td>\n",
       "      <td>4.91931</td>\n",
       "    </tr>\n",
       "    <tr>\n",
       "      <th>5</th>\n",
       "      <td>348.289</td>\n",
       "      <td>NaN</td>\n",
       "      <td>lick right</td>\n",
       "      <td>incorrect</td>\n",
       "      <td>0</td>\n",
       "      <td>1</td>\n",
       "      <td>12.66990</td>\n",
       "      <td>10.16930</td>\n",
       "      <td>11.16950</td>\n",
       "    </tr>\n",
       "  </tbody>\n",
       "</table>\n",
       "</div>"
      ],
      "text/plain": [
       "    start_time  stop_time        type    response  stim_present  is_good  \\\n",
       "id                                                                         \n",
       "1      323.171        NaN  lick right  early lick             0        1   \n",
       "2      329.570        NaN  lick right  early lick             0        1   \n",
       "3      335.971        NaN  lick right   incorrect             0        1   \n",
       "4      342.371        NaN  lick right   incorrect             0        1   \n",
       "5      348.289        NaN  lick right   incorrect             0        1   \n",
       "\n",
       "    cue_start_time  pole_in_time  pole_out_time  \n",
       "id                                               \n",
       "1          7.49698       3.93949        5.12748  \n",
       "2         11.81280       4.94181        5.94198  \n",
       "3          6.62964       4.12915        5.12931  \n",
       "4          6.41964       3.91915        4.91931  \n",
       "5         12.66990      10.16930       11.16950  "
      ]
     },
     "execution_count": 8,
     "metadata": {},
     "output_type": "execute_result"
    }
   ],
   "source": [
    "# Select the group of interest from the nwb file \n",
    "intervals = nwb_file.intervals\n",
    "\n",
    "# Pull out trials and assign it as a dataframe\n",
    "interval_trials_df = intervals['trials'].to_dataframe()\n",
    "interval_trials_df.head()"
   ]
  },
  {
   "cell_type": "markdown",
   "metadata": {},
   "source": [
    "In case you're wondering what these columns are, the `description` attribute provides a short description on each column of the dataframe."
   ]
  },
  {
   "cell_type": "code",
   "execution_count": 12,
   "metadata": {},
   "outputs": [
    {
     "name": "stdout",
     "output_type": "stream",
     "text": [
      "start_time : Start time of epoch, in seconds\n",
      "stop_time : Stop time of epoch, in seconds\n",
      "type : \n",
      "response : \n",
      "stim_present : is this a stim or no-stim trial\n",
      "is_good : good/bad status of trial (bad trials are not analyzed)\n",
      "cue_start_time : onset of response period\n",
      "pole_in_time : onset of sample period\n",
      "pole_out_time : onset of the delay period\n"
     ]
    }
   ],
   "source": [
    "# return the description of each col in our dataframe\n",
    "for col in interval_trials_df:\n",
    "    print(col,':',intervals['trials'][col].description)"
   ]
  },
  {
   "cell_type": "markdown",
   "metadata": {},
   "source": [
    "### Units\n",
    "\n",
    "But wait, where's all of the neural data? The `units` group in our NWB file contains the processed signals from our individual neurons (**units**), including information about the spike sorting quality as well as the spike times -- when each of these cells fired an action potential. Much like the `intervals` group, `units` can also be assigned to a dataframe.\n",
    "\n",
    "\n",
    ">**Why \"units\"**? In extracellular electrophysiology, we aren't recording *directly* from neurons. Instead, we're recording from the space around many neurons. As a result, researchers need to take the recorded voltage streams and determine which spikes in voltage originated in different neurons. This process is called **spike sorting**. Although we can do spike sorting fairly automatically and be fairly confident that we've correctly identified different neurons, we can't know *with complete confidence*. So, researchers tend to call \"neurons\" in extracellular recordings \"units,\" reflecting that we *think* it's a separate neuron, but don't know for sure. You'll also see \"multi-unit activity\" (MUA) in some papers, in which case the researchers were unable to separate single neurons."
   ]
  },
  {
   "cell_type": "code",
   "execution_count": 5,
   "metadata": {
    "scrolled": true
   },
   "outputs": [
    {
     "data": {
      "text/html": [
       "<div>\n",
       "<style scoped>\n",
       "    .dataframe tbody tr th:only-of-type {\n",
       "        vertical-align: middle;\n",
       "    }\n",
       "\n",
       "    .dataframe tbody tr th {\n",
       "        vertical-align: top;\n",
       "    }\n",
       "\n",
       "    .dataframe thead th {\n",
       "        text-align: right;\n",
       "    }\n",
       "</style>\n",
       "<table border=\"1\" class=\"dataframe\">\n",
       "  <thead>\n",
       "    <tr style=\"text-align: right;\">\n",
       "      <th></th>\n",
       "      <th>depth</th>\n",
       "      <th>quality</th>\n",
       "      <th>cell_type</th>\n",
       "      <th>spike_times</th>\n",
       "      <th>electrodes</th>\n",
       "    </tr>\n",
       "    <tr>\n",
       "      <th>id</th>\n",
       "      <th></th>\n",
       "      <th></th>\n",
       "      <th></th>\n",
       "      <th></th>\n",
       "      <th></th>\n",
       "    </tr>\n",
       "  </thead>\n",
       "  <tbody>\n",
       "    <tr>\n",
       "      <th>1</th>\n",
       "      <td>665.0</td>\n",
       "      <td>Poor</td>\n",
       "      <td>unidentified</td>\n",
       "      <td>[933.873288, 948.2774710000008, 950.5357110000...</td>\n",
       "      <td>x      y      z     imp  \\\n",
       "id         ...</td>\n",
       "    </tr>\n",
       "    <tr>\n",
       "      <th>2</th>\n",
       "      <td>665.0</td>\n",
       "      <td>Fair</td>\n",
       "      <td>unidentified</td>\n",
       "      <td>[329.95417899999956, 330.01945899999953, 330.0...</td>\n",
       "      <td>x      y      z     imp  \\\n",
       "id         ...</td>\n",
       "    </tr>\n",
       "    <tr>\n",
       "      <th>3</th>\n",
       "      <td>715.0</td>\n",
       "      <td></td>\n",
       "      <td>unidentified</td>\n",
       "      <td>[329.94165899999956, 329.9998989999996, 330.00...</td>\n",
       "      <td>x      y      z     imp  \\\n",
       "id         ...</td>\n",
       "    </tr>\n",
       "    <tr>\n",
       "      <th>4</th>\n",
       "      <td>715.0</td>\n",
       "      <td>[]</td>\n",
       "      <td>unidentified</td>\n",
       "      <td>[329.93145899999956, 330.7492189999995, 330.77...</td>\n",
       "      <td>x      y      z     imp  \\\n",
       "id         ...</td>\n",
       "    </tr>\n",
       "    <tr>\n",
       "      <th>5</th>\n",
       "      <td>715.0</td>\n",
       "      <td>Fair</td>\n",
       "      <td>unidentified</td>\n",
       "      <td>[331.09961899999956, 332.14505899999955, 333.3...</td>\n",
       "      <td>x      y      z     imp  \\\n",
       "id         ...</td>\n",
       "    </tr>\n",
       "  </tbody>\n",
       "</table>\n",
       "</div>"
      ],
      "text/plain": [
       "    depth quality     cell_type  \\\n",
       "id                                \n",
       "1   665.0    Poor  unidentified   \n",
       "2   665.0    Fair  unidentified   \n",
       "3   715.0          unidentified   \n",
       "4   715.0      []  unidentified   \n",
       "5   715.0    Fair  unidentified   \n",
       "\n",
       "                                          spike_times  \\\n",
       "id                                                      \n",
       "1   [933.873288, 948.2774710000008, 950.5357110000...   \n",
       "2   [329.95417899999956, 330.01945899999953, 330.0...   \n",
       "3   [329.94165899999956, 329.9998989999996, 330.00...   \n",
       "4   [329.93145899999956, 330.7492189999995, 330.77...   \n",
       "5   [331.09961899999956, 332.14505899999955, 333.3...   \n",
       "\n",
       "                                           electrodes  \n",
       "id                                                     \n",
       "1           x      y      z     imp  \\\n",
       "id         ...  \n",
       "2           x      y      z     imp  \\\n",
       "id         ...  \n",
       "3           x      y      z     imp  \\\n",
       "id         ...  \n",
       "4           x      y      z     imp  \\\n",
       "id         ...  \n",
       "5           x      y      z     imp  \\\n",
       "id         ...  "
      ]
     },
     "execution_count": 5,
     "metadata": {},
     "output_type": "execute_result"
    }
   ],
   "source": [
    "units = nwb_file.units\n",
    "units_df = units.to_dataframe()\n",
    "units_df.head()"
   ]
  },
  {
   "cell_type": "markdown",
   "metadata": {},
   "source": [
    "If we'd like to know where these spikes are coming from, we can look at the `electrodes` attribute. The `electrodes` group contains metadata about the electrodes used in the experiment, including the location of the electrodes, the type of filtering done on that channel, and which electrode group the electrode belongs to. "
   ]
  },
  {
   "cell_type": "code",
   "execution_count": 7,
   "metadata": {
    "scrolled": true
   },
   "outputs": [
    {
     "data": {
      "text/html": [
       "<div>\n",
       "<style scoped>\n",
       "    .dataframe tbody tr th:only-of-type {\n",
       "        vertical-align: middle;\n",
       "    }\n",
       "\n",
       "    .dataframe tbody tr th {\n",
       "        vertical-align: top;\n",
       "    }\n",
       "\n",
       "    .dataframe thead th {\n",
       "        text-align: right;\n",
       "    }\n",
       "</style>\n",
       "<table border=\"1\" class=\"dataframe\">\n",
       "  <thead>\n",
       "    <tr style=\"text-align: right;\">\n",
       "      <th></th>\n",
       "      <th>x</th>\n",
       "      <th>y</th>\n",
       "      <th>z</th>\n",
       "      <th>imp</th>\n",
       "      <th>location</th>\n",
       "      <th>filtering</th>\n",
       "      <th>group</th>\n",
       "      <th>group_name</th>\n",
       "    </tr>\n",
       "    <tr>\n",
       "      <th>id</th>\n",
       "      <th></th>\n",
       "      <th></th>\n",
       "      <th></th>\n",
       "      <th></th>\n",
       "      <th></th>\n",
       "      <th></th>\n",
       "      <th></th>\n",
       "      <th></th>\n",
       "    </tr>\n",
       "  </thead>\n",
       "  <tbody>\n",
       "    <tr>\n",
       "      <th>1</th>\n",
       "      <td>0.0</td>\n",
       "      <td>0.0</td>\n",
       "      <td>0.0</td>\n",
       "      <td>-1.0</td>\n",
       "      <td>brain_region: ALM; brain_subregion: N/A; corti...</td>\n",
       "      <td>Bandpass filtered 300-6K Hz</td>\n",
       "      <td>H-129: 64 pynwb.ecephys.ElectrodeGroup at 0x14...</td>\n",
       "      <td>H-129: 64</td>\n",
       "    </tr>\n",
       "    <tr>\n",
       "      <th>2</th>\n",
       "      <td>0.0</td>\n",
       "      <td>0.0</td>\n",
       "      <td>0.0</td>\n",
       "      <td>-1.0</td>\n",
       "      <td>brain_region: ALM; brain_subregion: N/A; corti...</td>\n",
       "      <td>Bandpass filtered 300-6K Hz</td>\n",
       "      <td>H-129: 64 pynwb.ecephys.ElectrodeGroup at 0x14...</td>\n",
       "      <td>H-129: 64</td>\n",
       "    </tr>\n",
       "    <tr>\n",
       "      <th>3</th>\n",
       "      <td>0.0</td>\n",
       "      <td>0.0</td>\n",
       "      <td>0.0</td>\n",
       "      <td>-1.0</td>\n",
       "      <td>brain_region: ALM; brain_subregion: N/A; corti...</td>\n",
       "      <td>Bandpass filtered 300-6K Hz</td>\n",
       "      <td>H-129: 64 pynwb.ecephys.ElectrodeGroup at 0x14...</td>\n",
       "      <td>H-129: 64</td>\n",
       "    </tr>\n",
       "    <tr>\n",
       "      <th>4</th>\n",
       "      <td>0.0</td>\n",
       "      <td>0.0</td>\n",
       "      <td>0.0</td>\n",
       "      <td>-1.0</td>\n",
       "      <td>brain_region: ALM; brain_subregion: N/A; corti...</td>\n",
       "      <td>Bandpass filtered 300-6K Hz</td>\n",
       "      <td>H-129: 64 pynwb.ecephys.ElectrodeGroup at 0x14...</td>\n",
       "      <td>H-129: 64</td>\n",
       "    </tr>\n",
       "    <tr>\n",
       "      <th>5</th>\n",
       "      <td>0.0</td>\n",
       "      <td>0.0</td>\n",
       "      <td>0.0</td>\n",
       "      <td>-1.0</td>\n",
       "      <td>brain_region: ALM; brain_subregion: N/A; corti...</td>\n",
       "      <td>Bandpass filtered 300-6K Hz</td>\n",
       "      <td>H-129: 64 pynwb.ecephys.ElectrodeGroup at 0x14...</td>\n",
       "      <td>H-129: 64</td>\n",
       "    </tr>\n",
       "  </tbody>\n",
       "</table>\n",
       "</div>"
      ],
      "text/plain": [
       "      x    y    z  imp                                           location  \\\n",
       "id                                                                          \n",
       "1   0.0  0.0  0.0 -1.0  brain_region: ALM; brain_subregion: N/A; corti...   \n",
       "2   0.0  0.0  0.0 -1.0  brain_region: ALM; brain_subregion: N/A; corti...   \n",
       "3   0.0  0.0  0.0 -1.0  brain_region: ALM; brain_subregion: N/A; corti...   \n",
       "4   0.0  0.0  0.0 -1.0  brain_region: ALM; brain_subregion: N/A; corti...   \n",
       "5   0.0  0.0  0.0 -1.0  brain_region: ALM; brain_subregion: N/A; corti...   \n",
       "\n",
       "                      filtering  \\\n",
       "id                                \n",
       "1   Bandpass filtered 300-6K Hz   \n",
       "2   Bandpass filtered 300-6K Hz   \n",
       "3   Bandpass filtered 300-6K Hz   \n",
       "4   Bandpass filtered 300-6K Hz   \n",
       "5   Bandpass filtered 300-6K Hz   \n",
       "\n",
       "                                                group group_name  \n",
       "id                                                                \n",
       "1   H-129: 64 pynwb.ecephys.ElectrodeGroup at 0x14...  H-129: 64  \n",
       "2   H-129: 64 pynwb.ecephys.ElectrodeGroup at 0x14...  H-129: 64  \n",
       "3   H-129: 64 pynwb.ecephys.ElectrodeGroup at 0x14...  H-129: 64  \n",
       "4   H-129: 64 pynwb.ecephys.ElectrodeGroup at 0x14...  H-129: 64  \n",
       "5   H-129: 64 pynwb.ecephys.ElectrodeGroup at 0x14...  H-129: 64  "
      ]
     },
     "execution_count": 7,
     "metadata": {},
     "output_type": "execute_result"
    }
   ],
   "source": [
    "# electrode positions \n",
    "electrodes = nwb_file.electrodes\n",
    "electrodes_df = electrodes.to_dataframe()\n",
    "electrodes_df.head()"
   ]
  },
  {
   "cell_type": "markdown",
   "metadata": {},
   "source": [
    "Wondering what something in this table is? We can once again dig out the descriptions:\n",
    "\n",
    "> Not sure what's happening below? See the Python Review for a refresher on for loops."
   ]
  },
  {
   "cell_type": "code",
   "execution_count": 8,
   "metadata": {},
   "outputs": [
    {
     "name": "stdout",
     "output_type": "stream",
     "text": [
      "x : the x coordinate of the channel location\n",
      "y : the y coordinate of the channel location\n",
      "z : the z coordinate of the channel location\n",
      "imp : the impedance of the channel\n",
      "location : the location of channel within the subject e.g. brain region\n",
      "filtering : description of hardware filtering\n",
      "group : a reference to the ElectrodeGroup this electrode is a part of\n",
      "group_name : the name of the ElectrodeGroup this electrode is a part of\n"
     ]
    }
   ],
   "source": [
    "# return the description of each col in our dataframe\n",
    "for col in electrodes_df:\n",
    "    print(col,':',nwb_file.electrodes[col].description)"
   ]
  },
  {
   "cell_type": "markdown",
   "metadata": {},
   "source": [
    "Now that we have an idea of what this file contains, we can finally take a look at some of the data! We'll do that in the next section. 💃\n",
    "\n",
    "<hr>\n",
    "\n",
    "## Additional Resources \n",
    "For a detailed explanation of all groups contained within an NWB File object please visit the <a href = 'https://pynwb.readthedocs.io/en/stable/pynwb.file.html'>pynwb.file.NWBFile</a> section of the PyNWB documentation. "
   ]
  }
 ],
 "metadata": {
  "kernelspec": {
   "display_name": "Python 3",
   "language": "python",
   "name": "python3"
  },
  "language_info": {
   "codemirror_mode": {
    "name": "ipython",
    "version": 3
   },
   "file_extension": ".py",
   "mimetype": "text/x-python",
   "name": "python",
   "nbconvert_exporter": "python",
   "pygments_lexer": "ipython3",
   "version": "3.7.3"
  }
 },
 "nbformat": 4,
 "nbformat_minor": 4
}
