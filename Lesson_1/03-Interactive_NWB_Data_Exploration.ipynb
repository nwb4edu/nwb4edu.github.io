{
 "cells": [
  {
   "cell_type": "markdown",
   "id": "375f6efa",
   "metadata": {},
   "source": [
    "# Interactive NWB Data Exploration\n",
    "\n",
    "As we saw in the last section, the NWB file contains a ton of information about the experiment, as well as the actual data. We can look through each of the groups in the NWB file to pull out this information, or we can use a handy widget created by the NWB team.\n",
    "\n",
    "This widget will also let us take a sneak peak at the behavioral and neural data as well. As a first pass, it can be very useful to explore the dataset in this high level way. This allows you to inspect the data for quality, and look for any interesting trends. \n",
    "\n",
    "First, let's set up our notebook and read the NWB file that we previously downloaded."
   ]
  },
  {
   "cell_type": "code",
   "execution_count": 5,
   "id": "c6009154",
   "metadata": {},
   "outputs": [
    {
     "name": "stdout",
     "output_type": "stream",
     "text": [
      "NWB file found and read.\n",
      "<class 'pynwb.file.NWBFile'>\n"
     ]
    }
   ],
   "source": [
    "# import necessary packages\n",
    "from pynwb import NWBHDF5IO\n",
    "from nwbwidgets import nwb2widget\n",
    "\n",
    "# set the filename\n",
    "filename = '000006/sub-anm369962/sub-anm369962_ses-20170310.nwb'\n",
    "\n",
    "# assign file as an NWBHDF5IO object\n",
    "io = NWBHDF5IO(filename, 'r')\n",
    "\n",
    "# read the file\n",
    "nwb_file = io.read()\n",
    "\n",
    "print('NWB file found and read.')\n",
    "print(type(nwb_file))"
   ]
  },
  {
   "cell_type": "markdown",
   "id": "bacba144",
   "metadata": {},
   "source": [
    "Below, we'll take advantage of the [`nwbwidgets` package](https://github.com/NeurodataWithoutBorders/nwb-jupyter-widgets) to explore the data. This package usefully automatically renders information and visualizations of the data, depending on what it is. We'll use the nwb2widget function to explore the dataset we read above.\n",
    "\n",
    "To take a peek at the neural data here, you can look under the \"Units\" header below. "
   ]
  },
  {
   "cell_type": "code",
   "execution_count": 4,
   "id": "00ce1294",
   "metadata": {
    "scrolled": false
   },
   "outputs": [
    {
     "data": {
      "application/vnd.jupyter.widget-view+json": {
       "model_id": "aaf1cc96e74e4163a0e6cb97b2733ece",
       "version_major": 2,
       "version_minor": 0
      },
      "text/plain": [
       "VBox(children=(HBox(children=(Label(value='session_description:', layout=Layout(max_height='40px', max_width='…"
      ]
     },
     "metadata": {},
     "output_type": "display_data"
    }
   ],
   "source": [
    "nwb2widget(nwb_file)"
   ]
  },
  {
   "cell_type": "markdown",
   "id": "81725d45",
   "metadata": {},
   "source": [
    "### Questions for consideration\n",
    "* What is the raw data being used to plot the visualizations in \"units\"? What is this data showing us?\n",
    "* What kinds of visualizations do you see under \"units\"? Which of these are summary visualizations, versus more raw visualizations?\n",
    "* Do you see any interesting trends in the data?"
   ]
  },
  {
   "cell_type": "markdown",
   "id": "86a05377",
   "metadata": {},
   "source": [
    "### Chapter Wrap Up\n",
    "\n",
    "In this chapter, we showed you how to explore an NWB file. We discussed common elements in the structure, and how you can use `nwbwidgets` to explore the data at a high level. \n",
    "\n",
    "Hopefully now you can:\n",
    "\n",
    "    ✔️ Explain the three common features of datasets: metadata, raw data, and processed data\n",
    "\n",
    "    ✔️ Identify and implement multiple ways to obtain a NWB dataset via DANDI\n",
    "\n",
    "    ✔️ Explore the metadata contained in a typical Dandiset\n",
    "\n",
    "    ✔️ Use an interactive widget for a big picture view of a Dandiset\n",
    "\n",
    "In the following chapters, we'll demonstrate different kinds of visualizations and analyses that you might do with the data.\n",
    "\n",
    "Before moving on, try the chapter problem set to test your understanding and to put some of these new skills to work. 💪"
   ]
  },
  {
   "cell_type": "markdown",
   "id": "b8c19a01",
   "metadata": {},
   "source": [
    "### Additional Resources\n",
    "* [Ben Dichter provides an overview of NWBWidgets](https://training.incf.org/lesson/nwbwidgets-inteactively-exploring-nwb-files)"
   ]
  }
 ],
 "metadata": {
  "kernelspec": {
   "display_name": "Python 3",
   "language": "python",
   "name": "python3"
  },
  "language_info": {
   "codemirror_mode": {
    "name": "ipython",
    "version": 3
   },
   "file_extension": ".py",
   "mimetype": "text/x-python",
   "name": "python",
   "nbconvert_exporter": "python",
   "pygments_lexer": "ipython3",
   "version": "3.7.3"
  }
 },
 "nbformat": 4,
 "nbformat_minor": 5
}
